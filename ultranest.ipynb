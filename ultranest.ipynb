{
 "cells": [
  {
   "cell_type": "code",
   "execution_count": 3,
   "metadata": {},
   "outputs": [],
   "source": [
    "import numpy as np\n",
    "import os\n",
    "from ultranest import ReactiveNestedSampler\n",
    "import joblib\n",
    "import warnings\n",
    "warnings.filterwarnings(\"ignore\")\n",
    "\n",
    "wp_path = '/mnt/data4/Abhishek/fidmock/wp'\n",
    "\n",
    "wp_filenames = ['wp_subsample_'+f'{files:04d}'+'.npy' for files in range(100)]\n",
    "wp = []\n",
    "for files in wp_filenames:\n",
    "    sample = np.load(os.path.join(wp_path,files))\n",
    "    wp.append(sample[0])\n",
    "wp_z = np.vstack(wp).T  \n",
    "wp_filenames = ['wp_subsample_'+f'{files:04d}'+'.npy' for files in range(100,200)]\n",
    "wp = []\n",
    "for files in wp_filenames:\n",
    "    sample = np.load(os.path.join(wp_path,files))\n",
    "    wp.append(sample[0])\n",
    "wp_x = np.vstack(wp).T \n",
    "wp_filenames = ['wp_subsample_'+f'{files:04d}'+'.npy' for files in range(200,300)]\n",
    "wp = []\n",
    "for files in wp_filenames:\n",
    "    sample = np.load(os.path.join(wp_path,files))\n",
    "    wp.append(sample[0])\n",
    "wp_y = np.vstack(wp).T \n",
    "\n",
    "\n",
    "wpz_cov = np.cov(wp_z,bias = True)\n",
    "wpx_cov = np.cov(wp_x,bias = True)\n",
    "wpy_cov = np.cov(wp_y,bias = True)\n",
    "wp_cov = 100*(wpz_cov + wpx_cov + wpy_cov)/3\n",
    "\n",
    "filename = 'wp_model.sav'\n",
    "# load the model from disk\n",
    "model = joblib.load(filename)\n",
    "wp_data = np.load('/mnt/data4/Abhishek/WP/wp_galaxies_0000.npy')[0]\n",
    "x_truth = np.array([13.088658, 14.060000, 0.980000, 1.130000, 0.900000])\n",
    "\n",
    "def wp_model(par):\n",
    "    result = model.predict(par.reshape(1,-1))\n",
    "    return result[0]\n",
    "\n",
    "parameters = ['M_cut','M1','sigma', 'kappa', 'alpha']\n",
    "\n",
    "\n",
    "def prior_transform(cube):\n",
    "    # the argument, cube, consists of values from 0 to 1\n",
    "    # we have to convert them to physical scales\n",
    "\n",
    "    params = cube.copy()\n",
    "    # let slope go from 12.0 to 15.0\n",
    "    lo = 12.0\n",
    "    hi = 15.0\n",
    "    params[0] = cube[0] * (hi - lo) + lo\n",
    "    # let slope go from 12.0 to 15.0\n",
    "    lo = 12.0\n",
    "    hi = 15.0\n",
    "    params[1] = cube[1] * (hi - lo) + lo\n",
    "    # let slope go from 1e-8 to 2.0\n",
    "    lo = 1e-8\n",
    "    hi = 2.0\n",
    "    params[2] = cube[2] * (hi - lo) + lo\n",
    "    # let slope go from 1e-8 to 2.0\n",
    "    lo = 1e-8\n",
    "    hi = 2.0\n",
    "    params[3] = cube[3] * (hi - lo) + lo\n",
    "    # let slope go from 1e-8 to 2.0\n",
    "    lo = 1e-8\n",
    "    hi = 2.0\n",
    "    params[4] = cube[4] * (hi - lo) + lo    \n",
    "    return params\n",
    "\n",
    "\n",
    "\n",
    "\n",
    "def log_likelihood(par):\n",
    "    M_cut,M1 ,sigma, kappa, alpha = par\n",
    "    diff = wp_data - wp_model(par)\n",
    "    return  -0.5 * np.dot(diff, np.linalg.solve(wp_cov, diff))\n",
    "\n",
    "\n",
    "\n",
    "\n",
    "\n"
   ]
  },
  {
   "cell_type": "code",
   "execution_count": 4,
   "metadata": {},
   "outputs": [
    {
     "name": "stdout",
     "output_type": "stream",
     "text": [
      "[ultranest] Sampling 400 live points from prior ...\n"
     ]
    },
    {
     "ename": "ImportError",
     "evalue": "cannot import name 'GridspecLayout' from 'ipywidgets' (/home/ajana/.local/lib/python3.7/site-packages/ipywidgets/__init__.py)",
     "output_type": "error",
     "traceback": [
      "\u001b[0;31m---------------------------------------------------------------------------\u001b[0m",
      "\u001b[0;31mImportError\u001b[0m                               Traceback (most recent call last)",
      "\u001b[0;32m<ipython-input-4-003131f575e7>\u001b[0m in \u001b[0;36m<module>\u001b[0;34m\u001b[0m\n\u001b[1;32m      1\u001b[0m \u001b[0msampler\u001b[0m \u001b[0;34m=\u001b[0m \u001b[0mReactiveNestedSampler\u001b[0m\u001b[0;34m(\u001b[0m\u001b[0mparameters\u001b[0m\u001b[0;34m,\u001b[0m \u001b[0mlog_likelihood\u001b[0m\u001b[0;34m,\u001b[0m \u001b[0mprior_transform\u001b[0m\u001b[0;34m)\u001b[0m\u001b[0;34m\u001b[0m\u001b[0;34m\u001b[0m\u001b[0m\n\u001b[1;32m      2\u001b[0m \u001b[0;34m\u001b[0m\u001b[0m\n\u001b[0;32m----> 3\u001b[0;31m \u001b[0mresult\u001b[0m \u001b[0;34m=\u001b[0m \u001b[0msampler\u001b[0m\u001b[0;34m.\u001b[0m\u001b[0mrun\u001b[0m\u001b[0;34m(\u001b[0m\u001b[0mmin_num_live_points\u001b[0m\u001b[0;34m=\u001b[0m\u001b[0;36m400\u001b[0m\u001b[0;34m,\u001b[0m \u001b[0mdKL\u001b[0m\u001b[0;34m=\u001b[0m\u001b[0mnp\u001b[0m\u001b[0;34m.\u001b[0m\u001b[0minf\u001b[0m\u001b[0;34m,\u001b[0m \u001b[0mmin_ess\u001b[0m\u001b[0;34m=\u001b[0m\u001b[0;36m100\u001b[0m\u001b[0;34m)\u001b[0m\u001b[0;34m\u001b[0m\u001b[0;34m\u001b[0m\u001b[0m\n\u001b[0m",
      "\u001b[0;32m~/anaconda3/lib/python3.7/site-packages/ultranest/integrator.py\u001b[0m in \u001b[0;36mrun\u001b[0;34m(self, update_interval_iter_fraction, update_interval_ncall, log_interval, show_status, viz_callback, dlogz, dKL, frac_remain, Lepsilon, min_ess, max_iters, max_ncalls, max_num_improvement_loops, min_num_live_points, cluster_num_live_points)\u001b[0m\n\u001b[1;32m   1786\u001b[0m             \u001b[0mcluster_num_live_points\u001b[0m\u001b[0;34m=\u001b[0m\u001b[0mcluster_num_live_points\u001b[0m\u001b[0;34m,\u001b[0m\u001b[0;34m\u001b[0m\u001b[0;34m\u001b[0m\u001b[0m\n\u001b[1;32m   1787\u001b[0m             \u001b[0mshow_status\u001b[0m\u001b[0;34m=\u001b[0m\u001b[0mshow_status\u001b[0m\u001b[0;34m,\u001b[0m\u001b[0;34m\u001b[0m\u001b[0;34m\u001b[0m\u001b[0m\n\u001b[0;32m-> 1788\u001b[0;31m             \u001b[0mviz_callback\u001b[0m\u001b[0;34m=\u001b[0m\u001b[0mviz_callback\u001b[0m\u001b[0;34m,\u001b[0m\u001b[0;34m\u001b[0m\u001b[0;34m\u001b[0m\u001b[0m\n\u001b[0m\u001b[1;32m   1789\u001b[0m         ):\n\u001b[1;32m   1790\u001b[0m             \u001b[0;32mif\u001b[0m \u001b[0mself\u001b[0m\u001b[0;34m.\u001b[0m\u001b[0mlog\u001b[0m\u001b[0;34m:\u001b[0m\u001b[0;34m\u001b[0m\u001b[0;34m\u001b[0m\u001b[0m\n",
      "\u001b[0;32m~/anaconda3/lib/python3.7/site-packages/ultranest/integrator.py\u001b[0m in \u001b[0;36mrun_iter\u001b[0;34m(self, update_interval_iter_fraction, update_interval_ncall, log_interval, dlogz, dKL, frac_remain, Lepsilon, min_ess, max_iters, max_ncalls, max_num_improvement_loops, min_num_live_points, cluster_num_live_points, show_status, viz_callback)\u001b[0m\n\u001b[1;32m   1998\u001b[0m                                 ),\n\u001b[1;32m   1999\u001b[0m                                 \u001b[0mregion\u001b[0m\u001b[0;34m=\u001b[0m\u001b[0mself\u001b[0m\u001b[0;34m.\u001b[0m\u001b[0mregion\u001b[0m\u001b[0;34m,\u001b[0m \u001b[0mtransformLayer\u001b[0m\u001b[0;34m=\u001b[0m\u001b[0mself\u001b[0m\u001b[0;34m.\u001b[0m\u001b[0mtransformLayer\u001b[0m\u001b[0;34m,\u001b[0m\u001b[0;34m\u001b[0m\u001b[0;34m\u001b[0m\u001b[0m\n\u001b[0;32m-> 2000\u001b[0;31m                                 \u001b[0mregion_fresh\u001b[0m\u001b[0;34m=\u001b[0m\u001b[0mregion_fresh\u001b[0m\u001b[0;34m,\u001b[0m\u001b[0;34m\u001b[0m\u001b[0;34m\u001b[0m\u001b[0m\n\u001b[0m\u001b[1;32m   2001\u001b[0m                             )\n\u001b[1;32m   2002\u001b[0m                             \u001b[0mself\u001b[0m\u001b[0;34m.\u001b[0m\u001b[0mpointstore\u001b[0m\u001b[0;34m.\u001b[0m\u001b[0mflush\u001b[0m\u001b[0;34m(\u001b[0m\u001b[0;34m)\u001b[0m\u001b[0;34m\u001b[0m\u001b[0;34m\u001b[0m\u001b[0m\n",
      "\u001b[0;32m~/anaconda3/lib/python3.7/site-packages/ultranest/viz.py\u001b[0m in \u001b[0;36m__call__\u001b[0;34m(self, points, info, region, transformLayer, region_fresh)\u001b[0m\n\u001b[1;32m    285\u001b[0m \u001b[0;34m\u001b[0m\u001b[0m\n\u001b[1;32m    286\u001b[0m         \u001b[0;32mif\u001b[0m \u001b[0mself\u001b[0m\u001b[0;34m.\u001b[0m\u001b[0mgrid\u001b[0m \u001b[0;32mis\u001b[0m \u001b[0;32mNone\u001b[0m\u001b[0;34m:\u001b[0m\u001b[0;34m\u001b[0m\u001b[0;34m\u001b[0m\u001b[0m\n\u001b[0;32m--> 287\u001b[0;31m             \u001b[0mself\u001b[0m\u001b[0;34m.\u001b[0m\u001b[0minitialize\u001b[0m\u001b[0;34m(\u001b[0m\u001b[0mparamnames\u001b[0m\u001b[0;34m,\u001b[0m \u001b[0mwidth\u001b[0m\u001b[0;34m)\u001b[0m\u001b[0;34m\u001b[0m\u001b[0;34m\u001b[0m\u001b[0m\n\u001b[0m\u001b[1;32m    288\u001b[0m \u001b[0;34m\u001b[0m\u001b[0m\n\u001b[1;32m    289\u001b[0m         \u001b[0mindices\u001b[0m \u001b[0;34m=\u001b[0m \u001b[0;34m(\u001b[0m\u001b[0;34m(\u001b[0m\u001b[0mp\u001b[0m \u001b[0;34m-\u001b[0m \u001b[0mplo_rounded\u001b[0m\u001b[0;34m)\u001b[0m \u001b[0;34m*\u001b[0m \u001b[0mwidth\u001b[0m \u001b[0;34m/\u001b[0m \u001b[0;34m(\u001b[0m\u001b[0mphi_rounded\u001b[0m \u001b[0;34m-\u001b[0m \u001b[0mplo_rounded\u001b[0m\u001b[0;34m)\u001b[0m\u001b[0;34m.\u001b[0m\u001b[0mreshape\u001b[0m\u001b[0;34m(\u001b[0m\u001b[0;34m(\u001b[0m\u001b[0;36m1\u001b[0m\u001b[0;34m,\u001b[0m \u001b[0;34m-\u001b[0m\u001b[0;36m1\u001b[0m\u001b[0;34m)\u001b[0m\u001b[0;34m)\u001b[0m\u001b[0;34m)\u001b[0m\u001b[0;34m.\u001b[0m\u001b[0mastype\u001b[0m\u001b[0;34m(\u001b[0m\u001b[0mint\u001b[0m\u001b[0;34m)\u001b[0m\u001b[0;34m\u001b[0m\u001b[0;34m\u001b[0m\u001b[0m\n",
      "\u001b[0;32m~/anaconda3/lib/python3.7/site-packages/ultranest/viz.py\u001b[0m in \u001b[0;36minitialize\u001b[0;34m(self, paramnames, width)\u001b[0m\n\u001b[1;32m    225\u001b[0m \u001b[0;34m\u001b[0m\u001b[0m\n\u001b[1;32m    226\u001b[0m         \"\"\"\n\u001b[0;32m--> 227\u001b[0;31m         \u001b[0;32mfrom\u001b[0m \u001b[0mipywidgets\u001b[0m \u001b[0;32mimport\u001b[0m \u001b[0mHTML\u001b[0m\u001b[0;34m,\u001b[0m \u001b[0mVBox\u001b[0m\u001b[0;34m,\u001b[0m \u001b[0mGridBox\u001b[0m\u001b[0;34m,\u001b[0m \u001b[0mLayout\u001b[0m\u001b[0;34m,\u001b[0m \u001b[0mGridspecLayout\u001b[0m\u001b[0;34m\u001b[0m\u001b[0;34m\u001b[0m\u001b[0m\n\u001b[0m\u001b[1;32m    228\u001b[0m         \u001b[0;32mfrom\u001b[0m \u001b[0mIPython\u001b[0m\u001b[0;34m.\u001b[0m\u001b[0mdisplay\u001b[0m \u001b[0;32mimport\u001b[0m \u001b[0mdisplay\u001b[0m\u001b[0;34m\u001b[0m\u001b[0;34m\u001b[0m\u001b[0m\n\u001b[1;32m    229\u001b[0m \u001b[0;34m\u001b[0m\u001b[0m\n",
      "\u001b[0;31mImportError\u001b[0m: cannot import name 'GridspecLayout' from 'ipywidgets' (/home/ajana/.local/lib/python3.7/site-packages/ipywidgets/__init__.py)"
     ]
    }
   ],
   "source": [
    "sampler = ReactiveNestedSampler(parameters, log_likelihood, prior_transform)\n",
    "\n",
    "result = sampler.run(min_num_live_points=400, dKL=np.inf, min_ess=100)\n"
   ]
  },
  {
   "cell_type": "code",
   "execution_count": null,
   "metadata": {},
   "outputs": [],
   "source": [
    "sampler.print_results()"
   ]
  },
  {
   "cell_type": "code",
   "execution_count": null,
   "metadata": {},
   "outputs": [
    {
     "name": "stdout",
     "output_type": "stream",
     "text": [
      "[ultranest] Sampling 400 live points from prior ...\r\n"
     ]
    }
   ],
   "source": [
    "!python wp_ultranest.py"
   ]
  },
  {
   "cell_type": "code",
   "execution_count": null,
   "metadata": {},
   "outputs": [],
   "source": []
  }
 ],
 "metadata": {
  "kernelspec": {
   "display_name": "Python 3",
   "language": "python",
   "name": "python3"
  },
  "language_info": {
   "codemirror_mode": {
    "name": "ipython",
    "version": 3
   },
   "file_extension": ".py",
   "mimetype": "text/x-python",
   "name": "python",
   "nbconvert_exporter": "python",
   "pygments_lexer": "ipython3",
   "version": "3.7.9"
  }
 },
 "nbformat": 4,
 "nbformat_minor": 2
}
