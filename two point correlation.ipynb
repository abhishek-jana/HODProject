{
 "cells": [
  {
   "cell_type": "code",
   "execution_count": 73,
   "metadata": {},
   "outputs": [],
   "source": [
    "import numpy as np\n",
    "from numpy import load,logspace\n",
    "from halotools.mock_observables import wp\n",
    "import matplotlib.pyplot as plt"
   ]
  },
  {
   "cell_type": "code",
   "execution_count": 139,
   "metadata": {},
   "outputs": [],
   "source": [
    "fin_cen = load('/home/ajana/mockHOD/central/galaxies_0000.npy')"
   ]
  },
  {
   "cell_type": "code",
   "execution_count": 144,
   "metadata": {},
   "outputs": [],
   "source": [
    "fin_sat = load('/home/ajana/mockHOD/satellite/galaxies_0000.npy')"
   ]
  },
  {
   "cell_type": "code",
   "execution_count": 145,
   "metadata": {},
   "outputs": [],
   "source": [
    "bins = logspace(-1,1.5,30)\n",
    "L = 2500.\n",
    "pi_max = 60"
   ]
  },
  {
   "cell_type": "code",
   "execution_count": 146,
   "metadata": {},
   "outputs": [
    {
     "data": {
      "text/plain": [
       "(27308458, 3)"
      ]
     },
     "execution_count": 146,
     "metadata": {},
     "output_type": "execute_result"
    }
   ],
   "source": [
    "fin_sat.shape"
   ]
  },
  {
   "cell_type": "code",
   "execution_count": 40,
   "metadata": {},
   "outputs": [
    {
     "data": {
      "text/plain": [
       "array([244.21218925, 225.40867915, 206.16245512, 184.05369103,\n",
       "       163.17010566, 143.36686076, 124.72317842, 108.05998623,\n",
       "        93.61433   ,  81.19183747,  70.47903223,  61.19184663,\n",
       "        53.43865055,  46.80426224,  41.03192764,  35.99020347,\n",
       "        31.55301058,  27.50601306,  23.87389425,  20.58603173,\n",
       "        17.64927996,  14.90859045,  12.42269207,  10.18755092,\n",
       "         8.17607987,   6.40459389,   4.87579057,   3.58808422,\n",
       "         2.52577452])"
      ]
     },
     "execution_count": 40,
     "metadata": {},
     "output_type": "execute_result"
    }
   ],
   "source": [
    "corr1"
   ]
  },
  {
   "cell_type": "code",
   "execution_count": 147,
   "metadata": {},
   "outputs": [
    {
     "name": "stdout",
     "output_type": "stream",
     "text": [
      "CPU times: user 1min 22s, sys: 2min 50s, total: 4min 12s\n",
      "Wall time: 5min 56s\n"
     ]
    }
   ],
   "source": [
    "%time corr1 = wp(sample1 = fin_sat, rp_bins = bins, pi_max = pi_max, period=L, num_threads='max')"
   ]
  },
  {
   "cell_type": "code",
   "execution_count": 148,
   "metadata": {},
   "outputs": [
    {
     "data": {
      "image/png": "[encoded data removed]",
      "text/plain": [
       "<Figure size 432x288 with 1 Axes>"
      ]
     },
     "metadata": {
      "needs_background": "light"
     },
     "output_type": "display_data"
    }
   ],
   "source": [
    "\n",
    "plt.loglog(bins[:-1],corr1,'o')\n",
    "plt.show()"
   ]
  },
  {
   "cell_type": "code",
   "execution_count": 149,
   "metadata": {},
   "outputs": [
    {
     "data": {
      "image/png": "[encoded data removed]",
      "text/plain": [
       "<Figure size 432x288 with 1 Axes>"
      ]
     },
     "metadata": {
      "needs_background": "light"
     },
     "output_type": "display_data"
    }
   ],
   "source": [
    "import seaborn as sns\n",
    "plt.loglog(bins[:-1],corr1,'o')\n",
    "plt.show()"
   ]
  },
  {
   "cell_type": "code",
   "execution_count": 52,
   "metadata": {},
   "outputs": [],
   "source": [
    "f = load(\"/mnt/data1/MDhalos.npy\")\n",
    "f = f[:100]\n",
    "#corr = wp(sample1 = f, rp_bins = bins,do_auto=False,do_cross=False, pi_max = pi_max, period=L)\n",
    "#plt.loglog(bins[:-1],corr,'o')\n",
    "#plt.show()"
   ]
  },
  {
   "cell_type": "code",
   "execution_count": 53,
   "metadata": {},
   "outputs": [],
   "source": [
    "np.savetxt('fake_data.txt',f)"
   ]
  },
  {
   "cell_type": "code",
   "execution_count": null,
   "metadata": {},
   "outputs": [],
   "source": [
    "res.shape"
   ]
  },
  {
   "cell_type": "code",
   "execution_count": 42,
   "metadata": {},
   "outputs": [],
   "source": [
    "i = 0\n",
    "res = []\n",
    "while i< len(f):\n",
    "    res.append(f[i])\n",
    "    i += 15\n",
    "res = np.vstack(res)"
   ]
  },
  {
   "cell_type": "code",
   "execution_count": 49,
   "metadata": {},
   "outputs": [],
   "source": [
    "corr = wp(sample1 = f[:,(3,4,5)], rp_bins = bins,do_auto=False,do_cross=False, pi_max = pi_max, period=L)\n"
   ]
  },
  {
   "cell_type": "code",
   "execution_count": 50,
   "metadata": {},
   "outputs": [
    {
     "data": {
      "image/png": "[encoded data removed]",
      "text/plain": [
       "<Figure size 432x288 with 1 Axes>"
      ]
     },
     "metadata": {
      "needs_background": "light"
     },
     "output_type": "display_data"
    }
   ],
   "source": [
    "plt.loglog(bins[:-1],corr,'o')\n",
    "plt.show()"
   ]
  },
  {
   "cell_type": "code",
   "execution_count": 51,
   "metadata": {},
   "outputs": [
    {
     "data": {
      "text/plain": [
       "array([ 4.08201437e+06, -1.20000000e+02,  1.84514910e+06,  1.24052039e+06,\n",
       "        8.34006894e+05,  8.41100001e+05,  9.42517139e+05,  1.26741730e+06,\n",
       "        9.37311712e+05,  4.00960181e+05,  2.69540546e+05,  4.91986586e+05,\n",
       "        2.43672207e+05,  2.80868944e+05,  3.30488098e+05,  2.38036763e+05,\n",
       "        2.27608080e+05,  2.31936935e+05,  2.17021480e+05,  1.99943084e+05,\n",
       "        2.00553729e+05,  1.76840451e+05,  1.71771951e+05,  1.40640076e+05,\n",
       "        1.40722785e+05,  1.25139308e+05,  1.21839188e+05,  1.08066159e+05,\n",
       "        1.05494980e+05])"
      ]
     },
     "execution_count": 51,
     "metadata": {},
     "output_type": "execute_result"
    }
   ],
   "source": [
    "corr"
   ]
  },
  {
   "cell_type": "code",
   "execution_count": null,
   "metadata": {},
   "outputs": [],
   "source": []
  },
  {
   "cell_type": "code",
   "execution_count": 47,
   "metadata": {},
   "outputs": [
    {
     "data": {
      "text/plain": [
       "(100, 6)"
      ]
     },
     "execution_count": 47,
     "metadata": {},
     "output_type": "execute_result"
    }
   ],
   "source": [
    "f.shape"
   ]
  },
  {
   "cell_type": "code",
   "execution_count": 21,
   "metadata": {},
   "outputs": [],
   "source": [
    "import random\n",
    "a = random.sample(range(170000000), 27000000)\n",
    "\n"
   ]
  },
  {
   "cell_type": "code",
   "execution_count": 22,
   "metadata": {},
   "outputs": [
    {
     "name": "stdout",
     "output_type": "stream",
     "text": [
      "CPU times: user 2min 15s, sys: 2min 30s, total: 4min 45s\n",
      "Wall time: 5min 47s\n"
     ]
    }
   ],
   "source": [
    "%time corr = wp(sample1 = f[a], rp_bins = bins,do_auto=False,do_cross=False, pi_max = pi_max, period=L, num_threads='max')"
   ]
  },
  {
   "cell_type": "code",
   "execution_count": null,
   "metadata": {},
   "outputs": [],
   "source": [
    "plt.loglog(bins[:-1],corr,'o')\n",
    "plt.show()"
   ]
  },
  {
   "cell_type": "code",
   "execution_count": 25,
   "metadata": {
    "scrolled": true
   },
   "outputs": [
    {
     "data": {
      "text/plain": [
       "array([125.71017681, 117.98127854, 108.83839181,  98.30078854,\n",
       "        87.08064291,  76.16030166,  65.80784441,  55.63500633,\n",
       "        46.92246897,  39.31119815,  32.83284459,  27.48726493,\n",
       "        23.00375918,  19.13902185,  15.76294916,  12.80174083,\n",
       "        10.28312676,   8.19966834,   6.54035424])"
      ]
     },
     "execution_count": 25,
     "metadata": {},
     "output_type": "execute_result"
    }
   ],
   "source": [
    "corr"
   ]
  },
  {
   "cell_type": "code",
   "execution_count": null,
   "metadata": {},
   "outputs": [],
   "source": [
    "f[:,0]"
   ]
  },
  {
   "cell_type": "code",
   "execution_count": null,
   "metadata": {},
   "outputs": [],
   "source": [
    "f_dict = {tuple(f[i]):None for i in range(f.shape[0])}"
   ]
  },
  {
   "cell_type": "code",
   "execution_count": null,
   "metadata": {},
   "outputs": [],
   "source": [
    "count = 0\n",
    "for i in fin:\n",
    "    print (tuple(i))\n",
    "    if tuple(i) not in f_dict.keys():\n",
    "        count += 1"
   ]
  },
  {
   "cell_type": "code",
   "execution_count": null,
   "metadata": {},
   "outputs": [],
   "source": [
    "f_dict"
   ]
  },
  {
   "cell_type": "code",
   "execution_count": 35,
   "metadata": {},
   "outputs": [],
   "source": [
    "a = np.array([1,2,3,4,5,6,7])\n",
    "b = np.array([1,1,1,0,0,0,1])"
   ]
  },
  {
   "cell_type": "code",
   "execution_count": 38,
   "metadata": {},
   "outputs": [
    {
     "data": {
      "text/plain": [
       "[<matplotlib.lines.Line2D at 0x7f337ee8b510>]"
      ]
     },
     "execution_count": 38,
     "metadata": {},
     "output_type": "execute_result"
    },
    {
     "data": {
      "image/png": "[encoded data removed]",
      "text/plain": [
       "<Figure size 432x288 with 1 Axes>"
      ]
     },
     "metadata": {
      "needs_background": "light"
     },
     "output_type": "display_data"
    }
   ],
   "source": [
    "plt.plot(a,b,'o')"
   ]
  },
  {
   "cell_type": "code",
   "execution_count": 141,
   "metadata": {},
   "outputs": [],
   "source": [
    "range = np.logspace(np.log10(fin_cen[:,3].min()),np.log10(fin_cen[:,3].max()),30)\n",
    "c,bins = np.histogram(fin_cen[:,3],range)"
   ]
  },
  {
   "cell_type": "code",
   "execution_count": 142,
   "metadata": {},
   "outputs": [
    {
     "ename": "IndexError",
     "evalue": "index 3 is out of bounds for axis 1 with size 3",
     "output_type": "error",
     "traceback": [
      "\u001b[0;31m---------------------------------------------------------------------------\u001b[0m",
      "\u001b[0;31mIndexError\u001b[0m                                Traceback (most recent call last)",
      "\u001b[0;32m<ipython-input-142-bedca3e87341>\u001b[0m in \u001b[0;36m<module>\u001b[0;34m\u001b[0m\n\u001b[1;32m      1\u001b[0m \u001b[0;31m#range = np.logspace(np.log10(fin[:,3].min()),np.log10(fin[:,3].max()),30)\u001b[0m\u001b[0;34m\u001b[0m\u001b[0;34m\u001b[0m\u001b[0;34m\u001b[0m\u001b[0m\n\u001b[0;32m----> 2\u001b[0;31m \u001b[0msat\u001b[0m\u001b[0;34m,\u001b[0m\u001b[0mbins\u001b[0m \u001b[0;34m=\u001b[0m \u001b[0mnp\u001b[0m\u001b[0;34m.\u001b[0m\u001b[0mhistogram\u001b[0m\u001b[0;34m(\u001b[0m\u001b[0mfin_sat\u001b[0m\u001b[0;34m[\u001b[0m\u001b[0;34m:\u001b[0m\u001b[0;34m,\u001b[0m\u001b[0;36m3\u001b[0m\u001b[0;34m]\u001b[0m\u001b[0;34m,\u001b[0m\u001b[0mrange\u001b[0m\u001b[0;34m)\u001b[0m\u001b[0;34m\u001b[0m\u001b[0;34m\u001b[0m\u001b[0m\n\u001b[0m",
      "\u001b[0;31mIndexError\u001b[0m: index 3 is out of bounds for axis 1 with size 3"
     ]
    }
   ],
   "source": [
    "#range = np.logspace(np.log10(fin[:,3].min()),np.log10(fin[:,3].max()),30)\n",
    "sat,bins = np.histogram(fin_sat[:,3],range)"
   ]
  },
  {
   "cell_type": "code",
   "execution_count": 134,
   "metadata": {},
   "outputs": [
    {
     "data": {
      "text/plain": [
       "(array([      0,   16843,   36849,  134092,  882112, 3318069, 3553201,\n",
       "        3462762, 3449768, 3096185, 2730001, 2260692, 1875700, 1485514,\n",
       "        1141084,  853417,  615015,  426842,  283948,  178945,  106087,\n",
       "          58690,   29158,   12892,    4795,    1384,     347,      44,\n",
       "              6]),\n",
       " array([4.70440000e+10, 7.03413666e+10, 1.05176172e+11, 1.57262046e+11,\n",
       "        2.35142148e+11, 3.51590427e+11, 5.25706808e+11, 7.86049981e+11,\n",
       "        1.17532161e+12, 1.75737030e+12, 2.62766407e+12, 3.92894909e+12,\n",
       "        5.87466305e+12, 8.78394327e+12, 1.31339719e+13, 1.96382436e+13,\n",
       "        2.93635934e+13, 4.39051800e+13, 6.56481244e+13, 9.81587191e+13,\n",
       "        1.46769374e+14, 2.19453243e+14, 3.28131983e+14, 4.90631155e+14,\n",
       "        7.33603987e+14, 1.09690305e+15, 1.64011690e+15, 2.45234385e+15,\n",
       "        3.66680591e+15, 5.48270000e+15]))"
      ]
     },
     "execution_count": 134,
     "metadata": {},
     "output_type": "execute_result"
    }
   ],
   "source": [
    "c,bins"
   ]
  },
  {
   "cell_type": "code",
   "execution_count": 135,
   "metadata": {},
   "outputs": [
    {
     "data": {
      "image/png": "[encoded data removed]",
      "text/plain": [
       "<Figure size 576x576 with 1 Axes>"
      ]
     },
     "metadata": {
      "needs_background": "light"
     },
     "output_type": "display_data"
    }
   ],
   "source": [
    "plt.figure(figsize=(8,8))\n",
    "plt.plot(np.log10(bins[:-1]),c,'o')\n",
    "plt.show()"
   ]
  },
  {
   "cell_type": "code",
   "execution_count": 136,
   "metadata": {},
   "outputs": [
    {
     "data": {
      "image/png": "[encoded data removed]",
      "text/plain": [
       "<Figure size 432x288 with 1 Axes>"
      ]
     },
     "metadata": {
      "needs_background": "light"
     },
     "output_type": "display_data"
    }
   ],
   "source": [
    "plt.plot(np.log10(bins[:-1]),np.log10(c),'o')\n",
    "plt.show()"
   ]
  },
  {
   "cell_type": "code",
   "execution_count": 137,
   "metadata": {},
   "outputs": [
    {
     "data": {
      "image/png": "[encoded data removed]",
      "text/plain": [
       "<Figure size 1152x576 with 1 Axes>"
      ]
     },
     "metadata": {
      "needs_background": "light"
     },
     "output_type": "display_data"
    }
   ],
   "source": [
    "#fig = plt.figure()\n",
    "plt.figure(figsize=(16,8))\n",
    "#ax = fig.add_axes([0,0,1,1])\n",
    "plt.bar(np.log10(bins[:-1]) + 0.00,np.log10(c), color = 'b', width = 0.07)\n",
    "plt.bar(np.log10(bins[:-1]) + 0.07,np.log10(sat), color = 'r', width = 0.07)\n",
    "plt.ylabel('Log10(N)')\n",
    "plt.xlabel('Log10(Mass)')\n",
    "plt.legend(labels=['Cen', 'With Sat'])\n",
    "plt.savefig('lg(N)_vs_lg(M).png')"
   ]
  },
  {
   "cell_type": "code",
   "execution_count": 138,
   "metadata": {},
   "outputs": [
    {
     "data": {
      "image/png": "[encoded data removed]",
      "text/plain": [
       "<Figure size 1152x576 with 1 Axes>"
      ]
     },
     "metadata": {
      "needs_background": "light"
     },
     "output_type": "display_data"
    }
   ],
   "source": [
    "plt.figure(figsize=(16,8))\n",
    "plt.bar(np.log10(bins[:-1]) + 0.00,c, color = 'b', width = 0.07)\n",
    "plt.bar(np.log10(bins[:-1]) + 0.07,sat, color = 'r', width = 0.07)\n",
    "plt.ylabel('N')\n",
    "plt.xlabel('Log10(Mass)')\n",
    "plt.legend(labels=['Cen', 'With Sat'])\n",
    "plt.savefig('N_vs_lg(M).png')"
   ]
  },
  {
   "cell_type": "code",
   "execution_count": 59,
   "metadata": {},
   "outputs": [
    {
     "ename": "NameError",
     "evalue": "name 'f' is not defined",
     "output_type": "error",
     "traceback": [
      "\u001b[0;31m---------------------------------------------------------------------------\u001b[0m",
      "\u001b[0;31mNameError\u001b[0m                                 Traceback (most recent call last)",
      "\u001b[0;32m<ipython-input-59-1e9959122c44>\u001b[0m in \u001b[0;36m<module>\u001b[0;34m\u001b[0m\n\u001b[0;32m----> 1\u001b[0;31m \u001b[0mrange\u001b[0m \u001b[0;34m=\u001b[0m \u001b[0mnp\u001b[0m\u001b[0;34m.\u001b[0m\u001b[0mlogspace\u001b[0m\u001b[0;34m(\u001b[0m\u001b[0mnp\u001b[0m\u001b[0;34m.\u001b[0m\u001b[0mlog10\u001b[0m\u001b[0;34m(\u001b[0m\u001b[0mf\u001b[0m\u001b[0;34m.\u001b[0m\u001b[0mmin\u001b[0m\u001b[0;34m(\u001b[0m\u001b[0;34m)\u001b[0m\u001b[0;34m)\u001b[0m\u001b[0;34m,\u001b[0m\u001b[0mnp\u001b[0m\u001b[0;34m.\u001b[0m\u001b[0mlog10\u001b[0m\u001b[0;34m(\u001b[0m\u001b[0mf\u001b[0m\u001b[0;34m.\u001b[0m\u001b[0mmax\u001b[0m\u001b[0;34m(\u001b[0m\u001b[0;34m)\u001b[0m\u001b[0;34m)\u001b[0m\u001b[0;34m,\u001b[0m\u001b[0;36m30\u001b[0m\u001b[0;34m)\u001b[0m\u001b[0;34m\u001b[0m\u001b[0;34m\u001b[0m\u001b[0m\n\u001b[0m\u001b[1;32m      2\u001b[0m \u001b[0mc\u001b[0m\u001b[0;34m,\u001b[0m\u001b[0mbins\u001b[0m \u001b[0;34m=\u001b[0m \u001b[0mnp\u001b[0m\u001b[0;34m.\u001b[0m\u001b[0mhistogram\u001b[0m\u001b[0;34m(\u001b[0m\u001b[0mf\u001b[0m\u001b[0;34m,\u001b[0m\u001b[0mrange\u001b[0m\u001b[0;34m)\u001b[0m\u001b[0;34m\u001b[0m\u001b[0;34m\u001b[0m\u001b[0m\n",
      "\u001b[0;31mNameError\u001b[0m: name 'f' is not defined"
     ]
    }
   ],
   "source": [
    "range = np.logspace(np.log10(f.min()),np.log10(f.max()),30)\n",
    "c,bins = np.histogram(f,range)"
   ]
  },
  {
   "cell_type": "code",
   "execution_count": 55,
   "metadata": {},
   "outputs": [
    {
     "data": {
      "text/plain": [
       "Text(0.5, 0, 'Log10(Mass)')"
      ]
     },
     "execution_count": 55,
     "metadata": {},
     "output_type": "execute_result"
    },
    {
     "data": {
      "image/png": "[encoded data removed]",
      "text/plain": [
       "<Figure size 432x288 with 1 Axes>"
      ]
     },
     "metadata": {
      "needs_background": "light"
     },
     "output_type": "display_data"
    }
   ],
   "source": [
    "plt.bar(np.log10(bins[:-1]) + 0.00,np.log10(c), color = 'b', width = 0.09)\n",
    "plt.ylabel('Log10(N)')\n",
    "plt.xlabel('Log10(Mass)')\n"
   ]
  },
  {
   "cell_type": "code",
   "execution_count": 17,
   "metadata": {},
   "outputs": [
    {
     "data": {
      "text/plain": [
       "((26811581, 4), (27771176, 4))"
      ]
     },
     "execution_count": 17,
     "metadata": {},
     "output_type": "execute_result"
    }
   ],
   "source": [
    "fin_cen.shape,fin_sat.shape"
   ]
  },
  {
   "cell_type": "code",
   "execution_count": 92,
   "metadata": {},
   "outputs": [
    {
     "data": {
      "text/plain": [
       "array([[3, 4],\n",
       "       [3, 4]])"
      ]
     },
     "execution_count": 92,
     "metadata": {},
     "output_type": "execute_result"
    }
   ],
   "source": [
    "rep = [0,2]\n",
    "np.repeat([[2,3],[3,4]],rep,axis=0)"
   ]
  },
  {
   "cell_type": "code",
   "execution_count": 93,
   "metadata": {},
   "outputs": [],
   "source": [
    "z = np.array([1,0,0,1,1,1,0,1])"
   ]
  },
  {
   "cell_type": "code",
   "execution_count": 98,
   "metadata": {},
   "outputs": [
    {
     "data": {
      "text/plain": [
       "array([1, 2, 6])"
      ]
     },
     "execution_count": 98,
     "metadata": {},
     "output_type": "execute_result"
    }
   ],
   "source": [
    "np.where(z == 0)[0]"
   ]
  },
  {
   "cell_type": "code",
   "execution_count": 100,
   "metadata": {},
   "outputs": [
    {
     "data": {
      "text/plain": [
       "array([[1, 0, 0, 1, 1, 1, 0, 1],\n",
       "       [1, 0, 0, 1, 1, 1, 0, 1]])"
      ]
     },
     "execution_count": 100,
     "metadata": {},
     "output_type": "execute_result"
    }
   ],
   "source": [
    "np.vstack([z,z])"
   ]
  },
  {
   "cell_type": "code",
   "execution_count": null,
   "metadata": {},
   "outputs": [],
   "source": [
    "x y z(0-L) M(1e15 1e11) R"
   ]
  },
  {
   "cell_type": "code",
   "execution_count": 11,
   "metadata": {},
   "outputs": [],
   "source": [
    "a = np.random.uniform(0.0,2500.0,size=(100))\n",
    "b = np.random.uniform(0.0,2500.0,size=(100))\n",
    "c = np.random.uniform(0.0,2500.0,size=(100))"
   ]
  },
  {
   "cell_type": "code",
   "execution_count": 12,
   "metadata": {},
   "outputs": [],
   "source": [
    "xyz = np.c_[a,b,c]"
   ]
  },
  {
   "cell_type": "code",
   "execution_count": 34,
   "metadata": {},
   "outputs": [],
   "source": [
    "from scipy.stats import truncnorm\n",
    "def get_truncated_normal(mean=0, sd=1, low=1e11, upp=1e15):\n",
    "    return truncnorm(\n",
    "        (low - mean) / sd, (upp - mean) / sd, loc=mean, scale=sd)"
   ]
  },
  {
   "cell_type": "code",
   "execution_count": 40,
   "metadata": {},
   "outputs": [],
   "source": [
    "mass1 = np.random.uniform(1e11,1e12,25)\n",
    "mass2 = np.random.uniform(1e12,1e13,25)\n",
    "mass3 = np.random.uniform(1e13,1e14,25)\n",
    "mass4 = np.random.uniform(1e14,1e15,25)\n",
    "mass = np.concatenate([mass1,mass2,mass3,mass4])"
   ]
  },
  {
   "cell_type": "code",
   "execution_count": 41,
   "metadata": {},
   "outputs": [
    {
     "data": {
      "text/plain": [
       "(array([74.,  4.,  2.,  3.,  4.,  0.,  2.,  2.,  4.,  5.]),\n",
       " array([1.77846331e+11, 9.92196245e+13, 1.98261403e+14, 2.97303181e+14,\n",
       "        3.96344959e+14, 4.95386737e+14, 5.94428515e+14, 6.93470294e+14,\n",
       "        7.92512072e+14, 8.91553850e+14, 9.90595628e+14]),\n",
       " <a list of 10 Patch objects>)"
      ]
     },
     "execution_count": 41,
     "metadata": {},
     "output_type": "execute_result"
    },
    {
     "data": {
      "image/png": "[encoded data removed]",
      "text/plain": [
       "<Figure size 432x288 with 1 Axes>"
      ]
     },
     "metadata": {
      "needs_background": "light"
     },
     "output_type": "display_data"
    }
   ],
   "source": [
    "#mass = np.logspace(11,15,100)\n",
    "plt.hist(mass)"
   ]
  },
  {
   "cell_type": "code",
   "execution_count": 26,
   "metadata": {},
   "outputs": [],
   "source": [
    "r1 = np.array([2.5]*100)"
   ]
  },
  {
   "cell_type": "code",
   "execution_count": 35,
   "metadata": {},
   "outputs": [],
   "source": [
    "fake_data = np.c_[xyz,mass,r1]"
   ]
  },
  {
   "cell_type": "code",
   "execution_count": 36,
   "metadata": {},
   "outputs": [
    {
     "data": {
      "text/plain": [
       "(100, 5)"
      ]
     },
     "execution_count": 36,
     "metadata": {},
     "output_type": "execute_result"
    }
   ],
   "source": [
    "fake_data.shape"
   ]
  },
  {
   "cell_type": "code",
   "execution_count": 43,
   "metadata": {},
   "outputs": [],
   "source": [
    "np.savetxt('fake_data.txt',fake_data)"
   ]
  },
  {
   "cell_type": "code",
   "execution_count": 24,
   "metadata": {},
   "outputs": [
    {
     "data": {
      "text/plain": [
       "array([1.67436667e+11, 2.75249917e+11, 9.57785213e+11, 7.83274649e+11,\n",
       "       8.06577075e+11, 6.50410868e+11, 7.62578644e+11, 2.92038755e+11,\n",
       "       2.04418310e+11, 9.66515982e+11, 1.21097999e+11, 8.16919374e+11,\n",
       "       8.82647505e+11, 1.31289328e+11, 9.93605546e+11, 5.25906493e+11,\n",
       "       8.99853653e+11, 3.07113530e+11, 2.10484373e+11, 7.50522957e+11,\n",
       "       6.35365384e+11, 8.99595458e+11, 4.80922439e+11, 5.40664798e+11,\n",
       "       9.81617905e+11, 3.10539969e+12, 5.63976395e+12, 9.13139082e+12,\n",
       "       8.40438317e+12, 8.60568452e+12, 4.95924325e+12, 4.78081030e+12,\n",
       "       5.01864939e+12, 5.33042101e+12, 9.81895379e+12, 8.04283798e+12,\n",
       "       5.43730509e+12, 3.64898791e+12, 5.13010125e+12, 4.95015115e+12,\n",
       "       5.28021959e+12, 7.43816806e+12, 1.78696813e+12, 9.22459752e+12,\n",
       "       9.70369219e+12, 5.92409150e+12, 6.62510460e+12, 8.66505622e+12,\n",
       "       2.66628964e+12, 4.74570173e+12, 2.53453194e+13, 4.81846095e+13,\n",
       "       8.56247416e+13, 9.95170570e+13, 1.89060663e+13, 5.16700311e+13,\n",
       "       8.21607243e+13, 2.36193001e+13, 3.41808861e+13, 6.80967525e+13,\n",
       "       9.77850440e+13, 2.79323210e+13, 6.21477012e+13, 2.17803469e+13,\n",
       "       2.34554023e+13, 2.33667085e+13, 9.33594071e+13, 6.14421956e+13,\n",
       "       4.20914622e+13, 7.91165438e+13, 4.92147675e+13, 9.66825965e+13,\n",
       "       4.88914758e+13, 3.56993781e+13, 9.84981607e+13, 1.15363108e+14,\n",
       "       1.71369181e+14, 1.80242948e+14, 5.84178005e+14, 9.35299605e+14,\n",
       "       8.19824390e+14, 7.46333914e+14, 4.72811636e+14, 6.78630410e+14,\n",
       "       2.68972333e+14, 6.59773792e+14, 3.39755225e+14, 4.87044718e+14,\n",
       "       1.69653656e+14, 3.96230784e+14, 6.44773717e+14, 2.68009653e+14,\n",
       "       8.61394816e+14, 9.51992671e+14, 3.54041172e+14, 8.94880230e+14,\n",
       "       1.43719736e+14, 7.32265984e+14, 9.07547291e+14, 6.27727639e+14])"
      ]
     },
     "execution_count": 24,
     "metadata": {},
     "output_type": "execute_result"
    }
   ],
   "source": []
  },
  {
   "cell_type": "code",
   "execution_count": 42,
   "metadata": {},
   "outputs": [
    {
     "data": {
      "text/plain": [
       "array([6.41357128e+11, 7.32642642e+11, 6.21366118e+11, 3.17069179e+11,\n",
       "       7.26163355e+11, 6.90029015e+11, 5.38230108e+11, 1.77846331e+11,\n",
       "       4.11319210e+11, 1.90561369e+11, 5.42353648e+11, 6.02605883e+11,\n",
       "       8.81765419e+11, 9.92735813e+11, 8.57580491e+11, 5.08286321e+11,\n",
       "       3.54269270e+11, 7.42762482e+11, 3.11167268e+11, 5.51750875e+11,\n",
       "       3.23660530e+11, 3.96295929e+11, 7.02193896e+11, 9.39294391e+11,\n",
       "       2.87923804e+11, 9.13146247e+12, 2.25459962e+12, 8.45911395e+12,\n",
       "       7.70249912e+12, 3.79950197e+12, 1.52122860e+12, 5.48060844e+12,\n",
       "       6.74848327e+12, 3.71253019e+12, 9.94959215e+12, 8.93250127e+12,\n",
       "       8.65941540e+12, 6.37439592e+12, 8.24747044e+12, 5.92409895e+12,\n",
       "       6.72664734e+12, 7.49414836e+12, 8.77395087e+12, 3.21610075e+12,\n",
       "       7.09426040e+12, 8.23619726e+12, 1.87534352e+12, 1.74709808e+12,\n",
       "       8.86702975e+12, 1.23885245e+12, 9.89289299e+13, 9.24175277e+13,\n",
       "       6.93201806e+13, 9.45600672e+13, 6.98480849e+13, 9.30713639e+13,\n",
       "       5.24271829e+13, 6.55349556e+13, 8.81621867e+13, 3.93987491e+13,\n",
       "       4.56989871e+13, 6.50521297e+13, 8.99192424e+13, 2.61106952e+13,\n",
       "       7.35685148e+13, 9.64237491e+13, 4.87267087e+13, 5.99556180e+13,\n",
       "       4.31138325e+13, 9.49966251e+13, 6.49219788e+13, 2.68009568e+13,\n",
       "       1.87667010e+13, 9.97941860e+13, 5.01310134e+13, 2.88665172e+14,\n",
       "       6.28021786e+14, 9.47877816e+14, 8.24008590e+14, 6.03040814e+14,\n",
       "       4.04818934e+14, 4.41384625e+14, 8.74893029e+14, 4.37395735e+14,\n",
       "       1.85271291e+14, 7.99915741e+14, 9.80278685e+14, 8.29633655e+14,\n",
       "       3.79773186e+14, 9.59167914e+14, 7.03804001e+14, 9.90595628e+14,\n",
       "       2.04915616e+14, 1.52296712e+14, 3.49698138e+14, 1.71767782e+14,\n",
       "       3.33047162e+14, 4.53932212e+14, 8.92878227e+14, 6.99180100e+14])"
      ]
     },
     "execution_count": 42,
     "metadata": {},
     "output_type": "execute_result"
    }
   ],
   "source": [
    "mass"
   ]
  },
  {
   "cell_type": "code",
   "execution_count": null,
   "metadata": {},
   "outputs": [],
   "source": []
  }
 ],
 "metadata": {
  "kernelspec": {
   "display_name": "Python 3",
   "language": "python",
   "name": "python3"
  },
  "language_info": {
   "codemirror_mode": {
    "name": "ipython",
    "version": 3
   },
   "file_extension": ".py",
   "mimetype": "text/x-python",
   "name": "python",
   "nbconvert_exporter": "python",
   "pygments_lexer": "ipython3",
   "version": "3.7.5"
  }
 },
 "nbformat": 4,
 "nbformat_minor": 2
}
