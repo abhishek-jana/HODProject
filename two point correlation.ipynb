{
 "cells": [
  {
   "cell_type": "code",
   "execution_count": 2,
   "metadata": {},
   "outputs": [],
   "source": [
    "import numpy as np\n",
    "from numpy import load,logspace\n",
    "from halotools.mock_observables import wp\n",
    "from Corrfunc.theory.wp import wp\n",
    "import matplotlib.pyplot as plt"
   ]
  },
  {
   "cell_type": "code",
   "execution_count": null,
   "metadata": {},
   "outputs": [],
   "source": [
    "fin_cen = load('/home/ajana/mockHOD/central/galaxies_0000.npy')"
   ]
  },
  {
   "cell_type": "code",
   "execution_count": 3,
   "metadata": {},
   "outputs": [],
   "source": [
    "fin_sat = load('/mnt/data4/Abhishek/mockHOD/galaxies_3781.npy')"
   ]
  },
  {
   "cell_type": "code",
   "execution_count": 4,
   "metadata": {},
   "outputs": [],
   "source": [
    "bins = logspace(-1,1.5,30)\n",
    "L = 2500.\n",
    "pi_max = 60"
   ]
  },
  {
   "cell_type": "code",
   "execution_count": 5,
   "metadata": {},
   "outputs": [
    {
     "data": {
      "text/plain": [
       "array([[  82.39981,  105.10136,  109.69871],\n",
       "       [  85.1352 ,  106.11062,  108.60281],\n",
       "       [  82.25298,  107.41747,  109.42442],\n",
       "       ...,\n",
       "       [2292.4702 , 2489.9434 , 2331.3264 ],\n",
       "       [2458.6357 , 2269.356  , 2296.908  ],\n",
       "       [2393.8906 , 2259.3062 , 2398.0464 ]], dtype=float32)"
      ]
     },
     "execution_count": 5,
     "metadata": {},
     "output_type": "execute_result"
    }
   ],
   "source": [
    "fin_sat"
   ]
  },
  {
   "cell_type": "code",
   "execution_count": 6,
   "metadata": {},
   "outputs": [
    {
     "name": "stdout",
     "output_type": "stream",
     "text": [
      "CPU times: user 1min 17s, sys: 22.2 s, total: 1min 39s\n",
      "Wall time: 4.51 s\n"
     ]
    }
   ],
   "source": [
    "%time wp_counts = wp(boxsize = L, pimax = pi_max, nthreads = 45, binfile = bins, X = fin_sat[:,0], Y = fin_sat[:,1], Z = fin_sat[:,2])"
   ]
  },
  {
   "cell_type": "code",
   "execution_count": 7,
   "metadata": {},
   "outputs": [
    {
     "ename": "TypeError",
     "evalue": "wp() got an unexpected keyword argument 'sample1'",
     "output_type": "error",
     "traceback": [
      "\u001b[0;31m---------------------------------------------------------------------------\u001b[0m",
      "\u001b[0;31mTypeError\u001b[0m                                 Traceback (most recent call last)",
      "\u001b[0;32m<timed exec>\u001b[0m in \u001b[0;36m<module>\u001b[0;34m\u001b[0m\n",
      "\u001b[0;31mTypeError\u001b[0m: wp() got an unexpected keyword argument 'sample1'"
     ]
    }
   ],
   "source": [
    "%time corr1 = wp(sample1 = fin_sat, rp_bins = bins, pi_max = pi_max, period=L, num_threads='max')"
   ]
  },
  {
   "cell_type": "code",
   "execution_count": 8,
   "metadata": {},
   "outputs": [],
   "source": [
    "corr = [i[3] for i in wp_counts]\n"
   ]
  },
  {
   "cell_type": "code",
   "execution_count": 10,
   "metadata": {},
   "outputs": [],
   "source": [
    "corr = load('/mnt/data4/Abhishek/WP/wp_galaxies_0597.npy')"
   ]
  },
  {
   "cell_type": "code",
   "execution_count": 11,
   "metadata": {},
   "outputs": [
    {
     "data": {
      "text/plain": [
       "array([[2.61703278e+02, 2.44524836e+02, 2.25095712e+02, 2.03428641e+02,\n",
       "        1.81715031e+02, 1.60753420e+02, 1.42414806e+02, 1.25598155e+02,\n",
       "        1.10414647e+02, 9.67480151e+01, 8.46678524e+01, 7.35378910e+01,\n",
       "        6.24993756e+01, 5.31459896e+01, 4.54713689e+01, 3.92128461e+01,\n",
       "        3.39613596e+01, 2.94712373e+01, 2.55357195e+01, 2.19824491e+01,\n",
       "        1.88052031e+01, 1.59121732e+01, 1.32718685e+01, 1.08709272e+01,\n",
       "        8.74025097e+00, 6.84791832e+00, 5.19776713e+00, 3.82018744e+00,\n",
       "        2.69170533e+00],\n",
       "       [1.00000000e-01, 1.21957046e-01, 1.48735211e-01, 1.81393069e-01,\n",
       "        2.21221629e-01, 2.69795364e-01, 3.29034456e-01, 4.01280703e-01,\n",
       "        4.89390092e-01, 5.96845700e-01, 7.27895384e-01, 8.87719709e-01,\n",
       "        1.08263673e+00, 1.32035178e+00, 1.61026203e+00, 1.96382800e+00,\n",
       "        2.39502662e+00, 2.92090372e+00, 3.56224789e+00, 4.34441230e+00,\n",
       "        5.29831691e+00, 6.46167079e+00, 7.88046282e+00, 9.61077966e+00,\n",
       "        1.17210230e+01, 1.42946134e+01, 1.74332882e+01, 2.12611233e+01,\n",
       "        2.59294380e+01]])"
      ]
     },
     "execution_count": 11,
     "metadata": {},
     "output_type": "execute_result"
    }
   ],
   "source": [
    "corr"
   ]
  },
  {
   "cell_type": "code",
   "execution_count": 13,
   "metadata": {},
   "outputs": [
    {
     "data": {
      "image/png": "[encoded data removed]",
      "text/plain": [
       "<Figure size 432x288 with 1 Axes>"
      ]
     },
     "metadata": {
      "needs_background": "light"
     },
     "output_type": "display_data"
    }
   ],
   "source": [
    "\n",
    "plt.loglog(corr[1],corr[0],'o')\n",
    "plt.show()"
   ]
  },
  {
   "cell_type": "code",
   "execution_count": null,
   "metadata": {},
   "outputs": [],
   "source": [
    "import seaborn as sns\n",
    "plt.loglog(bins[:-1],corr1,'o')\n",
    "plt.show()"
   ]
  },
  {
   "cell_type": "code",
   "execution_count": null,
   "metadata": {},
   "outputs": [],
   "source": [
    "f = load(\"/mnt/data1/MDhalos.npy\")\n",
    "f = f[:100]\n",
    "#corr = wp(sample1 = f, rp_bins = bins,do_auto=False,do_cross=False, pi_max = pi_max, period=L)\n",
    "#plt.loglog(bins[:-1],corr,'o')\n",
    "#plt.show()"
   ]
  },
  {
   "cell_type": "code",
   "execution_count": null,
   "metadata": {},
   "outputs": [],
   "source": [
    "np.savetxt('fake_data.txt',f)"
   ]
  },
  {
   "cell_type": "code",
   "execution_count": null,
   "metadata": {},
   "outputs": [],
   "source": [
    "res.shape"
   ]
  },
  {
   "cell_type": "code",
   "execution_count": null,
   "metadata": {},
   "outputs": [],
   "source": [
    "i = 0\n",
    "res = []\n",
    "while i< len(f):\n",
    "    res.append(f[i])\n",
    "    i += 15\n",
    "res = np.vstack(res)"
   ]
  },
  {
   "cell_type": "code",
   "execution_count": null,
   "metadata": {},
   "outputs": [],
   "source": [
    "corr = wp(sample1 = f[:,(3,4,5)], rp_bins = bins,do_auto=False,do_cross=False, pi_max = pi_max, period=L)\n"
   ]
  },
  {
   "cell_type": "code",
   "execution_count": null,
   "metadata": {},
   "outputs": [],
   "source": [
    "plt.loglog(bins[:-1],corr,'o')\n",
    "plt.show()"
   ]
  },
  {
   "cell_type": "code",
   "execution_count": null,
   "metadata": {},
   "outputs": [],
   "source": [
    "corr"
   ]
  },
  {
   "cell_type": "code",
   "execution_count": null,
   "metadata": {},
   "outputs": [],
   "source": []
  },
  {
   "cell_type": "code",
   "execution_count": null,
   "metadata": {},
   "outputs": [],
   "source": [
    "f.shape"
   ]
  },
  {
   "cell_type": "code",
   "execution_count": null,
   "metadata": {},
   "outputs": [],
   "source": [
    "import random\n",
    "a = random.sample(range(170000000), 27000000)\n",
    "\n"
   ]
  },
  {
   "cell_type": "code",
   "execution_count": null,
   "metadata": {},
   "outputs": [],
   "source": [
    "%time corr = wp(sample1 = f[a], rp_bins = bins,do_auto=False,do_cross=False, pi_max = pi_max, period=L, num_threads='max')"
   ]
  },
  {
   "cell_type": "code",
   "execution_count": null,
   "metadata": {},
   "outputs": [],
   "source": [
    "plt.loglog(bins[:-1],corr,'o')\n",
    "plt.show()"
   ]
  },
  {
   "cell_type": "code",
   "execution_count": null,
   "metadata": {
    "scrolled": true
   },
   "outputs": [],
   "source": [
    "corr"
   ]
  },
  {
   "cell_type": "code",
   "execution_count": null,
   "metadata": {},
   "outputs": [],
   "source": [
    "f[:,0]"
   ]
  },
  {
   "cell_type": "code",
   "execution_count": null,
   "metadata": {},
   "outputs": [],
   "source": [
    "f_dict = {tuple(f[i]):None for i in range(f.shape[0])}"
   ]
  },
  {
   "cell_type": "code",
   "execution_count": null,
   "metadata": {},
   "outputs": [],
   "source": [
    "count = 0\n",
    "for i in fin:\n",
    "    print (tuple(i))\n",
    "    if tuple(i) not in f_dict.keys():\n",
    "        count += 1"
   ]
  },
  {
   "cell_type": "code",
   "execution_count": null,
   "metadata": {},
   "outputs": [],
   "source": [
    "f_dict"
   ]
  },
  {
   "cell_type": "code",
   "execution_count": null,
   "metadata": {},
   "outputs": [],
   "source": [
    "a = np.array([1,2,3,4,5,6,7])\n",
    "b = np.array([1,1,1,0,0,0,1])"
   ]
  },
  {
   "cell_type": "code",
   "execution_count": null,
   "metadata": {},
   "outputs": [],
   "source": [
    "plt.plot(a,b,'o')"
   ]
  },
  {
   "cell_type": "code",
   "execution_count": null,
   "metadata": {},
   "outputs": [],
   "source": [
    "range = np.logspace(np.log10(fin_cen[:,3].min()),np.log10(fin_cen[:,3].max()),30)\n",
    "c,bins = np.histogram(fin_cen[:,3],range)"
   ]
  },
  {
   "cell_type": "code",
   "execution_count": null,
   "metadata": {},
   "outputs": [],
   "source": [
    "#range = np.logspace(np.log10(fin[:,3].min()),np.log10(fin[:,3].max()),30)\n",
    "sat,bins = np.histogram(fin_sat[:,3],range)"
   ]
  },
  {
   "cell_type": "code",
   "execution_count": null,
   "metadata": {},
   "outputs": [],
   "source": [
    "c,bins"
   ]
  },
  {
   "cell_type": "code",
   "execution_count": null,
   "metadata": {},
   "outputs": [],
   "source": [
    "plt.figure(figsize=(8,8))\n",
    "plt.plot(np.log10(bins[:-1]),c,'o')\n",
    "plt.show()"
   ]
  },
  {
   "cell_type": "code",
   "execution_count": null,
   "metadata": {},
   "outputs": [],
   "source": [
    "plt.plot(np.log10(bins[:-1]),np.log10(c),'o')\n",
    "plt.show()"
   ]
  },
  {
   "cell_type": "code",
   "execution_count": null,
   "metadata": {},
   "outputs": [],
   "source": [
    "#fig = plt.figure()\n",
    "plt.figure(figsize=(16,8))\n",
    "#ax = fig.add_axes([0,0,1,1])\n",
    "plt.bar(np.log10(bins[:-1]) + 0.00,np.log10(c), color = 'b', width = 0.07)\n",
    "plt.bar(np.log10(bins[:-1]) + 0.07,np.log10(sat), color = 'r', width = 0.07)\n",
    "plt.ylabel('Log10(N)')\n",
    "plt.xlabel('Log10(Mass)')\n",
    "plt.legend(labels=['Cen', 'With Sat'])\n",
    "plt.savefig('lg(N)_vs_lg(M).png')"
   ]
  },
  {
   "cell_type": "code",
   "execution_count": null,
   "metadata": {},
   "outputs": [],
   "source": [
    "plt.figure(figsize=(16,8))\n",
    "plt.bar(np.log10(bins[:-1]) + 0.00,c, color = 'b', width = 0.07)\n",
    "plt.bar(np.log10(bins[:-1]) + 0.07,sat, color = 'r', width = 0.07)\n",
    "plt.ylabel('N')\n",
    "plt.xlabel('Log10(Mass)')\n",
    "plt.legend(labels=['Cen', 'With Sat'])\n",
    "plt.savefig('N_vs_lg(M).png')"
   ]
  },
  {
   "cell_type": "code",
   "execution_count": null,
   "metadata": {},
   "outputs": [],
   "source": [
    "range = np.logspace(np.log10(f.min()),np.log10(f.max()),30)\n",
    "c,bins = np.histogram(f,range)"
   ]
  },
  {
   "cell_type": "code",
   "execution_count": null,
   "metadata": {},
   "outputs": [],
   "source": [
    "plt.bar(np.log10(bins[:-1]) + 0.00,np.log10(c), color = 'b', width = 0.09)\n",
    "plt.ylabel('Log10(N)')\n",
    "plt.xlabel('Log10(Mass)')\n"
   ]
  },
  {
   "cell_type": "code",
   "execution_count": null,
   "metadata": {},
   "outputs": [],
   "source": [
    "fin_cen.shape,fin_sat.shape"
   ]
  },
  {
   "cell_type": "code",
   "execution_count": null,
   "metadata": {},
   "outputs": [],
   "source": [
    "rep = [0,2]\n",
    "np.repeat([[2,3],[3,4]],rep,axis=0)"
   ]
  },
  {
   "cell_type": "code",
   "execution_count": null,
   "metadata": {},
   "outputs": [],
   "source": [
    "z = np.array([1,0,0,1,1,1,0,1])"
   ]
  },
  {
   "cell_type": "code",
   "execution_count": null,
   "metadata": {},
   "outputs": [],
   "source": [
    "np.where(z == 0)[0]"
   ]
  },
  {
   "cell_type": "code",
   "execution_count": null,
   "metadata": {},
   "outputs": [],
   "source": [
    "np.vstack([z,z])"
   ]
  },
  {
   "cell_type": "code",
   "execution_count": null,
   "metadata": {},
   "outputs": [],
   "source": [
    "x y z(0-L) M(1e15 1e11) R"
   ]
  },
  {
   "cell_type": "code",
   "execution_count": null,
   "metadata": {},
   "outputs": [],
   "source": [
    "a = np.random.uniform(0.0,2500.0,size=(100))\n",
    "b = np.random.uniform(0.0,2500.0,size=(100))\n",
    "c = np.random.uniform(0.0,2500.0,size=(100))"
   ]
  },
  {
   "cell_type": "code",
   "execution_count": null,
   "metadata": {},
   "outputs": [],
   "source": [
    "xyz = np.c_[a,b,c]"
   ]
  },
  {
   "cell_type": "code",
   "execution_count": null,
   "metadata": {},
   "outputs": [],
   "source": [
    "from scipy.stats import truncnorm\n",
    "def get_truncated_normal(mean=0, sd=1, low=1e11, upp=1e15):\n",
    "    return truncnorm(\n",
    "        (low - mean) / sd, (upp - mean) / sd, loc=mean, scale=sd)"
   ]
  },
  {
   "cell_type": "code",
   "execution_count": null,
   "metadata": {},
   "outputs": [],
   "source": [
    "mass1 = np.random.uniform(1e11,1e12,25)\n",
    "mass2 = np.random.uniform(1e12,1e13,25)\n",
    "mass3 = np.random.uniform(1e13,1e14,25)\n",
    "mass4 = np.random.uniform(1e14,1e15,25)\n",
    "mass = np.concatenate([mass1,mass2,mass3,mass4])"
   ]
  },
  {
   "cell_type": "code",
   "execution_count": null,
   "metadata": {},
   "outputs": [],
   "source": [
    "#mass = np.logspace(11,15,100)\n",
    "plt.hist(mass)"
   ]
  },
  {
   "cell_type": "code",
   "execution_count": null,
   "metadata": {},
   "outputs": [],
   "source": [
    "r1 = np.array([2.5]*100)"
   ]
  },
  {
   "cell_type": "code",
   "execution_count": null,
   "metadata": {},
   "outputs": [],
   "source": [
    "fake_data = np.c_[xyz,mass,r1]"
   ]
  },
  {
   "cell_type": "code",
   "execution_count": null,
   "metadata": {},
   "outputs": [],
   "source": [
    "fake_data.shape"
   ]
  },
  {
   "cell_type": "code",
   "execution_count": null,
   "metadata": {},
   "outputs": [],
   "source": [
    "np.savetxt('fake_data.txt',fake_data)"
   ]
  },
  {
   "cell_type": "code",
   "execution_count": null,
   "metadata": {},
   "outputs": [],
   "source": []
  },
  {
   "cell_type": "code",
   "execution_count": null,
   "metadata": {},
   "outputs": [],
   "source": [
    "mass"
   ]
  },
  {
   "cell_type": "code",
   "execution_count": null,
   "metadata": {},
   "outputs": [],
   "source": []
  }
 ],
 "metadata": {
  "kernelspec": {
   "display_name": "Python 3",
   "language": "python",
   "name": "python3"
  },
  "language_info": {
   "codemirror_mode": {
    "name": "ipython",
    "version": 3
   },
   "file_extension": ".py",
   "mimetype": "text/x-python",
   "name": "python",
   "nbconvert_exporter": "python",
   "pygments_lexer": "ipython3",
   "version": "3.7.5"
  }
 },
 "nbformat": 4,
 "nbformat_minor": 2
}
