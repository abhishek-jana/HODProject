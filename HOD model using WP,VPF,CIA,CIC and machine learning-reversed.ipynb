{
 "cells": [
  {
   "cell_type": "code",
   "execution_count": 2,
   "metadata": {},
   "outputs": [],
   "source": [
    "# load the autoreload extension\n",
    "%reload_ext autoreload\n",
    "# Set extension to reload modules every time before executing code\n",
    "%autoreload 2\n",
    "\n",
    "import pandas as pd\n",
    "import matplotlib.pyplot as plt\n",
    "import seaborn as sns\n",
    "import numpy as np\n",
    "import os\n",
    "%matplotlib inline\n",
    "\n",
    "# Import random forest regressor and multioutput regressor\n",
    "from sklearn.ensemble import RandomForestRegressor\n",
    "from sklearn.model_selection import train_test_split\n",
    "from sklearn.multioutput import MultiOutputRegressor\n",
    "from sklearn.metrics import confusion_matrix,classification_report,accuracy_score,mean_squared_error\n",
    "from sklearn.preprocessing import MinMaxScaler,StandardScaler"
   ]
  },
  {
   "cell_type": "code",
   "execution_count": 3,
   "metadata": {},
   "outputs": [],
   "source": [
    "path = '/mnt/data4/Abhishek/WP/'\n",
    "data = np.load('machine_learning_data.npy')"
   ]
  },
  {
   "cell_type": "code",
   "execution_count": 4,
   "metadata": {},
   "outputs": [],
   "source": [
    "def extractIndex(filename):\n",
    "    return int(filename.split('_')[-1][:4])"
   ]
  },
  {
   "cell_type": "code",
   "execution_count": 5,
   "metadata": {},
   "outputs": [],
   "source": [
    "f = np.loadtxt('/home/ajana/github/HODProject/parameters.txt')"
   ]
  },
  {
   "cell_type": "code",
   "execution_count": 6,
   "metadata": {},
   "outputs": [],
   "source": [
    "random_data = []\n",
    "\n",
    "for filename in os.listdir(path):\n",
    "    if filename.startswith('wp_galaxies'):\n",
    "        pos = extractIndex(filename)\n",
    "        wp,_ = np.load(os.path.join(path,filename))\n",
    "        #_temp = np.concatenate((wp,f[pos]))\n",
    "        random_data.append(wp)"
   ]
  },
  {
   "cell_type": "code",
   "execution_count": null,
   "metadata": {},
   "outputs": [],
   "source": []
  },
  {
   "cell_type": "code",
   "execution_count": 7,
   "metadata": {},
   "outputs": [],
   "source": [
    "full_data = np.vstack((random_data))\n",
    "full_data = np.hstack((full_data,data))\n",
    "del random_data\n",
    "np.random.shuffle(full_data)"
   ]
  },
  {
   "cell_type": "markdown",
   "metadata": {},
   "source": [
    "## Order is wp (29) VPF (30) CIC(15) CIA(15)"
   ]
  },
  {
   "cell_type": "code",
   "execution_count": 12,
   "metadata": {},
   "outputs": [],
   "source": [
    "y_data = full_data[:,:-5]\n",
    "X_data = full_data[:,-5:]"
   ]
  },
  {
   "cell_type": "code",
   "execution_count": 13,
   "metadata": {},
   "outputs": [],
   "source": [
    "y_data = y_data[:,59:74]  #CIC"
   ]
  },
  {
   "cell_type": "code",
   "execution_count": 14,
   "metadata": {},
   "outputs": [
    {
     "data": {
      "text/plain": [
       "(5000, 15)"
      ]
     },
     "execution_count": 14,
     "metadata": {},
     "output_type": "execute_result"
    }
   ],
   "source": [
    "y_data.shape"
   ]
  },
  {
   "cell_type": "code",
   "execution_count": 15,
   "metadata": {},
   "outputs": [
    {
     "data": {
      "text/plain": [
       "[<matplotlib.lines.Line2D at 0x7f3f6e07be90>]"
      ]
     },
     "execution_count": 15,
     "metadata": {},
     "output_type": "execute_result"
    },
    {
     "data": {
      "image/png": "[encoded data removed]",
      "text/plain": [
       "<Figure size 432x288 with 1 Axes>"
      ]
     },
     "metadata": {
      "needs_background": "light"
     },
     "output_type": "display_data"
    }
   ],
   "source": [
    "plt.plot(np.arange(y_data.shape[1]),y_data[0],'*')"
   ]
  },
  {
   "cell_type": "code",
   "execution_count": 16,
   "metadata": {},
   "outputs": [],
   "source": [
    "X_train, X_test, y_train, y_test = train_test_split(X_data, y_data, test_size=0.1,random_state=42)"
   ]
  },
  {
   "cell_type": "code",
   "execution_count": 17,
   "metadata": {},
   "outputs": [
    {
     "data": {
      "text/plain": [
       "((4500, 5), (500, 5))"
      ]
     },
     "execution_count": 17,
     "metadata": {},
     "output_type": "execute_result"
    }
   ],
   "source": [
    "X_train.shape, X_test.shape"
   ]
  },
  {
   "cell_type": "code",
   "execution_count": 18,
   "metadata": {},
   "outputs": [],
   "source": [
    "#fit Random Forest Regressor\n",
    "\n",
    "reg_rf = RandomForestRegressor(\n",
    "    n_estimators=3000,\n",
    "    criterion='mse',\n",
    "    max_depth=None,\n",
    "    min_samples_split=2,\n",
    "    min_samples_leaf=1,\n",
    "    min_weight_fraction_leaf=0.0,\n",
    "    max_features=None,\n",
    "    max_leaf_nodes=None,\n",
    "    min_impurity_decrease=0.0,\n",
    "    min_impurity_split=None,\n",
    "    bootstrap=True,\n",
    "    oob_score=False,\n",
    "    n_jobs=-1,\n",
    "    random_state=0,\n",
    "    verbose=0,\n",
    "    warm_start=False,\n",
    ")\n",
    "\n",
    "reg_rf.fit(X_train,y_train)\n",
    "y_rf = reg_rf.predict(X_test)\n"
   ]
  },
  {
   "cell_type": "code",
   "execution_count": 19,
   "metadata": {},
   "outputs": [],
   "source": [
    "\n",
    "err = mean_squared_error(y_rf,y_test,multioutput='raw_values',squared=True)"
   ]
  },
  {
   "cell_type": "code",
   "execution_count": 20,
   "metadata": {},
   "outputs": [
    {
     "name": "stdout",
     "output_type": "stream",
     "text": [
      "[0.0205699  0.00817134 0.00392991 0.00569654 0.00214891 0.00430081\n",
      " 0.00401833 0.00380941 0.00321383 0.0040248  0.00429106 0.00291648\n",
      " 0.00307698 0.00378532 0.00490818]\n"
     ]
    },
    {
     "data": {
      "text/plain": [
       "array([0.01476237, 0.12880985, 0.14495341, 0.15333116, 0.14358751,\n",
       "       0.14242188, 0.13491406, 0.13007509, 0.14169343, 0.15341653,\n",
       "       0.17292664, 0.18846694, 0.20327123, 0.21254273, 0.18302224])"
      ]
     },
     "execution_count": 20,
     "metadata": {},
     "output_type": "execute_result"
    }
   ],
   "source": [
    "print (np.mean(((y_rf - y_test)/y_test), axis=0))\n",
    "np.std(y_rf,axis=0)"
   ]
  },
  {
   "cell_type": "code",
   "execution_count": 21,
   "metadata": {},
   "outputs": [],
   "source": [
    "def plot_corr(pred,test):\n",
    "    sns.jointplot(pred.iloc[:,0],test.iloc[:,0],kind = \"kde\")\n",
    "    sns.jointplot(pred.iloc[:,1],test.iloc[:,1],kind = 'kde',color='purple')\n",
    "    sns.jointplot(pred.iloc[:,2],test.iloc[:,2],kind = 'kde',color='blue')\n",
    "    sns.jointplot(pred.iloc[:,3],test.iloc[:,3],kind = 'kde',color='green')\n",
    "    sns.jointplot(pred.iloc[:,4],test.iloc[:,4],kind = 'kde',color='red')\n",
    "    plt.tight_layout\n",
    "    \n",
    "def plot_error(pred,test,dims=(12,8)):\n",
    "    fig,ax = plt.subplots(figsize=dims)\n",
    "    sns.distplot(pred.iloc[:,0]-test.iloc[:,0],color='blue',ax=ax,kde_kws={\"label\": \"M_cut\"})\n",
    "    sns.distplot(pred.iloc[:,1]-test.iloc[:,1],color='cyan',ax=ax,kde_kws={\"label\": \"M_1\"})\n",
    "    sns.distplot(pred.iloc[:,2]-test.iloc[:,2],color='purple',ax=ax,kde_kws={\"label\": \"Sigma\"})\n",
    "    sns.distplot(pred.iloc[:,3]-test.iloc[:,3],color='yellow',ax=ax,kde_kws={\"label\": \"Kappa\"})\n",
    "    sns.distplot(pred.iloc[:,4]-test.iloc[:,4],color='red',ax=ax,kde_kws={\"label\": \"Alpha\"})"
   ]
  },
  {
   "cell_type": "code",
   "execution_count": 22,
   "metadata": {},
   "outputs": [
    {
     "data": {
      "text/plain": [
       "Text(0.5, 0, 'WP')"
      ]
     },
     "execution_count": 22,
     "metadata": {},
     "output_type": "execute_result"
    },
    {
     "data": {
      "image/png": "[encoded data removed]",
      "text/plain": [
       "<Figure size 432x288 with 1 Axes>"
      ]
     },
     "metadata": {
      "needs_background": "light"
     },
     "output_type": "display_data"
    }
   ],
   "source": [
    "plt.plot(np.arange(y_data.shape[1]),y_test[160,:],'*')\n",
    "plt.plot(np.arange(y_data.shape[1]),y_rf[160])\n",
    "plt.xlabel('WP')"
   ]
  },
  {
   "cell_type": "code",
   "execution_count": 24,
   "metadata": {},
   "outputs": [
    {
     "data": {
      "text/plain": [
       "Text(0, 0.5, 'CIC_predicted')"
      ]
     },
     "execution_count": 24,
     "metadata": {},
     "output_type": "execute_result"
    },
    {
     "data": {
      "image/png": "[encoded data removed]",
      "text/plain": [
       "<Figure size 576x576 with 1 Axes>"
      ]
     },
     "metadata": {
      "needs_background": "light"
     },
     "output_type": "display_data"
    }
   ],
   "source": [
    "plt.figure(figsize=(8,8))\n",
    "plt.errorbar(np.mean(y_rf,axis=0),np.mean(y_test,axis=0),np.std(y_rf,axis=0),ecolor='r',fmt='.')\n",
    "plt.errorbar(y_rf,y_test,ecolor='r',fmt='.')\n",
    "plt.xlabel('CIC_true')\n",
    "plt.ylabel('CIC_predicted')\n",
    "#plt.savefig('VPF_correlation')"
   ]
  },
  {
   "cell_type": "code",
   "execution_count": 156,
   "metadata": {},
   "outputs": [
    {
     "data": {
      "text/plain": [
       "array([8.21665032e-11, 1.34454901e-10, 2.66977651e-10, 4.49789141e-10,\n",
       "       8.00866927e-10, 1.34122003e-09, 2.21506431e-09, 3.74734422e-09,\n",
       "       6.60899762e-09, 1.02169768e-08, 1.70307012e-08, 2.88489818e-08,\n",
       "       5.04068499e-08, 8.83092820e-08, 1.62414882e-07, 2.65172904e-07,\n",
       "       4.07514913e-07, 6.36517267e-07, 1.07348532e-06, 1.95946365e-06,\n",
       "       2.68126326e-06, 3.67424005e-06, 4.05559818e-06, 3.80352607e-06,\n",
       "       2.61755213e-06, 1.36378253e-06, 4.26518247e-07, 6.13398700e-08,\n",
       "       4.72856640e-09, 1.39221227e-10])"
      ]
     },
     "execution_count": 156,
     "metadata": {},
     "output_type": "execute_result"
    }
   ],
   "source": [
    "err"
   ]
  },
  {
   "cell_type": "code",
   "execution_count": 229,
   "metadata": {},
   "outputs": [
    {
     "name": "stdout",
     "output_type": "stream",
     "text": [
      "[0.02923531 0.00329706 0.00571132 0.00441526 0.00588189 0.00605791\n",
      " 0.00563519 0.00626721 0.00510051 0.00593019 0.00499478 0.00306184\n",
      " 0.00399232 0.00224409 0.00466897]\n"
     ]
    }
   ],
   "source": [
    "print (np.mean(((y_rf - y_test)/y_test), axis=0))"
   ]
  },
  {
   "cell_type": "code",
   "execution_count": 221,
   "metadata": {},
   "outputs": [
    {
     "data": {
      "text/plain": [
       "array([ 0.02243472,  0.01776045, -0.05481712, -0.00261736, -0.03085204,\n",
       "       -0.002358  , -0.01373077, -0.03321914,  0.00404207, -0.00347799,\n",
       "       -0.0046748 , -0.00054485, -0.05162875,  0.01019179,  0.01620123])"
      ]
     },
     "execution_count": 221,
     "metadata": {},
     "output_type": "execute_result"
    }
   ],
   "source": [
    "(y_rf[15] -  y_test[15,:])/y_test[15,:]"
   ]
  },
  {
   "cell_type": "code",
   "execution_count": 157,
   "metadata": {},
   "outputs": [
    {
     "data": {
      "text/plain": [
       "<seaborn.axisgrid.JointGrid at 0x7f4e22288bd0>"
      ]
     },
     "execution_count": 157,
     "metadata": {},
     "output_type": "execute_result"
    },
    {
     "data": {
      "image/png": "[encoded data removed]",
      "text/plain": [
       "<Figure size 432x432 with 3 Axes>"
      ]
     },
     "metadata": {
      "needs_background": "light"
     },
     "output_type": "display_data"
    }
   ],
   "source": [
    "sns.jointplot(y_test,y_rf,kind='scatter')"
   ]
  },
  {
   "cell_type": "code",
   "execution_count": 193,
   "metadata": {},
   "outputs": [],
   "source": [
    "from keras.models import Sequential\n",
    "from keras.layers import Dense\n",
    "from sklearn.model_selection import train_test_split\n",
    "from sklearn.metrics import mean_squared_error\n",
    "import tensorflow as tf\n",
    "from tensorflow.keras import layers\n",
    "from tensorflow import keras\n"
   ]
  },
  {
   "cell_type": "code",
   "execution_count": 194,
   "metadata": {},
   "outputs": [],
   "source": [
    "from sklearn.preprocessing import  MinMaxScaler\n",
    "sc= MinMaxScaler()\n",
    "X_data= sc.fit_transform(X_data)\n",
    "y_data= y_data.reshape(-1,y_data.shape[1])\n",
    "y_data=sc.fit_transform(y_data)"
   ]
  },
  {
   "cell_type": "code",
   "execution_count": 195,
   "metadata": {},
   "outputs": [],
   "source": [
    "in_dim = X_train.shape[1]\n",
    "out_dim = y_train.shape[1]"
   ]
  },
  {
   "cell_type": "code",
   "execution_count": 196,
   "metadata": {},
   "outputs": [],
   "source": [
    "model = Sequential()\n",
    "model.add(Dense(128, input_dim=in_dim, activation=\"relu\"))\n",
    "model.add(Dense(64, activation=\"relu\"))\n",
    "model.add(Dense(32, activation=\"relu\"))\n",
    "model.add(Dense(out_dim))\n",
    "model.compile(loss=\"mse\", optimizer=\"adam\")"
   ]
  },
  {
   "cell_type": "code",
   "execution_count": 197,
   "metadata": {},
   "outputs": [],
   "source": [
    "def build_model(in_dim,out_dim):\n",
    "    model = keras.Sequential([\n",
    "        layers.Dense(256, activation='relu', input_dim=in_dim),\n",
    "        layers.Dense(128, activation='relu'),\n",
    "        layers.Dense(64, activation='relu'),\n",
    "        layers.Dense(out_dim)\n",
    "      ])\n",
    "\n",
    "    optimizer = tf.keras.optimizers.RMSprop(0.01)\n",
    "\n",
    "    model.compile(loss='mse',\n",
    "                    optimizer=\"adam\",\n",
    "                    metrics=['mae', 'mse'])\n",
    "    return model"
   ]
  },
  {
   "cell_type": "code",
   "execution_count": 198,
   "metadata": {},
   "outputs": [
    {
     "name": "stdout",
     "output_type": "stream",
     "text": [
      "Model: \"sequential_3\"\n",
      "_________________________________________________________________\n",
      "Layer (type)                 Output Shape              Param #   \n",
      "=================================================================\n",
      "dense_12 (Dense)             (None, 256)               1536      \n",
      "_________________________________________________________________\n",
      "dense_13 (Dense)             (None, 128)               32896     \n",
      "_________________________________________________________________\n",
      "dense_14 (Dense)             (None, 64)                8256      \n",
      "_________________________________________________________________\n",
      "dense_15 (Dense)             (None, 29)                1885      \n",
      "=================================================================\n",
      "Total params: 44,573\n",
      "Trainable params: 44,573\n",
      "Non-trainable params: 0\n",
      "_________________________________________________________________\n"
     ]
    }
   ],
   "source": [
    "mod = build_model(in_dim,out_dim)\n",
    "mod.summary()"
   ]
  },
  {
   "cell_type": "code",
   "execution_count": 199,
   "metadata": {},
   "outputs": [
    {
     "name": "stdout",
     "output_type": "stream",
     "text": [
      "Train on 3600 samples, validate on 900 samples\n",
      "Epoch 1/300\n",
      "3600/3600 [==============================] - 1s 188us/sample - loss: 0.0570 - mean_absolute_error: 0.0991 - mean_squared_error: 0.0570 - val_loss: 5.9745e-04 - val_mean_absolute_error: 0.0158 - val_mean_squared_error: 5.9745e-04\n",
      "Epoch 2/300\n",
      "3600/3600 [==============================] - 0s 129us/sample - loss: 5.5709e-04 - mean_absolute_error: 0.0152 - mean_squared_error: 5.5709e-04 - val_loss: 5.3708e-04 - val_mean_absolute_error: 0.0146 - val_mean_squared_error: 5.3708e-04\n",
      "Epoch 3/300\n",
      "3600/3600 [==============================] - 0s 113us/sample - loss: 4.9850e-04 - mean_absolute_error: 0.0141 - mean_squared_error: 4.9851e-04 - val_loss: 4.8743e-04 - val_mean_absolute_error: 0.0136 - val_mean_squared_error: 4.8743e-04\n",
      "Epoch 4/300\n",
      "3600/3600 [==============================] - 0s 112us/sample - loss: 4.4565e-04 - mean_absolute_error: 0.0131 - mean_squared_error: 4.4565e-04 - val_loss: 5.0516e-04 - val_mean_absolute_error: 0.0151 - val_mean_squared_error: 5.0516e-04\n",
      "Epoch 5/300\n",
      "3600/3600 [==============================] - 0s 112us/sample - loss: 4.0828e-04 - mean_absolute_error: 0.0125 - mean_squared_error: 4.0828e-04 - val_loss: 3.8613e-04 - val_mean_absolute_error: 0.0120 - val_mean_squared_error: 3.8613e-04\n",
      "Epoch 6/300\n",
      "3600/3600 [==============================] - 0s 122us/sample - loss: 3.8257e-04 - mean_absolute_error: 0.0123 - mean_squared_error: 3.8257e-04 - val_loss: 3.5481e-04 - val_mean_absolute_error: 0.0117 - val_mean_squared_error: 3.5481e-04\n",
      "Epoch 7/300\n",
      "3600/3600 [==============================] - 0s 128us/sample - loss: 3.4056e-04 - mean_absolute_error: 0.0116 - mean_squared_error: 3.4056e-04 - val_loss: 3.6761e-04 - val_mean_absolute_error: 0.0123 - val_mean_squared_error: 3.6761e-04\n",
      "Epoch 8/300\n",
      "3600/3600 [==============================] - 0s 129us/sample - loss: 3.1058e-04 - mean_absolute_error: 0.0113 - mean_squared_error: 3.1058e-04 - val_loss: 3.0835e-04 - val_mean_absolute_error: 0.0115 - val_mean_squared_error: 3.0835e-04\n",
      "Epoch 9/300\n",
      "3600/3600 [==============================] - 0s 111us/sample - loss: 2.8201e-04 - mean_absolute_error: 0.0109 - mean_squared_error: 2.8201e-04 - val_loss: 2.7369e-04 - val_mean_absolute_error: 0.0106 - val_mean_squared_error: 2.7369e-04\n",
      "Epoch 10/300\n",
      "3600/3600 [==============================] - 0s 110us/sample - loss: 2.5712e-04 - mean_absolute_error: 0.0106 - mean_squared_error: 2.5712e-04 - val_loss: 2.4632e-04 - val_mean_absolute_error: 0.0104 - val_mean_squared_error: 2.4632e-04\n",
      "Epoch 11/300\n",
      "3600/3600 [==============================] - 0s 112us/sample - loss: 2.2385e-04 - mean_absolute_error: 0.0099 - mean_squared_error: 2.2385e-04 - val_loss: 2.1916e-04 - val_mean_absolute_error: 0.0098 - val_mean_squared_error: 2.1916e-04\n",
      "Epoch 12/300\n",
      "3600/3600 [==============================] - 0s 109us/sample - loss: 2.1222e-04 - mean_absolute_error: 0.0101 - mean_squared_error: 2.1222e-04 - val_loss: 1.9202e-04 - val_mean_absolute_error: 0.0095 - val_mean_squared_error: 1.9202e-04\n",
      "Epoch 13/300\n",
      "3600/3600 [==============================] - 0s 111us/sample - loss: 1.9247e-04 - mean_absolute_error: 0.0099 - mean_squared_error: 1.9247e-04 - val_loss: 1.7371e-04 - val_mean_absolute_error: 0.0090 - val_mean_squared_error: 1.7371e-04\n",
      "Epoch 14/300\n",
      "3600/3600 [==============================] - 0s 110us/sample - loss: 2.1648e-04 - mean_absolute_error: 0.0107 - mean_squared_error: 2.1648e-04 - val_loss: 2.6297e-04 - val_mean_absolute_error: 0.0129 - val_mean_squared_error: 2.6297e-04\n",
      "Epoch 15/300\n",
      "3600/3600 [==============================] - 0s 113us/sample - loss: 1.6844e-04 - mean_absolute_error: 0.0096 - mean_squared_error: 1.6844e-04 - val_loss: 1.2724e-04 - val_mean_absolute_error: 0.0077 - val_mean_squared_error: 1.2724e-04\n",
      "Epoch 16/300\n",
      "3600/3600 [==============================] - 0s 110us/sample - loss: 1.4355e-04 - mean_absolute_error: 0.0089 - mean_squared_error: 1.4355e-04 - val_loss: 1.5797e-04 - val_mean_absolute_error: 0.0096 - val_mean_squared_error: 1.5797e-04\n",
      "Epoch 17/300\n",
      "3600/3600 [==============================] - 0s 111us/sample - loss: 1.5831e-04 - mean_absolute_error: 0.0093 - mean_squared_error: 1.5831e-04 - val_loss: 1.7560e-04 - val_mean_absolute_error: 0.0099 - val_mean_squared_error: 1.7560e-04\n",
      "Epoch 18/300\n",
      "3600/3600 [==============================] - 0s 109us/sample - loss: 1.2238e-04 - mean_absolute_error: 0.0083 - mean_squared_error: 1.2238e-04 - val_loss: 1.5609e-04 - val_mean_absolute_error: 0.0099 - val_mean_squared_error: 1.5609e-04\n",
      "Epoch 19/300\n",
      "3600/3600 [==============================] - 0s 111us/sample - loss: 1.4060e-04 - mean_absolute_error: 0.0090 - mean_squared_error: 1.4060e-04 - val_loss: 1.3106e-04 - val_mean_absolute_error: 0.0084 - val_mean_squared_error: 1.3106e-04\n",
      "Epoch 20/300\n",
      "3600/3600 [==============================] - 0s 111us/sample - loss: 1.3140e-04 - mean_absolute_error: 0.0084 - mean_squared_error: 1.3140e-04 - val_loss: 1.4199e-04 - val_mean_absolute_error: 0.0093 - val_mean_squared_error: 1.4199e-04\n",
      "Epoch 21/300\n",
      "3600/3600 [==============================] - 0s 110us/sample - loss: 1.0062e-04 - mean_absolute_error: 0.0074 - mean_squared_error: 1.0062e-04 - val_loss: 1.0253e-04 - val_mean_absolute_error: 0.0078 - val_mean_squared_error: 1.0253e-04\n",
      "Epoch 22/300\n",
      "3600/3600 [==============================] - 0s 111us/sample - loss: 1.0722e-04 - mean_absolute_error: 0.0079 - mean_squared_error: 1.0722e-04 - val_loss: 5.8731e-05 - val_mean_absolute_error: 0.0051 - val_mean_squared_error: 5.8731e-05\n",
      "Epoch 23/300\n",
      "3600/3600 [==============================] - 0s 129us/sample - loss: 1.1887e-04 - mean_absolute_error: 0.0078 - mean_squared_error: 1.1887e-04 - val_loss: 2.4077e-04 - val_mean_absolute_error: 0.0123 - val_mean_squared_error: 2.4077e-04\n",
      "Epoch 24/300\n",
      "3600/3600 [==============================] - 0s 121us/sample - loss: 9.8528e-05 - mean_absolute_error: 0.0072 - mean_squared_error: 9.8528e-05 - val_loss: 9.6749e-05 - val_mean_absolute_error: 0.0068 - val_mean_squared_error: 9.6749e-05\n",
      "Epoch 25/300\n",
      "3600/3600 [==============================] - 0s 112us/sample - loss: 1.0159e-04 - mean_absolute_error: 0.0075 - mean_squared_error: 1.0159e-04 - val_loss: 8.9005e-05 - val_mean_absolute_error: 0.0070 - val_mean_squared_error: 8.9005e-05\n",
      "Epoch 26/300\n",
      "3600/3600 [==============================] - 0s 110us/sample - loss: 1.5603e-04 - mean_absolute_error: 0.0094 - mean_squared_error: 1.5603e-04 - val_loss: 8.8993e-05 - val_mean_absolute_error: 0.0072 - val_mean_squared_error: 8.8993e-05\n",
      "Epoch 27/300\n",
      "3600/3600 [==============================] - 0s 111us/sample - loss: 8.3429e-05 - mean_absolute_error: 0.0066 - mean_squared_error: 8.3429e-05 - val_loss: 1.1638e-04 - val_mean_absolute_error: 0.0080 - val_mean_squared_error: 1.1638e-04\n",
      "Epoch 28/300\n",
      "3600/3600 [==============================] - 0s 110us/sample - loss: 9.3737e-05 - mean_absolute_error: 0.0071 - mean_squared_error: 9.3737e-05 - val_loss: 1.3813e-04 - val_mean_absolute_error: 0.0092 - val_mean_squared_error: 1.3813e-04\n",
      "Epoch 29/300\n",
      "3600/3600 [==============================] - 0s 110us/sample - loss: 9.0723e-05 - mean_absolute_error: 0.0071 - mean_squared_error: 9.0723e-05 - val_loss: 1.1955e-04 - val_mean_absolute_error: 0.0082 - val_mean_squared_error: 1.1955e-04\n",
      "Epoch 30/300\n",
      "3600/3600 [==============================] - 0s 110us/sample - loss: 8.7742e-05 - mean_absolute_error: 0.0070 - mean_squared_error: 8.7742e-05 - val_loss: 1.2240e-04 - val_mean_absolute_error: 0.0089 - val_mean_squared_error: 1.2240e-04\n",
      "Epoch 31/300\n",
      "3600/3600 [==============================] - 0s 110us/sample - loss: 9.0607e-05 - mean_absolute_error: 0.0068 - mean_squared_error: 9.0607e-05 - val_loss: 6.9179e-05 - val_mean_absolute_error: 0.0066 - val_mean_squared_error: 6.9179e-05\n",
      "Epoch 32/300\n",
      "3600/3600 [==============================] - 0s 109us/sample - loss: 6.8401e-05 - mean_absolute_error: 0.0060 - mean_squared_error: 6.8401e-05 - val_loss: 9.3136e-05 - val_mean_absolute_error: 0.0072 - val_mean_squared_error: 9.3136e-05\n",
      "Epoch 33/300\n",
      "3600/3600 [==============================] - 0s 110us/sample - loss: 8.9652e-05 - mean_absolute_error: 0.0069 - mean_squared_error: 8.9652e-05 - val_loss: 2.6071e-04 - val_mean_absolute_error: 0.0130 - val_mean_squared_error: 2.6071e-04\n"
     ]
    },
    {
     "name": "stdout",
     "output_type": "stream",
     "text": [
      "Epoch 34/300\n",
      "3600/3600 [==============================] - 0s 134us/sample - loss: 9.1515e-05 - mean_absolute_error: 0.0071 - mean_squared_error: 9.1515e-05 - val_loss: 9.1673e-05 - val_mean_absolute_error: 0.0077 - val_mean_squared_error: 9.1673e-05\n",
      "Epoch 35/300\n",
      "3600/3600 [==============================] - 0s 132us/sample - loss: 8.7034e-05 - mean_absolute_error: 0.0069 - mean_squared_error: 8.7035e-05 - val_loss: 6.2633e-05 - val_mean_absolute_error: 0.0059 - val_mean_squared_error: 6.2633e-05\n",
      "Epoch 36/300\n",
      "3600/3600 [==============================] - 0s 112us/sample - loss: 9.4592e-05 - mean_absolute_error: 0.0073 - mean_squared_error: 9.4592e-05 - val_loss: 7.3565e-05 - val_mean_absolute_error: 0.0067 - val_mean_squared_error: 7.3565e-05\n",
      "Epoch 37/300\n",
      "3600/3600 [==============================] - 0s 111us/sample - loss: 7.1829e-05 - mean_absolute_error: 0.0063 - mean_squared_error: 7.1829e-05 - val_loss: 9.5112e-05 - val_mean_absolute_error: 0.0069 - val_mean_squared_error: 9.5112e-05\n",
      "Epoch 38/300\n",
      "3600/3600 [==============================] - 0s 111us/sample - loss: 9.1143e-05 - mean_absolute_error: 0.0071 - mean_squared_error: 9.1143e-05 - val_loss: 8.3481e-05 - val_mean_absolute_error: 0.0069 - val_mean_squared_error: 8.3481e-05\n",
      "Epoch 39/300\n",
      "3600/3600 [==============================] - 0s 110us/sample - loss: 9.1061e-05 - mean_absolute_error: 0.0073 - mean_squared_error: 9.1061e-05 - val_loss: 6.8745e-05 - val_mean_absolute_error: 0.0064 - val_mean_squared_error: 6.8745e-05\n",
      "Epoch 40/300\n",
      "3600/3600 [==============================] - 0s 112us/sample - loss: 7.6882e-05 - mean_absolute_error: 0.0065 - mean_squared_error: 7.6882e-05 - val_loss: 1.0770e-04 - val_mean_absolute_error: 0.0084 - val_mean_squared_error: 1.0770e-04\n",
      "Epoch 41/300\n",
      "3600/3600 [==============================] - 0s 112us/sample - loss: 9.5251e-05 - mean_absolute_error: 0.0073 - mean_squared_error: 9.5251e-05 - val_loss: 2.1993e-04 - val_mean_absolute_error: 0.0116 - val_mean_squared_error: 2.1993e-04\n",
      "Epoch 42/300\n",
      "3600/3600 [==============================] - 0s 110us/sample - loss: 8.6407e-05 - mean_absolute_error: 0.0069 - mean_squared_error: 8.6407e-05 - val_loss: 3.5253e-05 - val_mean_absolute_error: 0.0039 - val_mean_squared_error: 3.5253e-05\n",
      "Epoch 43/300\n",
      "3600/3600 [==============================] - 0s 108us/sample - loss: 6.6480e-05 - mean_absolute_error: 0.0060 - mean_squared_error: 6.6480e-05 - val_loss: 6.0608e-05 - val_mean_absolute_error: 0.0060 - val_mean_squared_error: 6.0608e-05\n",
      "Epoch 44/300\n",
      "3600/3600 [==============================] - 0s 110us/sample - loss: 1.0120e-04 - mean_absolute_error: 0.0072 - mean_squared_error: 1.0120e-04 - val_loss: 5.7152e-05 - val_mean_absolute_error: 0.0058 - val_mean_squared_error: 5.7152e-05\n",
      "Epoch 45/300\n",
      "3600/3600 [==============================] - 0s 109us/sample - loss: 7.9711e-05 - mean_absolute_error: 0.0067 - mean_squared_error: 7.9711e-05 - val_loss: 7.4747e-05 - val_mean_absolute_error: 0.0064 - val_mean_squared_error: 7.4747e-05\n",
      "Epoch 46/300\n",
      "3600/3600 [==============================] - 0s 110us/sample - loss: 5.4652e-04 - mean_absolute_error: 0.0135 - mean_squared_error: 5.4652e-04 - val_loss: 1.0702e-04 - val_mean_absolute_error: 0.0084 - val_mean_squared_error: 1.0702e-04\n",
      "Epoch 47/300\n",
      "3600/3600 [==============================] - 0s 111us/sample - loss: 6.4829e-05 - mean_absolute_error: 0.0058 - mean_squared_error: 6.4828e-05 - val_loss: 6.2222e-05 - val_mean_absolute_error: 0.0053 - val_mean_squared_error: 6.2222e-05\n",
      "Epoch 48/300\n",
      "3600/3600 [==============================] - 0s 109us/sample - loss: 4.6170e-05 - mean_absolute_error: 0.0048 - mean_squared_error: 4.6170e-05 - val_loss: 5.3372e-05 - val_mean_absolute_error: 0.0053 - val_mean_squared_error: 5.3372e-05\n",
      "Epoch 49/300\n",
      "3600/3600 [==============================] - 0s 108us/sample - loss: 4.6107e-05 - mean_absolute_error: 0.0048 - mean_squared_error: 4.6107e-05 - val_loss: 4.9833e-05 - val_mean_absolute_error: 0.0048 - val_mean_squared_error: 4.9833e-05\n",
      "Epoch 50/300\n",
      "3600/3600 [==============================] - 0s 108us/sample - loss: 4.8674e-05 - mean_absolute_error: 0.0049 - mean_squared_error: 4.8674e-05 - val_loss: 4.1393e-05 - val_mean_absolute_error: 0.0043 - val_mean_squared_error: 4.1393e-05\n",
      "Epoch 51/300\n",
      "3600/3600 [==============================] - 0s 108us/sample - loss: 5.1508e-05 - mean_absolute_error: 0.0051 - mean_squared_error: 5.1508e-05 - val_loss: 7.3209e-05 - val_mean_absolute_error: 0.0066 - val_mean_squared_error: 7.3208e-05\n",
      "Epoch 52/300\n",
      "3600/3600 [==============================] - 0s 106us/sample - loss: 5.7103e-05 - mean_absolute_error: 0.0055 - mean_squared_error: 5.7103e-05 - val_loss: 7.1119e-05 - val_mean_absolute_error: 0.0065 - val_mean_squared_error: 7.1119e-05\n",
      "Epoch 53/300\n",
      "3600/3600 [==============================] - 0s 113us/sample - loss: 5.7240e-05 - mean_absolute_error: 0.0055 - mean_squared_error: 5.7240e-05 - val_loss: 5.5090e-05 - val_mean_absolute_error: 0.0055 - val_mean_squared_error: 5.5090e-05\n",
      "Epoch 54/300\n",
      "3600/3600 [==============================] - 0s 137us/sample - loss: 5.5000e-05 - mean_absolute_error: 0.0054 - mean_squared_error: 5.5000e-05 - val_loss: 7.3501e-05 - val_mean_absolute_error: 0.0058 - val_mean_squared_error: 7.3501e-05\n",
      "Epoch 55/300\n",
      "3600/3600 [==============================] - 0s 117us/sample - loss: 5.4180e-05 - mean_absolute_error: 0.0054 - mean_squared_error: 5.4180e-05 - val_loss: 7.8574e-05 - val_mean_absolute_error: 0.0071 - val_mean_squared_error: 7.8574e-05\n",
      "Epoch 56/300\n",
      "3600/3600 [==============================] - 0s 110us/sample - loss: 6.8897e-05 - mean_absolute_error: 0.0063 - mean_squared_error: 6.8897e-05 - val_loss: 6.8813e-05 - val_mean_absolute_error: 0.0061 - val_mean_squared_error: 6.8813e-05\n",
      "Epoch 57/300\n",
      "3600/3600 [==============================] - 0s 111us/sample - loss: 7.2949e-05 - mean_absolute_error: 0.0064 - mean_squared_error: 7.2949e-05 - val_loss: 8.9318e-05 - val_mean_absolute_error: 0.0077 - val_mean_squared_error: 8.9318e-05\n",
      "Epoch 58/300\n",
      "3600/3600 [==============================] - 0s 111us/sample - loss: 6.2588e-05 - mean_absolute_error: 0.0059 - mean_squared_error: 6.2588e-05 - val_loss: 1.8845e-04 - val_mean_absolute_error: 0.0091 - val_mean_squared_error: 1.8845e-04\n",
      "Epoch 59/300\n",
      "3600/3600 [==============================] - 0s 111us/sample - loss: 6.8706e-05 - mean_absolute_error: 0.0062 - mean_squared_error: 6.8706e-05 - val_loss: 1.4299e-04 - val_mean_absolute_error: 0.0092 - val_mean_squared_error: 1.4299e-04\n",
      "Epoch 60/300\n",
      "3600/3600 [==============================] - 0s 109us/sample - loss: 6.8169e-05 - mean_absolute_error: 0.0062 - mean_squared_error: 6.8169e-05 - val_loss: 5.1282e-05 - val_mean_absolute_error: 0.0053 - val_mean_squared_error: 5.1282e-05\n",
      "Epoch 61/300\n",
      "3600/3600 [==============================] - 0s 110us/sample - loss: 6.5413e-05 - mean_absolute_error: 0.0060 - mean_squared_error: 6.5413e-05 - val_loss: 1.2830e-04 - val_mean_absolute_error: 0.0094 - val_mean_squared_error: 1.2830e-04\n",
      "Epoch 62/300\n",
      "3600/3600 [==============================] - 0s 110us/sample - loss: 6.7918e-05 - mean_absolute_error: 0.0061 - mean_squared_error: 6.7918e-05 - val_loss: 5.2623e-05 - val_mean_absolute_error: 0.0055 - val_mean_squared_error: 5.2623e-05\n",
      "Epoch 63/300\n",
      "3600/3600 [==============================] - 0s 109us/sample - loss: 7.2801e-05 - mean_absolute_error: 0.0064 - mean_squared_error: 7.2801e-05 - val_loss: 9.8709e-05 - val_mean_absolute_error: 0.0077 - val_mean_squared_error: 9.8709e-05\n",
      "Epoch 64/300\n",
      "3600/3600 [==============================] - 0s 108us/sample - loss: 5.9879e-05 - mean_absolute_error: 0.0058 - mean_squared_error: 5.9879e-05 - val_loss: 8.2466e-05 - val_mean_absolute_error: 0.0068 - val_mean_squared_error: 8.2466e-05\n",
      "Epoch 65/300\n",
      "3600/3600 [==============================] - 0s 109us/sample - loss: 6.7652e-05 - mean_absolute_error: 0.0063 - mean_squared_error: 6.7652e-05 - val_loss: 6.1134e-05 - val_mean_absolute_error: 0.0058 - val_mean_squared_error: 6.1134e-05\n",
      "Epoch 66/300\n",
      "3600/3600 [==============================] - 0s 110us/sample - loss: 5.8594e-05 - mean_absolute_error: 0.0057 - mean_squared_error: 5.8594e-05 - val_loss: 6.3904e-05 - val_mean_absolute_error: 0.0058 - val_mean_squared_error: 6.3904e-05\n"
     ]
    },
    {
     "name": "stdout",
     "output_type": "stream",
     "text": [
      "Epoch 67/300\n",
      "3600/3600 [==============================] - 0s 110us/sample - loss: 6.6732e-05 - mean_absolute_error: 0.0061 - mean_squared_error: 6.6732e-05 - val_loss: 5.6065e-05 - val_mean_absolute_error: 0.0055 - val_mean_squared_error: 5.6065e-05\n",
      "Epoch 68/300\n",
      "3600/3600 [==============================] - 0s 108us/sample - loss: 4.8646e-05 - mean_absolute_error: 0.0051 - mean_squared_error: 4.8646e-05 - val_loss: 6.1712e-05 - val_mean_absolute_error: 0.0061 - val_mean_squared_error: 6.1712e-05\n",
      "Epoch 69/300\n",
      "3600/3600 [==============================] - 0s 104us/sample - loss: 7.2393e-05 - mean_absolute_error: 0.0064 - mean_squared_error: 7.2393e-05 - val_loss: 5.6916e-05 - val_mean_absolute_error: 0.0058 - val_mean_squared_error: 5.6916e-05\n",
      "Epoch 70/300\n",
      "3600/3600 [==============================] - 0s 105us/sample - loss: 5.5772e-05 - mean_absolute_error: 0.0055 - mean_squared_error: 5.5772e-05 - val_loss: 7.7727e-05 - val_mean_absolute_error: 0.0070 - val_mean_squared_error: 7.7727e-05\n",
      "Epoch 71/300\n",
      "3600/3600 [==============================] - 0s 109us/sample - loss: 5.2717e-05 - mean_absolute_error: 0.0054 - mean_squared_error: 5.2717e-05 - val_loss: 1.0214e-04 - val_mean_absolute_error: 0.0075 - val_mean_squared_error: 1.0214e-04\n",
      "Epoch 72/300\n",
      "3600/3600 [==============================] - 0s 109us/sample - loss: 5.3407e-05 - mean_absolute_error: 0.0054 - mean_squared_error: 5.3407e-05 - val_loss: 6.8715e-05 - val_mean_absolute_error: 0.0064 - val_mean_squared_error: 6.8715e-05\n",
      "Epoch 73/300\n",
      "3600/3600 [==============================] - 0s 111us/sample - loss: 6.1082e-05 - mean_absolute_error: 0.0058 - mean_squared_error: 6.1082e-05 - val_loss: 9.3521e-05 - val_mean_absolute_error: 0.0072 - val_mean_squared_error: 9.3521e-05\n",
      "Epoch 74/300\n",
      "3600/3600 [==============================] - 0s 110us/sample - loss: 7.4667e-05 - mean_absolute_error: 0.0064 - mean_squared_error: 7.4667e-05 - val_loss: 1.2833e-04 - val_mean_absolute_error: 0.0092 - val_mean_squared_error: 1.2833e-04\n",
      "Epoch 75/300\n",
      "3600/3600 [==============================] - 0s 106us/sample - loss: 5.3980e-05 - mean_absolute_error: 0.0054 - mean_squared_error: 5.3980e-05 - val_loss: 4.9429e-05 - val_mean_absolute_error: 0.0056 - val_mean_squared_error: 4.9429e-05\n",
      "Epoch 76/300\n",
      "3600/3600 [==============================] - 0s 111us/sample - loss: 5.4900e-05 - mean_absolute_error: 0.0055 - mean_squared_error: 5.4900e-05 - val_loss: 5.6967e-05 - val_mean_absolute_error: 0.0057 - val_mean_squared_error: 5.6967e-05\n",
      "Epoch 77/300\n",
      "3600/3600 [==============================] - 0s 128us/sample - loss: 6.0202e-05 - mean_absolute_error: 0.0058 - mean_squared_error: 6.0202e-05 - val_loss: 4.7205e-05 - val_mean_absolute_error: 0.0053 - val_mean_squared_error: 4.7205e-05\n",
      "Epoch 78/300\n",
      "3600/3600 [==============================] - 0s 115us/sample - loss: 6.5091e-05 - mean_absolute_error: 0.0060 - mean_squared_error: 6.5091e-05 - val_loss: 6.1013e-05 - val_mean_absolute_error: 0.0059 - val_mean_squared_error: 6.1013e-05\n",
      "Epoch 79/300\n",
      "3600/3600 [==============================] - 0s 110us/sample - loss: 4.8020e-05 - mean_absolute_error: 0.0051 - mean_squared_error: 4.8020e-05 - val_loss: 5.3570e-05 - val_mean_absolute_error: 0.0054 - val_mean_squared_error: 5.3570e-05\n",
      "Epoch 80/300\n",
      "3600/3600 [==============================] - 0s 112us/sample - loss: 5.3072e-05 - mean_absolute_error: 0.0054 - mean_squared_error: 5.3072e-05 - val_loss: 7.2483e-05 - val_mean_absolute_error: 0.0062 - val_mean_squared_error: 7.2483e-05\n",
      "Epoch 81/300\n",
      "3600/3600 [==============================] - 0s 110us/sample - loss: 5.5761e-05 - mean_absolute_error: 0.0055 - mean_squared_error: 5.5761e-05 - val_loss: 5.8595e-05 - val_mean_absolute_error: 0.0058 - val_mean_squared_error: 5.8595e-05\n",
      "Epoch 82/300\n",
      "3600/3600 [==============================] - 0s 110us/sample - loss: 6.8533e-05 - mean_absolute_error: 0.0062 - mean_squared_error: 6.8533e-05 - val_loss: 5.4795e-05 - val_mean_absolute_error: 0.0057 - val_mean_squared_error: 5.4795e-05\n",
      "Epoch 83/300\n",
      "3600/3600 [==============================] - 0s 111us/sample - loss: 5.7042e-05 - mean_absolute_error: 0.0056 - mean_squared_error: 5.7042e-05 - val_loss: 4.5464e-05 - val_mean_absolute_error: 0.0050 - val_mean_squared_error: 4.5464e-05\n",
      "Epoch 84/300\n",
      "3600/3600 [==============================] - 0s 111us/sample - loss: 5.1185e-05 - mean_absolute_error: 0.0053 - mean_squared_error: 5.1185e-05 - val_loss: 3.1735e-05 - val_mean_absolute_error: 0.0038 - val_mean_squared_error: 3.1735e-05\n",
      "Epoch 85/300\n",
      "3600/3600 [==============================] - 0s 107us/sample - loss: 5.4077e-05 - mean_absolute_error: 0.0055 - mean_squared_error: 5.4077e-05 - val_loss: 5.9680e-05 - val_mean_absolute_error: 0.0055 - val_mean_squared_error: 5.9680e-05\n",
      "Epoch 86/300\n",
      "3600/3600 [==============================] - 0s 107us/sample - loss: 5.2991e-05 - mean_absolute_error: 0.0054 - mean_squared_error: 5.2991e-05 - val_loss: 7.0240e-05 - val_mean_absolute_error: 0.0058 - val_mean_squared_error: 7.0240e-05\n",
      "Epoch 87/300\n",
      "3600/3600 [==============================] - 0s 108us/sample - loss: 5.4922e-05 - mean_absolute_error: 0.0055 - mean_squared_error: 5.4922e-05 - val_loss: 4.1651e-05 - val_mean_absolute_error: 0.0046 - val_mean_squared_error: 4.1651e-05\n",
      "Epoch 88/300\n",
      "3600/3600 [==============================] - 0s 108us/sample - loss: 5.6065e-05 - mean_absolute_error: 0.0056 - mean_squared_error: 5.6065e-05 - val_loss: 4.3679e-05 - val_mean_absolute_error: 0.0050 - val_mean_squared_error: 4.3679e-05\n",
      "Epoch 89/300\n",
      "3600/3600 [==============================] - 0s 109us/sample - loss: 4.5008e-05 - mean_absolute_error: 0.0049 - mean_squared_error: 4.5008e-05 - val_loss: 4.1957e-05 - val_mean_absolute_error: 0.0048 - val_mean_squared_error: 4.1957e-05\n",
      "Epoch 90/300\n",
      "3600/3600 [==============================] - 0s 111us/sample - loss: 4.4549e-05 - mean_absolute_error: 0.0049 - mean_squared_error: 4.4549e-05 - val_loss: 4.4967e-05 - val_mean_absolute_error: 0.0052 - val_mean_squared_error: 4.4967e-05\n",
      "Epoch 91/300\n",
      "3600/3600 [==============================] - 0s 110us/sample - loss: 4.8102e-05 - mean_absolute_error: 0.0052 - mean_squared_error: 4.8102e-05 - val_loss: 4.1970e-05 - val_mean_absolute_error: 0.0048 - val_mean_squared_error: 4.1970e-05\n",
      "Epoch 92/300\n",
      "3600/3600 [==============================] - 0s 109us/sample - loss: 5.6215e-05 - mean_absolute_error: 0.0056 - mean_squared_error: 5.6215e-05 - val_loss: 4.0418e-05 - val_mean_absolute_error: 0.0047 - val_mean_squared_error: 4.0418e-05\n",
      "Epoch 93/300\n",
      "3600/3600 [==============================] - 0s 108us/sample - loss: 5.2149e-05 - mean_absolute_error: 0.0053 - mean_squared_error: 5.2149e-05 - val_loss: 3.5064e-05 - val_mean_absolute_error: 0.0042 - val_mean_squared_error: 3.5064e-05\n",
      "Epoch 94/300\n",
      "3600/3600 [==============================] - 0s 110us/sample - loss: 5.4573e-05 - mean_absolute_error: 0.0054 - mean_squared_error: 5.4573e-05 - val_loss: 4.5003e-05 - val_mean_absolute_error: 0.0047 - val_mean_squared_error: 4.5003e-05\n",
      "Epoch 95/300\n",
      "3600/3600 [==============================] - 0s 110us/sample - loss: 5.2983e-05 - mean_absolute_error: 0.0052 - mean_squared_error: 5.2983e-05 - val_loss: 1.1502e-04 - val_mean_absolute_error: 0.0083 - val_mean_squared_error: 1.1502e-04\n",
      "Epoch 96/300\n",
      "3600/3600 [==============================] - 0s 108us/sample - loss: 5.2021e-05 - mean_absolute_error: 0.0053 - mean_squared_error: 5.2021e-05 - val_loss: 1.0359e-04 - val_mean_absolute_error: 0.0087 - val_mean_squared_error: 1.0359e-04\n",
      "Epoch 97/300\n",
      "3600/3600 [==============================] - 0s 108us/sample - loss: 4.9943e-05 - mean_absolute_error: 0.0052 - mean_squared_error: 4.9943e-05 - val_loss: 3.7563e-05 - val_mean_absolute_error: 0.0041 - val_mean_squared_error: 3.7563e-05\n",
      "Epoch 98/300\n",
      "3600/3600 [==============================] - 0s 107us/sample - loss: 5.8185e-05 - mean_absolute_error: 0.0056 - mean_squared_error: 5.8185e-05 - val_loss: 5.8232e-05 - val_mean_absolute_error: 0.0053 - val_mean_squared_error: 5.8232e-05\n",
      "Epoch 99/300\n",
      "3600/3600 [==============================] - 0s 108us/sample - loss: 4.5003e-05 - mean_absolute_error: 0.0049 - mean_squared_error: 4.5003e-05 - val_loss: 5.0452e-05 - val_mean_absolute_error: 0.0053 - val_mean_squared_error: 5.0452e-05\n"
     ]
    },
    {
     "name": "stdout",
     "output_type": "stream",
     "text": [
      "Epoch 100/300\n",
      "3600/3600 [==============================] - 0s 118us/sample - loss: 5.5036e-05 - mean_absolute_error: 0.0055 - mean_squared_error: 5.5036e-05 - val_loss: 3.7047e-05 - val_mean_absolute_error: 0.0044 - val_mean_squared_error: 3.7047e-05\n",
      "Epoch 101/300\n",
      "3600/3600 [==============================] - 0s 133us/sample - loss: 4.4231e-05 - mean_absolute_error: 0.0048 - mean_squared_error: 4.4231e-05 - val_loss: 4.7204e-05 - val_mean_absolute_error: 0.0054 - val_mean_squared_error: 4.7204e-05\n",
      "Epoch 102/300\n",
      "3600/3600 [==============================] - 0s 127us/sample - loss: 4.2772e-05 - mean_absolute_error: 0.0047 - mean_squared_error: 4.2772e-05 - val_loss: 5.2147e-05 - val_mean_absolute_error: 0.0054 - val_mean_squared_error: 5.2147e-05\n",
      "Epoch 103/300\n",
      "3600/3600 [==============================] - 0s 109us/sample - loss: 6.7136e-05 - mean_absolute_error: 0.0059 - mean_squared_error: 6.7136e-05 - val_loss: 5.7398e-05 - val_mean_absolute_error: 0.0058 - val_mean_squared_error: 5.7398e-05\n",
      "Epoch 104/300\n",
      "3600/3600 [==============================] - 0s 108us/sample - loss: 4.5007e-05 - mean_absolute_error: 0.0048 - mean_squared_error: 4.5007e-05 - val_loss: 4.9902e-05 - val_mean_absolute_error: 0.0049 - val_mean_squared_error: 4.9902e-05\n",
      "Epoch 105/300\n",
      "3600/3600 [==============================] - 0s 109us/sample - loss: 4.3597e-05 - mean_absolute_error: 0.0048 - mean_squared_error: 4.3597e-05 - val_loss: 4.3945e-05 - val_mean_absolute_error: 0.0043 - val_mean_squared_error: 4.3945e-05\n",
      "Epoch 106/300\n",
      "3600/3600 [==============================] - 0s 112us/sample - loss: 4.4339e-05 - mean_absolute_error: 0.0048 - mean_squared_error: 4.4339e-05 - val_loss: 5.9953e-05 - val_mean_absolute_error: 0.0053 - val_mean_squared_error: 5.9953e-05\n",
      "Epoch 107/300\n",
      "3600/3600 [==============================] - 0s 111us/sample - loss: 4.0838e-05 - mean_absolute_error: 0.0046 - mean_squared_error: 4.0838e-05 - val_loss: 4.0735e-05 - val_mean_absolute_error: 0.0047 - val_mean_squared_error: 4.0735e-05\n",
      "Epoch 108/300\n",
      "3600/3600 [==============================] - 0s 111us/sample - loss: 4.5825e-05 - mean_absolute_error: 0.0049 - mean_squared_error: 4.5825e-05 - val_loss: 2.9283e-05 - val_mean_absolute_error: 0.0036 - val_mean_squared_error: 2.9283e-05\n",
      "Epoch 109/300\n",
      "3600/3600 [==============================] - 0s 106us/sample - loss: 4.2230e-05 - mean_absolute_error: 0.0046 - mean_squared_error: 4.2230e-05 - val_loss: 3.6991e-05 - val_mean_absolute_error: 0.0040 - val_mean_squared_error: 3.6991e-05\n",
      "Epoch 110/300\n",
      "3600/3600 [==============================] - 0s 108us/sample - loss: 4.6540e-05 - mean_absolute_error: 0.0049 - mean_squared_error: 4.6540e-05 - val_loss: 3.3347e-05 - val_mean_absolute_error: 0.0041 - val_mean_squared_error: 3.3347e-05\n",
      "Epoch 111/300\n",
      "3600/3600 [==============================] - 0s 105us/sample - loss: 4.6099e-05 - mean_absolute_error: 0.0049 - mean_squared_error: 4.6099e-05 - val_loss: 3.9212e-05 - val_mean_absolute_error: 0.0047 - val_mean_squared_error: 3.9212e-05\n",
      "Epoch 112/300\n",
      "3600/3600 [==============================] - 0s 108us/sample - loss: 4.3431e-05 - mean_absolute_error: 0.0047 - mean_squared_error: 4.3431e-05 - val_loss: 3.5866e-05 - val_mean_absolute_error: 0.0043 - val_mean_squared_error: 3.5866e-05\n",
      "Epoch 113/300\n",
      "3600/3600 [==============================] - 0s 110us/sample - loss: 6.0615e-05 - mean_absolute_error: 0.0056 - mean_squared_error: 6.0615e-05 - val_loss: 4.5530e-05 - val_mean_absolute_error: 0.0048 - val_mean_squared_error: 4.5530e-05\n",
      "Epoch 114/300\n",
      "3600/3600 [==============================] - 0s 111us/sample - loss: 4.1966e-05 - mean_absolute_error: 0.0046 - mean_squared_error: 4.1966e-05 - val_loss: 5.0992e-05 - val_mean_absolute_error: 0.0056 - val_mean_squared_error: 5.0992e-05\n",
      "Epoch 115/300\n",
      "3600/3600 [==============================] - 0s 108us/sample - loss: 4.8922e-05 - mean_absolute_error: 0.0050 - mean_squared_error: 4.8922e-05 - val_loss: 3.5820e-05 - val_mean_absolute_error: 0.0041 - val_mean_squared_error: 3.5820e-05\n",
      "Epoch 116/300\n",
      "3600/3600 [==============================] - 0s 108us/sample - loss: 4.8747e-05 - mean_absolute_error: 0.0051 - mean_squared_error: 4.8747e-05 - val_loss: 3.7112e-05 - val_mean_absolute_error: 0.0044 - val_mean_squared_error: 3.7112e-05\n",
      "Epoch 117/300\n",
      "3600/3600 [==============================] - 0s 108us/sample - loss: 3.9430e-05 - mean_absolute_error: 0.0045 - mean_squared_error: 3.9430e-05 - val_loss: 5.3445e-05 - val_mean_absolute_error: 0.0047 - val_mean_squared_error: 5.3445e-05\n",
      "Epoch 118/300\n",
      "3600/3600 [==============================] - 0s 109us/sample - loss: 4.5985e-05 - mean_absolute_error: 0.0050 - mean_squared_error: 4.5985e-05 - val_loss: 3.6512e-05 - val_mean_absolute_error: 0.0040 - val_mean_squared_error: 3.6512e-05\n",
      "Epoch 119/300\n",
      "3600/3600 [==============================] - 0s 109us/sample - loss: 3.5416e-05 - mean_absolute_error: 0.0042 - mean_squared_error: 3.5416e-05 - val_loss: 3.1586e-05 - val_mean_absolute_error: 0.0037 - val_mean_squared_error: 3.1586e-05\n",
      "Epoch 120/300\n",
      "3600/3600 [==============================] - 0s 107us/sample - loss: 3.9791e-05 - mean_absolute_error: 0.0045 - mean_squared_error: 3.9791e-05 - val_loss: 3.4378e-05 - val_mean_absolute_error: 0.0042 - val_mean_squared_error: 3.4378e-05\n",
      "Epoch 121/300\n",
      "3600/3600 [==============================] - 0s 108us/sample - loss: 4.4626e-05 - mean_absolute_error: 0.0049 - mean_squared_error: 4.4626e-05 - val_loss: 4.6206e-05 - val_mean_absolute_error: 0.0048 - val_mean_squared_error: 4.6206e-05\n",
      "Epoch 122/300\n",
      "3600/3600 [==============================] - 0s 123us/sample - loss: 3.7990e-05 - mean_absolute_error: 0.0044 - mean_squared_error: 3.7990e-05 - val_loss: 6.6834e-05 - val_mean_absolute_error: 0.0059 - val_mean_squared_error: 6.6834e-05\n",
      "Epoch 123/300\n",
      "3600/3600 [==============================] - 1s 139us/sample - loss: 4.7247e-05 - mean_absolute_error: 0.0051 - mean_squared_error: 4.7247e-05 - val_loss: 4.2214e-05 - val_mean_absolute_error: 0.0049 - val_mean_squared_error: 4.2214e-05\n",
      "Epoch 124/300\n",
      "3600/3600 [==============================] - 0s 114us/sample - loss: 4.1036e-05 - mean_absolute_error: 0.0046 - mean_squared_error: 4.1036e-05 - val_loss: 4.4616e-05 - val_mean_absolute_error: 0.0048 - val_mean_squared_error: 4.4616e-05\n",
      "Epoch 125/300\n",
      "3600/3600 [==============================] - 0s 108us/sample - loss: 4.6359e-05 - mean_absolute_error: 0.0049 - mean_squared_error: 4.6359e-05 - val_loss: 3.7029e-05 - val_mean_absolute_error: 0.0042 - val_mean_squared_error: 3.7029e-05\n",
      "Epoch 126/300\n",
      "3600/3600 [==============================] - 0s 108us/sample - loss: 4.2527e-05 - mean_absolute_error: 0.0048 - mean_squared_error: 4.2527e-05 - val_loss: 3.0320e-05 - val_mean_absolute_error: 0.0037 - val_mean_squared_error: 3.0320e-05\n",
      "Epoch 127/300\n",
      "3600/3600 [==============================] - 0s 109us/sample - loss: 4.8490e-05 - mean_absolute_error: 0.0051 - mean_squared_error: 4.8490e-05 - val_loss: 3.9339e-05 - val_mean_absolute_error: 0.0040 - val_mean_squared_error: 3.9339e-05\n",
      "Epoch 128/300\n",
      "3600/3600 [==============================] - 0s 111us/sample - loss: 4.2344e-05 - mean_absolute_error: 0.0046 - mean_squared_error: 4.2344e-05 - val_loss: 4.0591e-05 - val_mean_absolute_error: 0.0047 - val_mean_squared_error: 4.0591e-05\n",
      "Epoch 129/300\n",
      "3600/3600 [==============================] - 0s 108us/sample - loss: 3.9497e-05 - mean_absolute_error: 0.0045 - mean_squared_error: 3.9497e-05 - val_loss: 3.5510e-05 - val_mean_absolute_error: 0.0041 - val_mean_squared_error: 3.5510e-05\n",
      "Epoch 130/300\n",
      "3600/3600 [==============================] - 0s 110us/sample - loss: 4.5545e-05 - mean_absolute_error: 0.0048 - mean_squared_error: 4.5545e-05 - val_loss: 5.1725e-05 - val_mean_absolute_error: 0.0052 - val_mean_squared_error: 5.1725e-05\n",
      "Epoch 131/300\n",
      "3600/3600 [==============================] - 0s 109us/sample - loss: 4.6017e-05 - mean_absolute_error: 0.0050 - mean_squared_error: 4.6017e-05 - val_loss: 5.7381e-05 - val_mean_absolute_error: 0.0054 - val_mean_squared_error: 5.7381e-05\n",
      "Epoch 132/300\n",
      "3600/3600 [==============================] - 0s 108us/sample - loss: 3.9078e-05 - mean_absolute_error: 0.0045 - mean_squared_error: 3.9078e-05 - val_loss: 3.2951e-05 - val_mean_absolute_error: 0.0041 - val_mean_squared_error: 3.2951e-05\n"
     ]
    },
    {
     "name": "stdout",
     "output_type": "stream",
     "text": [
      "Epoch 133/300\n",
      "3600/3600 [==============================] - 0s 109us/sample - loss: 4.5920e-05 - mean_absolute_error: 0.0049 - mean_squared_error: 4.5920e-05 - val_loss: 3.2365e-05 - val_mean_absolute_error: 0.0036 - val_mean_squared_error: 3.2365e-05\n",
      "Epoch 134/300\n",
      "3600/3600 [==============================] - 0s 109us/sample - loss: 3.4587e-05 - mean_absolute_error: 0.0041 - mean_squared_error: 3.4587e-05 - val_loss: 3.3199e-05 - val_mean_absolute_error: 0.0041 - val_mean_squared_error: 3.3199e-05\n",
      "Epoch 135/300\n",
      "3600/3600 [==============================] - 0s 110us/sample - loss: 4.1067e-05 - mean_absolute_error: 0.0047 - mean_squared_error: 4.1067e-05 - val_loss: 4.7881e-05 - val_mean_absolute_error: 0.0048 - val_mean_squared_error: 4.7881e-05\n",
      "Epoch 136/300\n",
      "3600/3600 [==============================] - 0s 110us/sample - loss: 4.5478e-05 - mean_absolute_error: 0.0049 - mean_squared_error: 4.5478e-05 - val_loss: 2.9492e-05 - val_mean_absolute_error: 0.0038 - val_mean_squared_error: 2.9492e-05\n",
      "Epoch 137/300\n",
      "3600/3600 [==============================] - 0s 109us/sample - loss: 4.1527e-05 - mean_absolute_error: 0.0047 - mean_squared_error: 4.1527e-05 - val_loss: 3.4699e-05 - val_mean_absolute_error: 0.0044 - val_mean_squared_error: 3.4699e-05\n",
      "Epoch 138/300\n",
      "3600/3600 [==============================] - 0s 110us/sample - loss: 3.7968e-05 - mean_absolute_error: 0.0043 - mean_squared_error: 3.7968e-05 - val_loss: 6.1477e-05 - val_mean_absolute_error: 0.0051 - val_mean_squared_error: 6.1477e-05\n",
      "Epoch 139/300\n",
      "3600/3600 [==============================] - 0s 112us/sample - loss: 3.9997e-05 - mean_absolute_error: 0.0045 - mean_squared_error: 3.9997e-05 - val_loss: 3.1806e-05 - val_mean_absolute_error: 0.0041 - val_mean_squared_error: 3.1806e-05\n",
      "Epoch 140/300\n",
      "3600/3600 [==============================] - 0s 108us/sample - loss: 4.0279e-05 - mean_absolute_error: 0.0045 - mean_squared_error: 4.0279e-05 - val_loss: 7.9131e-05 - val_mean_absolute_error: 0.0056 - val_mean_squared_error: 7.9131e-05\n",
      "Epoch 141/300\n",
      "3600/3600 [==============================] - 0s 107us/sample - loss: 4.1413e-05 - mean_absolute_error: 0.0045 - mean_squared_error: 4.1413e-05 - val_loss: 9.1156e-05 - val_mean_absolute_error: 0.0063 - val_mean_squared_error: 9.1156e-05\n",
      "Epoch 142/300\n",
      "3600/3600 [==============================] - 0s 106us/sample - loss: 4.7654e-05 - mean_absolute_error: 0.0050 - mean_squared_error: 4.7654e-05 - val_loss: 3.8683e-05 - val_mean_absolute_error: 0.0046 - val_mean_squared_error: 3.8683e-05\n",
      "Epoch 143/300\n",
      "3600/3600 [==============================] - 0s 106us/sample - loss: 4.3257e-05 - mean_absolute_error: 0.0047 - mean_squared_error: 4.3257e-05 - val_loss: 3.0641e-05 - val_mean_absolute_error: 0.0039 - val_mean_squared_error: 3.0641e-05\n",
      "Epoch 144/300\n",
      "3600/3600 [==============================] - 0s 107us/sample - loss: 3.6905e-05 - mean_absolute_error: 0.0043 - mean_squared_error: 3.6905e-05 - val_loss: 2.6142e-05 - val_mean_absolute_error: 0.0033 - val_mean_squared_error: 2.6142e-05\n",
      "Epoch 145/300\n",
      "3600/3600 [==============================] - 0s 109us/sample - loss: 3.8003e-05 - mean_absolute_error: 0.0044 - mean_squared_error: 3.8003e-05 - val_loss: 3.0052e-05 - val_mean_absolute_error: 0.0038 - val_mean_squared_error: 3.0052e-05\n",
      "Epoch 146/300\n",
      "3600/3600 [==============================] - 0s 108us/sample - loss: 3.9173e-05 - mean_absolute_error: 0.0045 - mean_squared_error: 3.9173e-05 - val_loss: 6.6496e-05 - val_mean_absolute_error: 0.0053 - val_mean_squared_error: 6.6496e-05\n",
      "Epoch 147/300\n",
      "3600/3600 [==============================] - 0s 109us/sample - loss: 4.0205e-05 - mean_absolute_error: 0.0044 - mean_squared_error: 4.0205e-05 - val_loss: 2.9825e-05 - val_mean_absolute_error: 0.0036 - val_mean_squared_error: 2.9825e-05\n",
      "Epoch 148/300\n",
      "3600/3600 [==============================] - 0s 126us/sample - loss: 3.6786e-05 - mean_absolute_error: 0.0043 - mean_squared_error: 3.6786e-05 - val_loss: 3.7848e-05 - val_mean_absolute_error: 0.0040 - val_mean_squared_error: 3.7848e-05\n",
      "Epoch 149/300\n",
      "3600/3600 [==============================] - 0s 139us/sample - loss: 3.3513e-05 - mean_absolute_error: 0.0040 - mean_squared_error: 3.3513e-05 - val_loss: 5.0578e-05 - val_mean_absolute_error: 0.0046 - val_mean_squared_error: 5.0578e-05\n",
      "Epoch 150/300\n",
      "3600/3600 [==============================] - 0s 112us/sample - loss: 3.3991e-05 - mean_absolute_error: 0.0041 - mean_squared_error: 3.3991e-05 - val_loss: 6.1328e-05 - val_mean_absolute_error: 0.0051 - val_mean_squared_error: 6.1328e-05\n",
      "Epoch 151/300\n",
      "3600/3600 [==============================] - 0s 110us/sample - loss: 5.0368e-05 - mean_absolute_error: 0.0051 - mean_squared_error: 5.0368e-05 - val_loss: 6.6313e-05 - val_mean_absolute_error: 0.0061 - val_mean_squared_error: 6.6313e-05\n",
      "Epoch 152/300\n",
      "3600/3600 [==============================] - 0s 109us/sample - loss: 3.8474e-05 - mean_absolute_error: 0.0043 - mean_squared_error: 3.8474e-05 - val_loss: 3.0635e-05 - val_mean_absolute_error: 0.0038 - val_mean_squared_error: 3.0635e-05\n",
      "Epoch 153/300\n",
      "3600/3600 [==============================] - 0s 111us/sample - loss: 3.7740e-05 - mean_absolute_error: 0.0042 - mean_squared_error: 3.7740e-05 - val_loss: 6.6909e-05 - val_mean_absolute_error: 0.0069 - val_mean_squared_error: 6.6909e-05\n",
      "Epoch 154/300\n",
      "3600/3600 [==============================] - 0s 113us/sample - loss: 3.2489e-05 - mean_absolute_error: 0.0039 - mean_squared_error: 3.2489e-05 - val_loss: 5.7951e-05 - val_mean_absolute_error: 0.0057 - val_mean_squared_error: 5.7951e-05\n",
      "Epoch 155/300\n",
      "3600/3600 [==============================] - 0s 110us/sample - loss: 3.7700e-05 - mean_absolute_error: 0.0043 - mean_squared_error: 3.7700e-05 - val_loss: 1.0254e-04 - val_mean_absolute_error: 0.0084 - val_mean_squared_error: 1.0254e-04\n",
      "Epoch 156/300\n",
      "3600/3600 [==============================] - 0s 109us/sample - loss: 4.8670e-05 - mean_absolute_error: 0.0051 - mean_squared_error: 4.8670e-05 - val_loss: 4.0380e-05 - val_mean_absolute_error: 0.0047 - val_mean_squared_error: 4.0380e-05\n",
      "Epoch 157/300\n",
      "3600/3600 [==============================] - 0s 108us/sample - loss: 3.5185e-05 - mean_absolute_error: 0.0042 - mean_squared_error: 3.5185e-05 - val_loss: 4.1194e-05 - val_mean_absolute_error: 0.0040 - val_mean_squared_error: 4.1194e-05\n",
      "Epoch 158/300\n",
      "3600/3600 [==============================] - 0s 111us/sample - loss: 3.4208e-05 - mean_absolute_error: 0.0041 - mean_squared_error: 3.4208e-05 - val_loss: 2.8464e-05 - val_mean_absolute_error: 0.0034 - val_mean_squared_error: 2.8464e-05\n",
      "Epoch 159/300\n",
      "3600/3600 [==============================] - 0s 110us/sample - loss: 3.6941e-05 - mean_absolute_error: 0.0043 - mean_squared_error: 3.6941e-05 - val_loss: 3.1153e-05 - val_mean_absolute_error: 0.0038 - val_mean_squared_error: 3.1153e-05\n",
      "Epoch 160/300\n",
      "3600/3600 [==============================] - 0s 108us/sample - loss: 3.4856e-05 - mean_absolute_error: 0.0041 - mean_squared_error: 3.4856e-05 - val_loss: 3.6915e-05 - val_mean_absolute_error: 0.0038 - val_mean_squared_error: 3.6915e-05\n",
      "Epoch 161/300\n",
      "3600/3600 [==============================] - 0s 109us/sample - loss: 3.9937e-05 - mean_absolute_error: 0.0044 - mean_squared_error: 3.9937e-05 - val_loss: 4.5743e-05 - val_mean_absolute_error: 0.0053 - val_mean_squared_error: 4.5743e-05\n",
      "Epoch 162/300\n",
      "3600/3600 [==============================] - 0s 110us/sample - loss: 3.5923e-05 - mean_absolute_error: 0.0042 - mean_squared_error: 3.5923e-05 - val_loss: 4.0326e-05 - val_mean_absolute_error: 0.0043 - val_mean_squared_error: 4.0326e-05\n",
      "Epoch 163/300\n",
      "3600/3600 [==============================] - 0s 110us/sample - loss: 9.1840e-05 - mean_absolute_error: 0.0067 - mean_squared_error: 9.1840e-05 - val_loss: 3.5177e-05 - val_mean_absolute_error: 0.0041 - val_mean_squared_error: 3.5177e-05\n",
      "Epoch 164/300\n",
      "3600/3600 [==============================] - 0s 109us/sample - loss: 3.3899e-05 - mean_absolute_error: 0.0040 - mean_squared_error: 3.3899e-05 - val_loss: 3.1010e-05 - val_mean_absolute_error: 0.0036 - val_mean_squared_error: 3.1010e-05\n",
      "Epoch 165/300\n",
      "3600/3600 [==============================] - 0s 109us/sample - loss: 3.6326e-05 - mean_absolute_error: 0.0042 - mean_squared_error: 3.6326e-05 - val_loss: 2.6676e-05 - val_mean_absolute_error: 0.0034 - val_mean_squared_error: 2.6676e-05\n"
     ]
    },
    {
     "name": "stdout",
     "output_type": "stream",
     "text": [
      "Epoch 166/300\n",
      "3600/3600 [==============================] - 0s 111us/sample - loss: 3.2996e-05 - mean_absolute_error: 0.0039 - mean_squared_error: 3.2996e-05 - val_loss: 3.0407e-05 - val_mean_absolute_error: 0.0038 - val_mean_squared_error: 3.0407e-05\n",
      "Epoch 167/300\n",
      "3600/3600 [==============================] - 0s 109us/sample - loss: 3.0521e-05 - mean_absolute_error: 0.0038 - mean_squared_error: 3.0521e-05 - val_loss: 2.8986e-05 - val_mean_absolute_error: 0.0038 - val_mean_squared_error: 2.8986e-05\n",
      "Epoch 168/300\n",
      "3600/3600 [==============================] - 0s 106us/sample - loss: 3.1188e-05 - mean_absolute_error: 0.0038 - mean_squared_error: 3.1188e-05 - val_loss: 2.8385e-05 - val_mean_absolute_error: 0.0034 - val_mean_squared_error: 2.8385e-05\n",
      "Epoch 169/300\n",
      "3600/3600 [==============================] - 0s 106us/sample - loss: 2.9721e-05 - mean_absolute_error: 0.0037 - mean_squared_error: 2.9721e-05 - val_loss: 3.5577e-05 - val_mean_absolute_error: 0.0040 - val_mean_squared_error: 3.5577e-05\n",
      "Epoch 170/300\n",
      "3600/3600 [==============================] - 0s 115us/sample - loss: 3.3766e-05 - mean_absolute_error: 0.0041 - mean_squared_error: 3.3766e-05 - val_loss: 3.4778e-05 - val_mean_absolute_error: 0.0044 - val_mean_squared_error: 3.4778e-05\n",
      "Epoch 171/300\n",
      "3600/3600 [==============================] - 0s 129us/sample - loss: 3.5251e-05 - mean_absolute_error: 0.0041 - mean_squared_error: 3.5251e-05 - val_loss: 5.6645e-05 - val_mean_absolute_error: 0.0050 - val_mean_squared_error: 5.6645e-05\n",
      "Epoch 172/300\n",
      "3600/3600 [==============================] - 0s 111us/sample - loss: 3.6826e-05 - mean_absolute_error: 0.0043 - mean_squared_error: 3.6826e-05 - val_loss: 5.9836e-05 - val_mean_absolute_error: 0.0063 - val_mean_squared_error: 5.9836e-05\n",
      "Epoch 173/300\n",
      "3600/3600 [==============================] - 0s 109us/sample - loss: 3.6975e-05 - mean_absolute_error: 0.0043 - mean_squared_error: 3.6975e-05 - val_loss: 3.6514e-05 - val_mean_absolute_error: 0.0040 - val_mean_squared_error: 3.6514e-05\n",
      "Epoch 174/300\n",
      "3600/3600 [==============================] - 0s 109us/sample - loss: 4.0166e-05 - mean_absolute_error: 0.0044 - mean_squared_error: 4.0166e-05 - val_loss: 7.6561e-05 - val_mean_absolute_error: 0.0059 - val_mean_squared_error: 7.6561e-05\n",
      "Epoch 175/300\n",
      "3600/3600 [==============================] - 0s 109us/sample - loss: 4.0330e-05 - mean_absolute_error: 0.0045 - mean_squared_error: 4.0330e-05 - val_loss: 4.0673e-05 - val_mean_absolute_error: 0.0045 - val_mean_squared_error: 4.0673e-05\n",
      "Epoch 176/300\n",
      "3600/3600 [==============================] - 0s 110us/sample - loss: 3.9982e-05 - mean_absolute_error: 0.0046 - mean_squared_error: 3.9982e-05 - val_loss: 3.4739e-05 - val_mean_absolute_error: 0.0036 - val_mean_squared_error: 3.4739e-05\n",
      "Epoch 177/300\n",
      "3600/3600 [==============================] - 0s 111us/sample - loss: 3.3983e-05 - mean_absolute_error: 0.0041 - mean_squared_error: 3.3983e-05 - val_loss: 3.3435e-05 - val_mean_absolute_error: 0.0042 - val_mean_squared_error: 3.3435e-05\n",
      "Epoch 178/300\n",
      "3600/3600 [==============================] - 0s 108us/sample - loss: 4.2155e-05 - mean_absolute_error: 0.0047 - mean_squared_error: 4.2155e-05 - val_loss: 3.0506e-05 - val_mean_absolute_error: 0.0038 - val_mean_squared_error: 3.0506e-05\n",
      "Epoch 179/300\n",
      "3600/3600 [==============================] - 0s 110us/sample - loss: 3.3061e-05 - mean_absolute_error: 0.0040 - mean_squared_error: 3.3061e-05 - val_loss: 3.2652e-05 - val_mean_absolute_error: 0.0040 - val_mean_squared_error: 3.2652e-05\n",
      "Epoch 180/300\n",
      "3600/3600 [==============================] - 0s 110us/sample - loss: 3.7193e-05 - mean_absolute_error: 0.0044 - mean_squared_error: 3.7193e-05 - val_loss: 2.6395e-05 - val_mean_absolute_error: 0.0032 - val_mean_squared_error: 2.6395e-05\n",
      "Epoch 181/300\n",
      "3600/3600 [==============================] - 0s 109us/sample - loss: 3.0433e-05 - mean_absolute_error: 0.0038 - mean_squared_error: 3.0433e-05 - val_loss: 3.7305e-05 - val_mean_absolute_error: 0.0047 - val_mean_squared_error: 3.7305e-05\n",
      "Epoch 182/300\n",
      "3600/3600 [==============================] - 0s 110us/sample - loss: 3.2998e-05 - mean_absolute_error: 0.0040 - mean_squared_error: 3.2998e-05 - val_loss: 2.3101e-05 - val_mean_absolute_error: 0.0030 - val_mean_squared_error: 2.3101e-05\n",
      "Epoch 183/300\n",
      "3600/3600 [==============================] - 0s 106us/sample - loss: 3.3291e-05 - mean_absolute_error: 0.0040 - mean_squared_error: 3.3291e-05 - val_loss: 2.9682e-05 - val_mean_absolute_error: 0.0040 - val_mean_squared_error: 2.9682e-05\n",
      "Epoch 184/300\n",
      "3600/3600 [==============================] - 0s 107us/sample - loss: 3.1014e-05 - mean_absolute_error: 0.0038 - mean_squared_error: 3.1014e-05 - val_loss: 3.0656e-05 - val_mean_absolute_error: 0.0040 - val_mean_squared_error: 3.0656e-05\n",
      "Epoch 185/300\n",
      "3600/3600 [==============================] - 0s 108us/sample - loss: 4.0793e-05 - mean_absolute_error: 0.0045 - mean_squared_error: 4.0793e-05 - val_loss: 5.9703e-05 - val_mean_absolute_error: 0.0064 - val_mean_squared_error: 5.9703e-05\n",
      "Epoch 186/300\n",
      "3600/3600 [==============================] - 0s 112us/sample - loss: 3.4119e-05 - mean_absolute_error: 0.0040 - mean_squared_error: 3.4119e-05 - val_loss: 2.5052e-05 - val_mean_absolute_error: 0.0033 - val_mean_squared_error: 2.5052e-05\n",
      "Epoch 187/300\n",
      "3600/3600 [==============================] - 0s 109us/sample - loss: 3.2586e-05 - mean_absolute_error: 0.0039 - mean_squared_error: 3.2586e-05 - val_loss: 3.0375e-05 - val_mean_absolute_error: 0.0037 - val_mean_squared_error: 3.0375e-05\n",
      "Epoch 188/300\n",
      "3600/3600 [==============================] - 0s 110us/sample - loss: 3.9572e-05 - mean_absolute_error: 0.0044 - mean_squared_error: 3.9572e-05 - val_loss: 3.0653e-05 - val_mean_absolute_error: 0.0039 - val_mean_squared_error: 3.0653e-05\n",
      "Epoch 189/300\n",
      "3600/3600 [==============================] - 0s 109us/sample - loss: 3.3101e-05 - mean_absolute_error: 0.0039 - mean_squared_error: 3.3101e-05 - val_loss: 8.5686e-05 - val_mean_absolute_error: 0.0072 - val_mean_squared_error: 8.5686e-05\n",
      "Epoch 190/300\n",
      "3600/3600 [==============================] - 0s 110us/sample - loss: 3.5229e-05 - mean_absolute_error: 0.0041 - mean_squared_error: 3.5229e-05 - val_loss: 2.9184e-05 - val_mean_absolute_error: 0.0038 - val_mean_squared_error: 2.9184e-05\n",
      "Epoch 191/300\n",
      "3600/3600 [==============================] - 0s 108us/sample - loss: 3.4394e-05 - mean_absolute_error: 0.0041 - mean_squared_error: 3.4394e-05 - val_loss: 2.8939e-05 - val_mean_absolute_error: 0.0037 - val_mean_squared_error: 2.8939e-05\n",
      "Epoch 192/300\n",
      "3600/3600 [==============================] - 0s 110us/sample - loss: 2.9402e-05 - mean_absolute_error: 0.0037 - mean_squared_error: 2.9402e-05 - val_loss: 3.1019e-05 - val_mean_absolute_error: 0.0039 - val_mean_squared_error: 3.1019e-05\n",
      "Epoch 193/300\n",
      "3600/3600 [==============================] - 0s 108us/sample - loss: 3.3597e-05 - mean_absolute_error: 0.0041 - mean_squared_error: 3.3597e-05 - val_loss: 4.1217e-05 - val_mean_absolute_error: 0.0048 - val_mean_squared_error: 4.1217e-05\n",
      "Epoch 194/300\n",
      "3600/3600 [==============================] - 0s 108us/sample - loss: 3.4773e-05 - mean_absolute_error: 0.0041 - mean_squared_error: 3.4773e-05 - val_loss: 3.8600e-05 - val_mean_absolute_error: 0.0040 - val_mean_squared_error: 3.8600e-05\n",
      "Epoch 195/300\n",
      "3600/3600 [==============================] - 0s 109us/sample - loss: 3.6387e-05 - mean_absolute_error: 0.0042 - mean_squared_error: 3.6387e-05 - val_loss: 3.3203e-05 - val_mean_absolute_error: 0.0039 - val_mean_squared_error: 3.3203e-05\n",
      "Epoch 196/300\n",
      "3600/3600 [==============================] - 0s 110us/sample - loss: 3.2739e-05 - mean_absolute_error: 0.0040 - mean_squared_error: 3.2739e-05 - val_loss: 2.9984e-05 - val_mean_absolute_error: 0.0036 - val_mean_squared_error: 2.9984e-05\n",
      "Epoch 197/300\n",
      "3600/3600 [==============================] - 1s 140us/sample - loss: 4.0184e-05 - mean_absolute_error: 0.0045 - mean_squared_error: 4.0184e-05 - val_loss: 2.7532e-05 - val_mean_absolute_error: 0.0035 - val_mean_squared_error: 2.7532e-05\n",
      "Epoch 198/300\n",
      "3600/3600 [==============================] - 0s 137us/sample - loss: 3.3111e-05 - mean_absolute_error: 0.0040 - mean_squared_error: 3.3111e-05 - val_loss: 2.7649e-05 - val_mean_absolute_error: 0.0036 - val_mean_squared_error: 2.7649e-05\n"
     ]
    },
    {
     "name": "stdout",
     "output_type": "stream",
     "text": [
      "Epoch 199/300\n",
      "3600/3600 [==============================] - 0s 112us/sample - loss: 3.1854e-05 - mean_absolute_error: 0.0039 - mean_squared_error: 3.1854e-05 - val_loss: 2.4946e-05 - val_mean_absolute_error: 0.0033 - val_mean_squared_error: 2.4946e-05\n",
      "Epoch 200/300\n",
      "3600/3600 [==============================] - 0s 110us/sample - loss: 3.4912e-05 - mean_absolute_error: 0.0041 - mean_squared_error: 3.4912e-05 - val_loss: 2.3674e-05 - val_mean_absolute_error: 0.0031 - val_mean_squared_error: 2.3674e-05\n",
      "Epoch 201/300\n",
      "3600/3600 [==============================] - 0s 110us/sample - loss: 3.7074e-05 - mean_absolute_error: 0.0043 - mean_squared_error: 3.7074e-05 - val_loss: 3.5604e-05 - val_mean_absolute_error: 0.0043 - val_mean_squared_error: 3.5604e-05\n",
      "Epoch 202/300\n",
      "3600/3600 [==============================] - 0s 109us/sample - loss: 3.6501e-05 - mean_absolute_error: 0.0043 - mean_squared_error: 3.6501e-05 - val_loss: 3.1674e-05 - val_mean_absolute_error: 0.0038 - val_mean_squared_error: 3.1674e-05\n",
      "Epoch 203/300\n",
      "3600/3600 [==============================] - 0s 112us/sample - loss: 4.3787e-05 - mean_absolute_error: 0.0046 - mean_squared_error: 4.3787e-05 - val_loss: 4.7227e-05 - val_mean_absolute_error: 0.0048 - val_mean_squared_error: 4.7227e-05\n",
      "Epoch 204/300\n",
      "3600/3600 [==============================] - 0s 112us/sample - loss: 3.4210e-05 - mean_absolute_error: 0.0040 - mean_squared_error: 3.4210e-05 - val_loss: 3.2934e-05 - val_mean_absolute_error: 0.0042 - val_mean_squared_error: 3.2934e-05\n",
      "Epoch 205/300\n",
      "3600/3600 [==============================] - 0s 110us/sample - loss: 3.1934e-05 - mean_absolute_error: 0.0039 - mean_squared_error: 3.1934e-05 - val_loss: 2.4590e-05 - val_mean_absolute_error: 0.0033 - val_mean_squared_error: 2.4590e-05\n",
      "Epoch 206/300\n",
      "3600/3600 [==============================] - 0s 110us/sample - loss: 2.9393e-05 - mean_absolute_error: 0.0038 - mean_squared_error: 2.9393e-05 - val_loss: 2.5605e-05 - val_mean_absolute_error: 0.0035 - val_mean_squared_error: 2.5605e-05\n",
      "Epoch 207/300\n",
      "3600/3600 [==============================] - 0s 108us/sample - loss: 3.4255e-05 - mean_absolute_error: 0.0041 - mean_squared_error: 3.4255e-05 - val_loss: 2.4879e-05 - val_mean_absolute_error: 0.0032 - val_mean_squared_error: 2.4879e-05\n",
      "Epoch 208/300\n",
      "3600/3600 [==============================] - 0s 110us/sample - loss: 3.1925e-05 - mean_absolute_error: 0.0039 - mean_squared_error: 3.1925e-05 - val_loss: 2.8657e-05 - val_mean_absolute_error: 0.0039 - val_mean_squared_error: 2.8657e-05\n",
      "Epoch 209/300\n",
      "3600/3600 [==============================] - 0s 107us/sample - loss: 2.8120e-05 - mean_absolute_error: 0.0036 - mean_squared_error: 2.8120e-05 - val_loss: 3.2857e-05 - val_mean_absolute_error: 0.0037 - val_mean_squared_error: 3.2857e-05\n",
      "Epoch 210/300\n",
      "3600/3600 [==============================] - 0s 111us/sample - loss: 3.0812e-05 - mean_absolute_error: 0.0039 - mean_squared_error: 3.0812e-05 - val_loss: 3.4001e-05 - val_mean_absolute_error: 0.0044 - val_mean_squared_error: 3.4001e-05\n",
      "Epoch 211/300\n",
      "3600/3600 [==============================] - 0s 109us/sample - loss: 3.5681e-05 - mean_absolute_error: 0.0043 - mean_squared_error: 3.5681e-05 - val_loss: 3.3449e-05 - val_mean_absolute_error: 0.0044 - val_mean_squared_error: 3.3449e-05\n",
      "Epoch 212/300\n",
      "3600/3600 [==============================] - 0s 105us/sample - loss: 3.7963e-05 - mean_absolute_error: 0.0044 - mean_squared_error: 3.7963e-05 - val_loss: 2.9219e-05 - val_mean_absolute_error: 0.0037 - val_mean_squared_error: 2.9219e-05\n",
      "Epoch 213/300\n",
      "3600/3600 [==============================] - 0s 108us/sample - loss: 3.6972e-05 - mean_absolute_error: 0.0043 - mean_squared_error: 3.6972e-05 - val_loss: 2.4318e-05 - val_mean_absolute_error: 0.0032 - val_mean_squared_error: 2.4318e-05\n",
      "Epoch 214/300\n",
      "3600/3600 [==============================] - 0s 110us/sample - loss: 2.7851e-05 - mean_absolute_error: 0.0036 - mean_squared_error: 2.7851e-05 - val_loss: 2.6497e-05 - val_mean_absolute_error: 0.0034 - val_mean_squared_error: 2.6497e-05\n",
      "Epoch 215/300\n",
      "3600/3600 [==============================] - 0s 109us/sample - loss: 3.4359e-05 - mean_absolute_error: 0.0042 - mean_squared_error: 3.4359e-05 - val_loss: 3.8312e-05 - val_mean_absolute_error: 0.0046 - val_mean_squared_error: 3.8312e-05\n",
      "Epoch 216/300\n",
      "3600/3600 [==============================] - 0s 109us/sample - loss: 3.0106e-05 - mean_absolute_error: 0.0038 - mean_squared_error: 3.0106e-05 - val_loss: 3.4715e-05 - val_mean_absolute_error: 0.0044 - val_mean_squared_error: 3.4715e-05\n",
      "Epoch 217/300\n",
      "3600/3600 [==============================] - 0s 110us/sample - loss: 3.0157e-05 - mean_absolute_error: 0.0038 - mean_squared_error: 3.0157e-05 - val_loss: 2.2033e-05 - val_mean_absolute_error: 0.0029 - val_mean_squared_error: 2.2033e-05\n",
      "Epoch 218/300\n",
      "3600/3600 [==============================] - 0s 112us/sample - loss: 3.6898e-05 - mean_absolute_error: 0.0044 - mean_squared_error: 3.6898e-05 - val_loss: 3.1270e-05 - val_mean_absolute_error: 0.0040 - val_mean_squared_error: 3.1270e-05\n",
      "Epoch 219/300\n",
      "3600/3600 [==============================] - 0s 109us/sample - loss: 3.0529e-05 - mean_absolute_error: 0.0038 - mean_squared_error: 3.0529e-05 - val_loss: 2.7071e-05 - val_mean_absolute_error: 0.0037 - val_mean_squared_error: 2.7071e-05\n",
      "Epoch 220/300\n",
      "3600/3600 [==============================] - 0s 106us/sample - loss: 3.5495e-05 - mean_absolute_error: 0.0042 - mean_squared_error: 3.5495e-05 - val_loss: 2.7460e-05 - val_mean_absolute_error: 0.0037 - val_mean_squared_error: 2.7460e-05\n",
      "Epoch 221/300\n",
      "3600/3600 [==============================] - 0s 107us/sample - loss: 3.4802e-05 - mean_absolute_error: 0.0041 - mean_squared_error: 3.4802e-05 - val_loss: 3.5965e-05 - val_mean_absolute_error: 0.0041 - val_mean_squared_error: 3.5965e-05\n",
      "Epoch 222/300\n",
      "3600/3600 [==============================] - 0s 108us/sample - loss: 3.4085e-05 - mean_absolute_error: 0.0041 - mean_squared_error: 3.4085e-05 - val_loss: 2.7089e-05 - val_mean_absolute_error: 0.0036 - val_mean_squared_error: 2.7089e-05\n",
      "Epoch 223/300\n",
      "3600/3600 [==============================] - 0s 128us/sample - loss: 2.7783e-05 - mean_absolute_error: 0.0036 - mean_squared_error: 2.7783e-05 - val_loss: 3.2844e-05 - val_mean_absolute_error: 0.0042 - val_mean_squared_error: 3.2844e-05\n",
      "Epoch 224/300\n",
      "3600/3600 [==============================] - 0s 129us/sample - loss: 3.0522e-05 - mean_absolute_error: 0.0038 - mean_squared_error: 3.0522e-05 - val_loss: 2.2431e-05 - val_mean_absolute_error: 0.0031 - val_mean_squared_error: 2.2431e-05\n",
      "Epoch 225/300\n",
      "3600/3600 [==============================] - 0s 111us/sample - loss: 3.1756e-05 - mean_absolute_error: 0.0039 - mean_squared_error: 3.1756e-05 - val_loss: 2.9092e-05 - val_mean_absolute_error: 0.0034 - val_mean_squared_error: 2.9092e-05\n",
      "Epoch 226/300\n",
      "3600/3600 [==============================] - 0s 110us/sample - loss: 2.8160e-05 - mean_absolute_error: 0.0036 - mean_squared_error: 2.8160e-05 - val_loss: 3.2898e-05 - val_mean_absolute_error: 0.0043 - val_mean_squared_error: 3.2898e-05\n",
      "Epoch 227/300\n",
      "3600/3600 [==============================] - 0s 111us/sample - loss: 2.9984e-05 - mean_absolute_error: 0.0038 - mean_squared_error: 2.9984e-05 - val_loss: 4.2114e-05 - val_mean_absolute_error: 0.0052 - val_mean_squared_error: 4.2114e-05\n",
      "Epoch 228/300\n",
      "3600/3600 [==============================] - 0s 108us/sample - loss: 3.1364e-05 - mean_absolute_error: 0.0039 - mean_squared_error: 3.1364e-05 - val_loss: 2.8017e-05 - val_mean_absolute_error: 0.0037 - val_mean_squared_error: 2.8017e-05\n",
      "Epoch 229/300\n",
      "3600/3600 [==============================] - 0s 109us/sample - loss: 2.9616e-05 - mean_absolute_error: 0.0038 - mean_squared_error: 2.9616e-05 - val_loss: 3.1000e-05 - val_mean_absolute_error: 0.0042 - val_mean_squared_error: 3.1000e-05\n",
      "Epoch 230/300\n",
      "3600/3600 [==============================] - 0s 112us/sample - loss: 3.1692e-05 - mean_absolute_error: 0.0039 - mean_squared_error: 3.1692e-05 - val_loss: 3.2052e-05 - val_mean_absolute_error: 0.0040 - val_mean_squared_error: 3.2052e-05\n",
      "Epoch 231/300\n",
      "3600/3600 [==============================] - 0s 109us/sample - loss: 3.8705e-05 - mean_absolute_error: 0.0044 - mean_squared_error: 3.8705e-05 - val_loss: 2.3713e-05 - val_mean_absolute_error: 0.0030 - val_mean_squared_error: 2.3713e-05\n"
     ]
    },
    {
     "name": "stdout",
     "output_type": "stream",
     "text": [
      "Epoch 232/300\n",
      "3600/3600 [==============================] - 0s 109us/sample - loss: 3.1580e-05 - mean_absolute_error: 0.0039 - mean_squared_error: 3.1580e-05 - val_loss: 2.8801e-05 - val_mean_absolute_error: 0.0038 - val_mean_squared_error: 2.8801e-05\n",
      "Epoch 233/300\n",
      "3600/3600 [==============================] - 0s 111us/sample - loss: 2.9053e-05 - mean_absolute_error: 0.0037 - mean_squared_error: 2.9053e-05 - val_loss: 2.4233e-05 - val_mean_absolute_error: 0.0034 - val_mean_squared_error: 2.4233e-05\n",
      "Epoch 234/300\n",
      "3600/3600 [==============================] - 0s 110us/sample - loss: 3.1580e-05 - mean_absolute_error: 0.0039 - mean_squared_error: 3.1580e-05 - val_loss: 2.7065e-05 - val_mean_absolute_error: 0.0037 - val_mean_squared_error: 2.7065e-05\n",
      "Epoch 235/300\n",
      "3600/3600 [==============================] - 0s 108us/sample - loss: 2.8078e-05 - mean_absolute_error: 0.0036 - mean_squared_error: 2.8078e-05 - val_loss: 2.6629e-05 - val_mean_absolute_error: 0.0036 - val_mean_squared_error: 2.6629e-05\n",
      "Epoch 236/300\n",
      "3600/3600 [==============================] - 0s 110us/sample - loss: 2.8090e-05 - mean_absolute_error: 0.0036 - mean_squared_error: 2.8090e-05 - val_loss: 3.2463e-05 - val_mean_absolute_error: 0.0035 - val_mean_squared_error: 3.2463e-05\n",
      "Epoch 237/300\n",
      "3600/3600 [==============================] - 0s 109us/sample - loss: 2.7093e-05 - mean_absolute_error: 0.0035 - mean_squared_error: 2.7093e-05 - val_loss: 2.2649e-05 - val_mean_absolute_error: 0.0030 - val_mean_squared_error: 2.2649e-05\n",
      "Epoch 238/300\n",
      "3600/3600 [==============================] - 0s 109us/sample - loss: 3.6089e-05 - mean_absolute_error: 0.0043 - mean_squared_error: 3.6089e-05 - val_loss: 4.6340e-05 - val_mean_absolute_error: 0.0045 - val_mean_squared_error: 4.6340e-05\n",
      "Epoch 239/300\n",
      "3600/3600 [==============================] - 0s 110us/sample - loss: 2.8003e-05 - mean_absolute_error: 0.0036 - mean_squared_error: 2.8003e-05 - val_loss: 2.7666e-05 - val_mean_absolute_error: 0.0037 - val_mean_squared_error: 2.7666e-05\n",
      "Epoch 240/300\n",
      "3600/3600 [==============================] - 0s 109us/sample - loss: 3.0273e-05 - mean_absolute_error: 0.0038 - mean_squared_error: 3.0273e-05 - val_loss: 3.0666e-05 - val_mean_absolute_error: 0.0035 - val_mean_squared_error: 3.0666e-05\n",
      "Epoch 241/300\n",
      "3600/3600 [==============================] - 0s 110us/sample - loss: 2.7735e-05 - mean_absolute_error: 0.0036 - mean_squared_error: 2.7735e-05 - val_loss: 2.4312e-05 - val_mean_absolute_error: 0.0033 - val_mean_squared_error: 2.4312e-05\n",
      "Epoch 242/300\n",
      "3600/3600 [==============================] - 0s 110us/sample - loss: 3.0194e-05 - mean_absolute_error: 0.0038 - mean_squared_error: 3.0194e-05 - val_loss: 4.3023e-05 - val_mean_absolute_error: 0.0051 - val_mean_squared_error: 4.3023e-05\n",
      "Epoch 243/300\n",
      "3600/3600 [==============================] - 0s 111us/sample - loss: 3.0300e-05 - mean_absolute_error: 0.0038 - mean_squared_error: 3.0300e-05 - val_loss: 5.9353e-05 - val_mean_absolute_error: 0.0059 - val_mean_squared_error: 5.9353e-05\n",
      "Epoch 244/300\n",
      "3600/3600 [==============================] - 0s 108us/sample - loss: 3.4344e-05 - mean_absolute_error: 0.0041 - mean_squared_error: 3.4344e-05 - val_loss: 5.4634e-05 - val_mean_absolute_error: 0.0054 - val_mean_squared_error: 5.4634e-05\n",
      "Epoch 245/300\n",
      "3600/3600 [==============================] - 0s 106us/sample - loss: 3.2253e-05 - mean_absolute_error: 0.0040 - mean_squared_error: 3.2253e-05 - val_loss: 2.4563e-05 - val_mean_absolute_error: 0.0033 - val_mean_squared_error: 2.4563e-05\n",
      "Epoch 246/300\n",
      "3600/3600 [==============================] - 0s 112us/sample - loss: 3.0668e-05 - mean_absolute_error: 0.0038 - mean_squared_error: 3.0668e-05 - val_loss: 3.4742e-05 - val_mean_absolute_error: 0.0039 - val_mean_squared_error: 3.4742e-05\n",
      "Epoch 247/300\n",
      "3600/3600 [==============================] - 0s 124us/sample - loss: 2.9766e-05 - mean_absolute_error: 0.0038 - mean_squared_error: 2.9766e-05 - val_loss: 7.0010e-05 - val_mean_absolute_error: 0.0061 - val_mean_squared_error: 7.0010e-05\n",
      "Epoch 248/300\n",
      "3600/3600 [==============================] - 0s 118us/sample - loss: 3.3381e-05 - mean_absolute_error: 0.0041 - mean_squared_error: 3.3381e-05 - val_loss: 3.1246e-05 - val_mean_absolute_error: 0.0040 - val_mean_squared_error: 3.1246e-05\n",
      "Epoch 249/300\n",
      "3600/3600 [==============================] - 0s 112us/sample - loss: 2.9124e-05 - mean_absolute_error: 0.0037 - mean_squared_error: 2.9124e-05 - val_loss: 2.7559e-05 - val_mean_absolute_error: 0.0036 - val_mean_squared_error: 2.7559e-05\n",
      "Epoch 250/300\n",
      "3600/3600 [==============================] - 0s 111us/sample - loss: 2.6231e-05 - mean_absolute_error: 0.0034 - mean_squared_error: 2.6231e-05 - val_loss: 6.2582e-05 - val_mean_absolute_error: 0.0048 - val_mean_squared_error: 6.2582e-05\n",
      "Epoch 251/300\n",
      "3600/3600 [==============================] - 0s 111us/sample - loss: 3.1867e-05 - mean_absolute_error: 0.0039 - mean_squared_error: 3.1867e-05 - val_loss: 5.9642e-05 - val_mean_absolute_error: 0.0063 - val_mean_squared_error: 5.9642e-05\n",
      "Epoch 252/300\n",
      "3600/3600 [==============================] - 0s 110us/sample - loss: 3.0993e-05 - mean_absolute_error: 0.0038 - mean_squared_error: 3.0993e-05 - val_loss: 2.9847e-05 - val_mean_absolute_error: 0.0040 - val_mean_squared_error: 2.9847e-05\n",
      "Epoch 253/300\n",
      "3600/3600 [==============================] - 0s 110us/sample - loss: 2.9551e-05 - mean_absolute_error: 0.0037 - mean_squared_error: 2.9551e-05 - val_loss: 2.2340e-05 - val_mean_absolute_error: 0.0031 - val_mean_squared_error: 2.2340e-05\n",
      "Epoch 254/300\n",
      "3600/3600 [==============================] - 0s 111us/sample - loss: 3.3809e-05 - mean_absolute_error: 0.0040 - mean_squared_error: 3.3809e-05 - val_loss: 2.1999e-05 - val_mean_absolute_error: 0.0030 - val_mean_squared_error: 2.1999e-05\n",
      "Epoch 255/300\n",
      "3600/3600 [==============================] - 0s 112us/sample - loss: 2.8188e-05 - mean_absolute_error: 0.0036 - mean_squared_error: 2.8188e-05 - val_loss: 4.0172e-05 - val_mean_absolute_error: 0.0047 - val_mean_squared_error: 4.0172e-05\n",
      "Epoch 256/300\n",
      "3600/3600 [==============================] - 0s 112us/sample - loss: 3.0491e-05 - mean_absolute_error: 0.0038 - mean_squared_error: 3.0491e-05 - val_loss: 3.2198e-05 - val_mean_absolute_error: 0.0043 - val_mean_squared_error: 3.2198e-05\n",
      "Epoch 257/300\n",
      "3600/3600 [==============================] - 0s 111us/sample - loss: 2.9319e-05 - mean_absolute_error: 0.0037 - mean_squared_error: 2.9319e-05 - val_loss: 2.6162e-05 - val_mean_absolute_error: 0.0035 - val_mean_squared_error: 2.6162e-05\n",
      "Epoch 258/300\n",
      "3600/3600 [==============================] - 0s 108us/sample - loss: 2.8727e-05 - mean_absolute_error: 0.0037 - mean_squared_error: 2.8727e-05 - val_loss: 2.4985e-05 - val_mean_absolute_error: 0.0033 - val_mean_squared_error: 2.4985e-05\n",
      "Epoch 259/300\n",
      "3600/3600 [==============================] - 0s 109us/sample - loss: 2.8096e-05 - mean_absolute_error: 0.0037 - mean_squared_error: 2.8096e-05 - val_loss: 3.0301e-05 - val_mean_absolute_error: 0.0034 - val_mean_squared_error: 3.0301e-05\n",
      "Epoch 260/300\n",
      "3600/3600 [==============================] - 0s 108us/sample - loss: 3.2348e-05 - mean_absolute_error: 0.0040 - mean_squared_error: 3.2348e-05 - val_loss: 3.1836e-05 - val_mean_absolute_error: 0.0040 - val_mean_squared_error: 3.1836e-05\n",
      "Epoch 261/300\n",
      "3600/3600 [==============================] - 0s 108us/sample - loss: 3.0633e-05 - mean_absolute_error: 0.0038 - mean_squared_error: 3.0633e-05 - val_loss: 5.3823e-05 - val_mean_absolute_error: 0.0051 - val_mean_squared_error: 5.3823e-05\n",
      "Epoch 262/300\n",
      "3600/3600 [==============================] - 0s 107us/sample - loss: 2.8820e-05 - mean_absolute_error: 0.0037 - mean_squared_error: 2.8820e-05 - val_loss: 2.5992e-05 - val_mean_absolute_error: 0.0036 - val_mean_squared_error: 2.5992e-05\n",
      "Epoch 263/300\n",
      "3600/3600 [==============================] - 0s 108us/sample - loss: 2.7401e-05 - mean_absolute_error: 0.0035 - mean_squared_error: 2.7401e-05 - val_loss: 2.2788e-05 - val_mean_absolute_error: 0.0032 - val_mean_squared_error: 2.2788e-05\n",
      "Epoch 264/300\n",
      "3600/3600 [==============================] - 0s 109us/sample - loss: 3.1669e-05 - mean_absolute_error: 0.0039 - mean_squared_error: 3.1669e-05 - val_loss: 4.9739e-05 - val_mean_absolute_error: 0.0051 - val_mean_squared_error: 4.9739e-05\n"
     ]
    },
    {
     "name": "stdout",
     "output_type": "stream",
     "text": [
      "Epoch 265/300\n",
      "3600/3600 [==============================] - 0s 109us/sample - loss: 2.6357e-05 - mean_absolute_error: 0.0035 - mean_squared_error: 2.6357e-05 - val_loss: 2.1127e-05 - val_mean_absolute_error: 0.0029 - val_mean_squared_error: 2.1127e-05\n",
      "Epoch 266/300\n",
      "3600/3600 [==============================] - 0s 113us/sample - loss: 2.7107e-05 - mean_absolute_error: 0.0035 - mean_squared_error: 2.7107e-05 - val_loss: 3.0496e-05 - val_mean_absolute_error: 0.0039 - val_mean_squared_error: 3.0496e-05\n",
      "Epoch 267/300\n",
      "3600/3600 [==============================] - 0s 110us/sample - loss: 3.4022e-05 - mean_absolute_error: 0.0041 - mean_squared_error: 3.4022e-05 - val_loss: 3.0062e-05 - val_mean_absolute_error: 0.0034 - val_mean_squared_error: 3.0062e-05\n",
      "Epoch 268/300\n",
      "3600/3600 [==============================] - 0s 110us/sample - loss: 2.8231e-05 - mean_absolute_error: 0.0037 - mean_squared_error: 2.8231e-05 - val_loss: 2.3967e-05 - val_mean_absolute_error: 0.0030 - val_mean_squared_error: 2.3967e-05\n",
      "Epoch 269/300\n",
      "3600/3600 [==============================] - 0s 109us/sample - loss: 2.5160e-05 - mean_absolute_error: 0.0033 - mean_squared_error: 2.5160e-05 - val_loss: 2.3260e-05 - val_mean_absolute_error: 0.0031 - val_mean_squared_error: 2.3260e-05\n",
      "Epoch 270/300\n",
      "3600/3600 [==============================] - 0s 110us/sample - loss: 3.1971e-05 - mean_absolute_error: 0.0039 - mean_squared_error: 3.1971e-05 - val_loss: 2.0879e-05 - val_mean_absolute_error: 0.0029 - val_mean_squared_error: 2.0879e-05\n",
      "Epoch 271/300\n",
      "3600/3600 [==============================] - 0s 107us/sample - loss: 2.9361e-05 - mean_absolute_error: 0.0037 - mean_squared_error: 2.9361e-05 - val_loss: 2.4666e-05 - val_mean_absolute_error: 0.0034 - val_mean_squared_error: 2.4666e-05\n",
      "Epoch 272/300\n",
      "3600/3600 [==============================] - 0s 111us/sample - loss: 3.0408e-05 - mean_absolute_error: 0.0038 - mean_squared_error: 3.0408e-05 - val_loss: 2.7924e-05 - val_mean_absolute_error: 0.0035 - val_mean_squared_error: 2.7924e-05\n",
      "Epoch 273/300\n",
      "3600/3600 [==============================] - 0s 111us/sample - loss: 2.6622e-05 - mean_absolute_error: 0.0035 - mean_squared_error: 2.6622e-05 - val_loss: 5.8085e-05 - val_mean_absolute_error: 0.0052 - val_mean_squared_error: 5.8085e-05\n",
      "Epoch 274/300\n",
      "3600/3600 [==============================] - 0s 108us/sample - loss: 3.1465e-05 - mean_absolute_error: 0.0039 - mean_squared_error: 3.1465e-05 - val_loss: 2.9343e-05 - val_mean_absolute_error: 0.0040 - val_mean_squared_error: 2.9343e-05\n",
      "Epoch 275/300\n",
      "3600/3600 [==============================] - 0s 107us/sample - loss: 2.8400e-05 - mean_absolute_error: 0.0036 - mean_squared_error: 2.8400e-05 - val_loss: 2.5465e-05 - val_mean_absolute_error: 0.0033 - val_mean_squared_error: 2.5465e-05\n",
      "Epoch 276/300\n",
      "3600/3600 [==============================] - 0s 107us/sample - loss: 2.8429e-05 - mean_absolute_error: 0.0036 - mean_squared_error: 2.8429e-05 - val_loss: 3.9621e-05 - val_mean_absolute_error: 0.0048 - val_mean_squared_error: 3.9621e-05\n",
      "Epoch 277/300\n",
      "3600/3600 [==============================] - 0s 108us/sample - loss: 2.7764e-05 - mean_absolute_error: 0.0036 - mean_squared_error: 2.7764e-05 - val_loss: 4.4339e-05 - val_mean_absolute_error: 0.0049 - val_mean_squared_error: 4.4339e-05\n",
      "Epoch 278/300\n",
      "3600/3600 [==============================] - 0s 108us/sample - loss: 2.7184e-05 - mean_absolute_error: 0.0036 - mean_squared_error: 2.7184e-05 - val_loss: 2.1567e-05 - val_mean_absolute_error: 0.0030 - val_mean_squared_error: 2.1567e-05\n",
      "Epoch 279/300\n",
      "3600/3600 [==============================] - 0s 108us/sample - loss: 2.9297e-05 - mean_absolute_error: 0.0037 - mean_squared_error: 2.9297e-05 - val_loss: 2.5145e-05 - val_mean_absolute_error: 0.0035 - val_mean_squared_error: 2.5145e-05\n",
      "Epoch 280/300\n",
      "3600/3600 [==============================] - 0s 109us/sample - loss: 3.0025e-05 - mean_absolute_error: 0.0038 - mean_squared_error: 3.0025e-05 - val_loss: 3.9531e-05 - val_mean_absolute_error: 0.0041 - val_mean_squared_error: 3.9531e-05\n",
      "Epoch 281/300\n",
      "3600/3600 [==============================] - 0s 119us/sample - loss: 3.1625e-05 - mean_absolute_error: 0.0039 - mean_squared_error: 3.1625e-05 - val_loss: 2.0712e-05 - val_mean_absolute_error: 0.0028 - val_mean_squared_error: 2.0712e-05\n",
      "Epoch 282/300\n",
      "3600/3600 [==============================] - 0s 127us/sample - loss: 2.5645e-05 - mean_absolute_error: 0.0034 - mean_squared_error: 2.5645e-05 - val_loss: 3.2495e-05 - val_mean_absolute_error: 0.0043 - val_mean_squared_error: 3.2495e-05\n",
      "Epoch 283/300\n",
      "3600/3600 [==============================] - 0s 113us/sample - loss: 2.4889e-05 - mean_absolute_error: 0.0033 - mean_squared_error: 2.4889e-05 - val_loss: 2.3989e-05 - val_mean_absolute_error: 0.0030 - val_mean_squared_error: 2.3989e-05\n",
      "Epoch 284/300\n",
      "3600/3600 [==============================] - 0s 110us/sample - loss: 2.7919e-05 - mean_absolute_error: 0.0035 - mean_squared_error: 2.7919e-05 - val_loss: 2.7473e-05 - val_mean_absolute_error: 0.0036 - val_mean_squared_error: 2.7473e-05\n",
      "Epoch 285/300\n",
      "3600/3600 [==============================] - 0s 111us/sample - loss: 3.1949e-05 - mean_absolute_error: 0.0039 - mean_squared_error: 3.1949e-05 - val_loss: 2.3180e-05 - val_mean_absolute_error: 0.0033 - val_mean_squared_error: 2.3180e-05\n",
      "Epoch 286/300\n",
      "3600/3600 [==============================] - 0s 111us/sample - loss: 2.7255e-05 - mean_absolute_error: 0.0035 - mean_squared_error: 2.7255e-05 - val_loss: 4.9604e-05 - val_mean_absolute_error: 0.0050 - val_mean_squared_error: 4.9604e-05\n",
      "Epoch 287/300\n",
      "3600/3600 [==============================] - 0s 110us/sample - loss: 3.1126e-05 - mean_absolute_error: 0.0038 - mean_squared_error: 3.1126e-05 - val_loss: 2.8061e-05 - val_mean_absolute_error: 0.0032 - val_mean_squared_error: 2.8061e-05\n",
      "Epoch 288/300\n",
      "3600/3600 [==============================] - 0s 110us/sample - loss: 2.4654e-05 - mean_absolute_error: 0.0033 - mean_squared_error: 2.4654e-05 - val_loss: 2.3300e-05 - val_mean_absolute_error: 0.0029 - val_mean_squared_error: 2.3300e-05\n",
      "Epoch 289/300\n",
      "3600/3600 [==============================] - 0s 112us/sample - loss: 2.6670e-05 - mean_absolute_error: 0.0034 - mean_squared_error: 2.6670e-05 - val_loss: 2.1700e-05 - val_mean_absolute_error: 0.0029 - val_mean_squared_error: 2.1700e-05\n",
      "Epoch 290/300\n",
      "3600/3600 [==============================] - 0s 107us/sample - loss: 2.8237e-05 - mean_absolute_error: 0.0036 - mean_squared_error: 2.8237e-05 - val_loss: 2.0697e-05 - val_mean_absolute_error: 0.0029 - val_mean_squared_error: 2.0697e-05\n",
      "Epoch 291/300\n",
      "3600/3600 [==============================] - 0s 111us/sample - loss: 2.8039e-05 - mean_absolute_error: 0.0036 - mean_squared_error: 2.8039e-05 - val_loss: 3.1453e-05 - val_mean_absolute_error: 0.0043 - val_mean_squared_error: 3.1453e-05\n",
      "Epoch 292/300\n",
      "3600/3600 [==============================] - 0s 110us/sample - loss: 2.6870e-05 - mean_absolute_error: 0.0035 - mean_squared_error: 2.6870e-05 - val_loss: 4.7706e-05 - val_mean_absolute_error: 0.0043 - val_mean_squared_error: 4.7706e-05\n",
      "Epoch 293/300\n",
      "3600/3600 [==============================] - 0s 110us/sample - loss: 2.7030e-05 - mean_absolute_error: 0.0035 - mean_squared_error: 2.7030e-05 - val_loss: 5.0801e-05 - val_mean_absolute_error: 0.0042 - val_mean_squared_error: 5.0801e-05\n",
      "Epoch 294/300\n",
      "3600/3600 [==============================] - 0s 110us/sample - loss: 2.6762e-05 - mean_absolute_error: 0.0035 - mean_squared_error: 2.6762e-05 - val_loss: 2.7678e-05 - val_mean_absolute_error: 0.0032 - val_mean_squared_error: 2.7678e-05\n",
      "Epoch 295/300\n",
      "3600/3600 [==============================] - 0s 108us/sample - loss: 2.8109e-05 - mean_absolute_error: 0.0036 - mean_squared_error: 2.8109e-05 - val_loss: 4.1535e-05 - val_mean_absolute_error: 0.0042 - val_mean_squared_error: 4.1535e-05\n",
      "Epoch 296/300\n",
      "3600/3600 [==============================] - 0s 111us/sample - loss: 2.8590e-05 - mean_absolute_error: 0.0036 - mean_squared_error: 2.8590e-05 - val_loss: 2.5012e-05 - val_mean_absolute_error: 0.0031 - val_mean_squared_error: 2.5012e-05\n",
      "Epoch 297/300\n",
      "3600/3600 [==============================] - 0s 111us/sample - loss: 2.5676e-05 - mean_absolute_error: 0.0034 - mean_squared_error: 2.5676e-05 - val_loss: 4.1193e-05 - val_mean_absolute_error: 0.0053 - val_mean_squared_error: 4.1193e-05\n"
     ]
    },
    {
     "name": "stdout",
     "output_type": "stream",
     "text": [
      "Epoch 298/300\n",
      "3600/3600 [==============================] - 0s 109us/sample - loss: 2.8271e-05 - mean_absolute_error: 0.0036 - mean_squared_error: 2.8271e-05 - val_loss: 2.8076e-05 - val_mean_absolute_error: 0.0034 - val_mean_squared_error: 2.8076e-05\n",
      "Epoch 299/300\n",
      "3600/3600 [==============================] - 0s 109us/sample - loss: 2.7757e-05 - mean_absolute_error: 0.0035 - mean_squared_error: 2.7757e-05 - val_loss: 2.9865e-05 - val_mean_absolute_error: 0.0035 - val_mean_squared_error: 2.9865e-05\n",
      "Epoch 300/300\n",
      "3600/3600 [==============================] - 0s 108us/sample - loss: 2.6982e-05 - mean_absolute_error: 0.0035 - mean_squared_error: 2.6982e-05 - val_loss: 2.5358e-05 - val_mean_absolute_error: 0.0035 - val_mean_squared_error: 2.5358e-05\n"
     ]
    }
   ],
   "source": [
    "history = mod.fit(X_train, y_train, epochs=300,validation_split=0.2, verbose=1)"
   ]
  },
  {
   "cell_type": "code",
   "execution_count": 200,
   "metadata": {},
   "outputs": [],
   "source": [
    "y_pred = mod.predict(X_test)"
   ]
  },
  {
   "cell_type": "code",
   "execution_count": 201,
   "metadata": {},
   "outputs": [
    {
     "data": {
      "text/plain": [
       "[<matplotlib.lines.Line2D at 0x7fe84803b290>]"
      ]
     },
     "execution_count": 201,
     "metadata": {},
     "output_type": "execute_result"
    },
    {
     "data": {
      "image/png": "[encoded data removed]",
      "text/plain": [
       "<Figure size 432x288 with 1 Axes>"
      ]
     },
     "metadata": {
      "needs_background": "light"
     },
     "output_type": "display_data"
    }
   ],
   "source": [
    "plt.plot(np.arange(y_data.shape[1]),y_test[10,:],'*')\n",
    "plt.plot(np.arange(y_data.shape[1]),y_pred[10])"
   ]
  },
  {
   "cell_type": "code",
   "execution_count": 202,
   "metadata": {},
   "outputs": [
    {
     "data": {
      "text/plain": [
       "<seaborn.axisgrid.JointGrid at 0x7fe82c7d52d0>"
      ]
     },
     "execution_count": 202,
     "metadata": {},
     "output_type": "execute_result"
    },
    {
     "data": {
      "image/png": "[encoded data removed]",
      "text/plain": [
       "<Figure size 432x432 with 3 Axes>"
      ]
     },
     "metadata": {
      "needs_background": "light"
     },
     "output_type": "display_data"
    }
   ],
   "source": [
    "sns.jointplot(y_test,y_pred)"
   ]
  },
  {
   "cell_type": "code",
   "execution_count": null,
   "metadata": {},
   "outputs": [],
   "source": []
  }
 ],
 "metadata": {
  "kernelspec": {
   "display_name": "Python 3",
   "language": "python",
   "name": "python3"
  },
  "language_info": {
   "codemirror_mode": {
    "name": "ipython",
    "version": 3
   },
   "file_extension": ".py",
   "mimetype": "text/x-python",
   "name": "python",
   "nbconvert_exporter": "python",
   "pygments_lexer": "ipython3",
   "version": "3.7.5"
  }
 },
 "nbformat": 4,
 "nbformat_minor": 2
}
