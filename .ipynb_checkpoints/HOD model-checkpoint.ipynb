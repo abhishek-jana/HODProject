{
 "cells": [
  {
   "cell_type": "code",
   "execution_count": 27,
   "metadata": {},
   "outputs": [],
   "source": [
    "# This code is used to generate catalogs using uniform satellite distribution\n",
    "\n",
    "import numpy as np\n",
    "from scipy.special import erfc\n",
    "import gc\n",
    "import warnings\n",
    "from numba import jit\n",
    "warnings.filterwarnings(\"ignore\")\n",
    "\n",
    "\n",
    "filename = \"/mnt/data1/MDhalos.npy\"\n",
    " \n",
    "class Occupy:\n",
    "    def __init__(self,HODpar,fin):\n",
    "        self.fout = self.load(fin)\n",
    "        self.M = self.fout[\"mass\"]\n",
    "        self.M_cut = HODpar[\"M_cut\"]\n",
    "        self.sigma = HODpar[\"sigma\"]\n",
    "        self.kappa = HODpar[\"kappa\"]\n",
    "        self.M1 = HODpar[\"M1\"]\n",
    "        self.alpha = HODpar[\"alpha\"]\n",
    "    \n",
    "    def load(self,fin):\n",
    "        \"\"\"\n",
    "        File has 6 columns: Mass of Halo, Radius1 (scale radius), Radius2 (virial radius), x, y, z\n",
    "    \n",
    "        Output:\n",
    "        A dictionary containing \"mass\", \"r1\", \"r2\", \"x\", \"y\", \"z\"\n",
    "        \"\"\"\n",
    "        out = {}\n",
    "        __file = np.load(fin)\n",
    "        out[\"mass\"] = __file[:,0]\n",
    "        out[\"r1\"] = __file[:,1]\n",
    "        out[\"r2\"] = __file[:,2]\n",
    "        out[\"x\"] = __file[:,3]\n",
    "        out[\"y\"] = __file[:,4]\n",
    "        out[\"z\"] = __file[:,5]\n",
    "        __file = [None]\n",
    "        return out\n",
    "\n",
    "    def central(self):\n",
    "        \"\"\"\n",
    "        Returns 1 if there's a central galaxy. \n",
    "        Distribution found using eq.12 of https://iopscience.iop.org/article/10.1088/0004-637X/728/2/126/pdf\n",
    "        \"\"\"\n",
    "        _Ncen = 0.5*erfc(np.log10(10**self.M_cut/self.M)/(np.sqrt(2)*self.sigma))\n",
    "        return np.random.binomial(1,_Ncen)\n",
    "\n",
    "    def satellite(self):\n",
    "        \"\"\"\n",
    "        Returns Poisson distribution with mean _Nsat.\n",
    "        Distribution found using eq.13 of https://iopscience.iop.org/article/10.1088/0004-637X/728/2/126/pdf\n",
    "        \"\"\"\n",
    "        _Nsat = Occupy.central(self)*((self.M - self.kappa*(10**self.M_cut))/10**self.M1)**self.alpha\n",
    "        _Nsat[np.where(np.isnan(_Nsat))] = 0\n",
    "        _Nsat[np.where(_Nsat < 1)] = 0\n",
    "        return np.random.poisson(_Nsat)\n",
    "\n",
    "class Coordinates(Occupy):\n",
    "    def __init__(self,HODpar,fin): \n",
    "        super().__init__(HODpar,fin)\n",
    "\n",
    "    def sphere_coordinates(self,number_of_particles,R):\n",
    "        \"\"\"\n",
    "        Given the number of particles this will generate random uniform points inside a sphere of radius R\n",
    "        \"\"\"\n",
    "        u = np.random.uniform(0.,1., (number_of_particles,1))\n",
    "        theta = np.arccos(1-2*np.random.uniform(0.,1.,(number_of_particles,1)))\n",
    "        phi = np.random.uniform(0.0,1.,(number_of_particles,1))*2*np.pi\n",
    "        x = np.cbrt(u)*R*np.sin( theta ) * np.cos( phi )\n",
    "        y = np.cbrt(u)*R*np.sin( theta ) * np.sin( phi )\n",
    "        z = np.cbrt(u)*R*np.cos( theta)\n",
    "        u,theta,phi = [None,None,None]\n",
    "        return np.c_[x,y,z]\n",
    "        \n",
    "    def cen_coord(self):\n",
    "        \"\"\"\n",
    "        Returns the coordinates of the central galaxies\n",
    "        \"\"\"\n",
    "        _cen = Occupy.central(self)\n",
    "        __nonzero = _cen.nonzero()\n",
    "        xcen = np.take(self.fout[\"x\"], __nonzero)\n",
    "        ycen = np.take(self.fout[\"y\"], __nonzero)\n",
    "        zcen = np.take(self.fout[\"z\"], __nonzero)\n",
    "        _cen = np.vstack([xcen,ycen,zcen]).T\n",
    "        xcen,ycen,zcen,__nonzero = [None,None,None,None]\n",
    "        return _cen\n",
    "    \n",
    "    def sat_coord(self):\n",
    "        \"\"\"\n",
    "        Returns the coordinates of the satellite galaxies.\n",
    "        Change the radius to Mpc\n",
    "        \"\"\"\n",
    "        _sat = Occupy.satellite(self)\n",
    "        _cen = Occupy.central(self)\n",
    "        __nonzero = _cen.nonzero()\n",
    "        _sat = np.take(_sat,__nonzero)\n",
    "        __nonzero = _sat.nonzero()\n",
    "        _cen = [None]\n",
    "        virial_radius = np.take(self.fout[\"r1\"], __nonzero)/1000.\n",
    "        xsat = np.take(self.fout[\"x\"],__nonzero)\n",
    "        ysat = np.take(self.fout[\"y\"],__nonzero)\n",
    "        zsat = np.take(self.fout[\"z\"],__nonzero)\n",
    "        _sat = np.take(_sat,__nonzero)\n",
    "        print (_sat.shape)\n",
    "        xyz_sat = np.vstack([xsat,ysat,zsat]).T\n",
    "        xyz_sat = np.repeat(xyz_sat,_sat[0],axis=0)\n",
    "        print (xyz_sat)\n",
    "        xsat,ysat,zsat,__nonzero = [None,None,None,None]\n",
    "        xyz = [Coordinates.sphere_coordinates(self,i,j) for i,j in zip(_sat[0],virial_radius[0])]\n",
    "        radius,__nonzero = [None,None]\n",
    "        _sat = np.vstack((xyz)) + xyz_sat\n",
    "        _sat = [_sat[i] for i in range(_sat.shape[0]) if len(np.where((_sat[i]>=0.) & (_sat[i]<=2500.))[0])==3]\n",
    "        return np.vstack(_sat)\n",
    "    \n",
    "    def galaxy_coordinates(self):\n",
    "        \"\"\"\n",
    "        Returns the combined galaxy coordinates of satellite and central galaxies\n",
    "        \"\"\"\n",
    "        return np.vstack((Coordinates.cen_coord(self),Coordinates.sat_coord(self)))\n",
    "\n",
    "def fiducial(num = 600, path = '/home/ajana/mockHOD/'):\n",
    "    \"\"\"\n",
    "    num - Number of files to be generated\n",
    "    \"\"\"\n",
    "    global HODpar\n",
    "    global key\n",
    "    global filename\n",
    "\n",
    "    for i in range(num):\n",
    "        par = {key[j]:HODpar[0][j] for j in range(len(key))}\n",
    "        print ('Loading file...')\n",
    "        occupy = Coordinates(par,filename)\n",
    "        print ('File loaded!')\n",
    "        tic = time.time()\n",
    "        print ('Calculating coordinates...')\n",
    "        coordinates = occupy.galaxy_coordinates()\n",
    "        np.save(os.path.join(path,f'MDgalaxies_{i:04d}.npy'),coordinates.astype('float16'))\n",
    "        print ('Done!')\n",
    "        print (f'Total number of galaxies = {coordinates.shape[0]}')\n",
    "        print (f'Total time = {time.time()-tic}')\n",
    "    gc.collect()\n",
    "\n",
    "def mock(path = \"/home/ajana/mockHOD\"):\n",
    "    global HODpar\n",
    "    global key\n",
    "    global filename\n",
    "\n",
    "    rows = HODpar.shape[0]\n",
    "    for i in range(1):\n",
    "        par = {key[j]:HODpar[i][j] for j in range(len(key))}\n",
    "        print ('Loading file...')\n",
    "        occupy = Coordinates(par,filename)\n",
    "        print ('File loaded!')\n",
    "        tic = time.time()\n",
    "        print ('Calculating coordinates...')\n",
    "        coordinates = occupy.galaxy_coordinates()\n",
    "        np.save(os.path.join(path,f'galaxies_{i:04d}.npy'),coordinates.astype('float16'))\n",
    "        print ('Done!')\n",
    "        print (f'Total number of galaxies = {coordinates.shape[0]}')\n",
    "        print (f'Total time = {time.time()-tic}')\n",
    "    gc.collect()\n",
    "\n",
    "key = [\"M_cut\",\"M1\" ,\"sigma\", \"kappa\", \"alpha\"]\n",
    "HODpar = np.loadtxt(\"parameters.txt\")\n",
    "path = '/home/ajana/mockHOD'"
   ]
  },
  {
   "cell_type": "code",
   "execution_count": 24,
   "metadata": {},
   "outputs": [],
   "source": [
    "par = {key[j]:HODpar[0][j] for j in range(len(key))}\n",
    "model = Occupy(par,filename)"
   ]
  },
  {
   "cell_type": "code",
   "execution_count": 3,
   "metadata": {},
   "outputs": [],
   "source": [
    "cen = model.central()"
   ]
  },
  {
   "cell_type": "code",
   "execution_count": 8,
   "metadata": {},
   "outputs": [],
   "source": [
    "sat = model.satellite()\n",
    "sat[np.where(sat>1)] = 1"
   ]
  },
  {
   "cell_type": "code",
   "execution_count": 16,
   "metadata": {},
   "outputs": [
    {
     "data": {
      "text/plain": [
       "(176330227, 176330227)"
      ]
     },
     "execution_count": 16,
     "metadata": {},
     "output_type": "execute_result"
    }
   ],
   "source": [
    "len(cen),len(sat)"
   ]
  },
  {
   "cell_type": "code",
   "execution_count": 5,
   "metadata": {},
   "outputs": [],
   "source": [
    "import matplotlib.pyplot as plt"
   ]
  },
  {
   "cell_type": "code",
   "execution_count": 11,
   "metadata": {},
   "outputs": [
    {
     "data": {
      "text/plain": [
       "[<matplotlib.lines.Line2D at 0x7fd5dea22e50>]"
      ]
     },
     "execution_count": 11,
     "metadata": {},
     "output_type": "execute_result"
    },
    {
     "data": {
      "image/png": "[encoded data removed]",
      "text/plain": [
       "<Figure size 432x288 with 1 Axes>"
      ]
     },
     "metadata": {
      "needs_background": "light"
     },
     "output_type": "display_data"
    }
   ],
   "source": [
    "plt.plot(range(50),cen[:50],'o')"
   ]
  },
  {
   "cell_type": "code",
   "execution_count": 12,
   "metadata": {},
   "outputs": [
    {
     "data": {
      "text/plain": [
       "[<matplotlib.lines.Line2D at 0x7fd5de995250>]"
      ]
     },
     "execution_count": 12,
     "metadata": {},
     "output_type": "execute_result"
    },
    {
     "data": {
      "image/png": "[encoded data removed]",
      "text/plain": [
       "<Figure size 432x288 with 1 Axes>"
      ]
     },
     "metadata": {
      "needs_background": "light"
     },
     "output_type": "display_data"
    }
   ],
   "source": [
    "plt.plot(range(50),sat[:50],'o')"
   ]
  },
  {
   "cell_type": "code",
   "execution_count": 17,
   "metadata": {},
   "outputs": [],
   "source": [
    "a = np.array([1,0,0,0,0,1,1])\n",
    "b = np.array([1,1,1,0,0,0,1])"
   ]
  },
  {
   "cell_type": "code",
   "execution_count": 19,
   "metadata": {},
   "outputs": [],
   "source": [
    "b = np.take(b, a.nonzero())"
   ]
  },
  {
   "cell_type": "code",
   "execution_count": 28,
   "metadata": {},
   "outputs": [],
   "source": [
    "coor = Coordinates(par,filename)"
   ]
  },
  {
   "cell_type": "code",
   "execution_count": 29,
   "metadata": {},
   "outputs": [
    {
     "name": "stdout",
     "output_type": "stream",
     "text": [
      "[[  83.35796   83.35796  105.57743  105.57743  109.70546  109.70546]\n",
      " [  83.35796   83.35796  105.57743  105.57743  109.70546  109.70546]\n",
      " [  83.35796   83.35796  105.57743  105.57743  109.70546  109.70546]\n",
      " ...\n",
      " [  83.35796  446.67252  105.57743 1275.15698  109.70546  458.20398]\n",
      " [  83.35796  446.67252  105.57743 1275.15698  109.70546  458.20398]\n",
      " [  83.35796  446.67252  105.57743 1275.15698  109.70546  458.20398]]\n"
     ]
    },
    {
     "ename": "ValueError",
     "evalue": "operands could not be broadcast together with shapes (1481856,3) (1481856,6) ",
     "output_type": "error",
     "traceback": [
      "\u001b[0;31m---------------------------------------------------------------------------\u001b[0m",
      "\u001b[0;31mValueError\u001b[0m                                Traceback (most recent call last)",
      "\u001b[0;32m<ipython-input-29-5ec65b084873>\u001b[0m in \u001b[0;36m<module>\u001b[0;34m\u001b[0m\n\u001b[0;32m----> 1\u001b[0;31m \u001b[0mcoor\u001b[0m\u001b[0;34m.\u001b[0m\u001b[0msat_coord\u001b[0m\u001b[0;34m(\u001b[0m\u001b[0;34m)\u001b[0m\u001b[0;34m\u001b[0m\u001b[0;34m\u001b[0m\u001b[0m\n\u001b[0m",
      "\u001b[0;32m<ipython-input-27-4b5dca733b92>\u001b[0m in \u001b[0;36msat_coord\u001b[0;34m(self)\u001b[0m\n\u001b[1;32m    109\u001b[0m         \u001b[0mxyz\u001b[0m \u001b[0;34m=\u001b[0m \u001b[0;34m[\u001b[0m\u001b[0mCoordinates\u001b[0m\u001b[0;34m.\u001b[0m\u001b[0msphere_coordinates\u001b[0m\u001b[0;34m(\u001b[0m\u001b[0mself\u001b[0m\u001b[0;34m,\u001b[0m\u001b[0mi\u001b[0m\u001b[0;34m,\u001b[0m\u001b[0mj\u001b[0m\u001b[0;34m)\u001b[0m \u001b[0;32mfor\u001b[0m \u001b[0mi\u001b[0m\u001b[0;34m,\u001b[0m\u001b[0mj\u001b[0m \u001b[0;32min\u001b[0m \u001b[0mzip\u001b[0m\u001b[0;34m(\u001b[0m\u001b[0m_sat\u001b[0m\u001b[0;34m[\u001b[0m\u001b[0;36m0\u001b[0m\u001b[0;34m]\u001b[0m\u001b[0;34m,\u001b[0m\u001b[0mvirial_radius\u001b[0m\u001b[0;34m[\u001b[0m\u001b[0;36m0\u001b[0m\u001b[0;34m]\u001b[0m\u001b[0;34m)\u001b[0m\u001b[0;34m]\u001b[0m\u001b[0;34m\u001b[0m\u001b[0;34m\u001b[0m\u001b[0m\n\u001b[1;32m    110\u001b[0m         \u001b[0mradius\u001b[0m\u001b[0;34m,\u001b[0m\u001b[0m__nonzero\u001b[0m \u001b[0;34m=\u001b[0m \u001b[0;34m[\u001b[0m\u001b[0;32mNone\u001b[0m\u001b[0;34m,\u001b[0m\u001b[0;32mNone\u001b[0m\u001b[0;34m]\u001b[0m\u001b[0;34m\u001b[0m\u001b[0;34m\u001b[0m\u001b[0m\n\u001b[0;32m--> 111\u001b[0;31m         \u001b[0m_sat\u001b[0m \u001b[0;34m=\u001b[0m \u001b[0mnp\u001b[0m\u001b[0;34m.\u001b[0m\u001b[0mvstack\u001b[0m\u001b[0;34m(\u001b[0m\u001b[0;34m(\u001b[0m\u001b[0mxyz\u001b[0m\u001b[0;34m)\u001b[0m\u001b[0;34m)\u001b[0m \u001b[0;34m+\u001b[0m \u001b[0mxyz_sat\u001b[0m\u001b[0;34m\u001b[0m\u001b[0;34m\u001b[0m\u001b[0m\n\u001b[0m\u001b[1;32m    112\u001b[0m         \u001b[0m_sat\u001b[0m \u001b[0;34m=\u001b[0m \u001b[0;34m[\u001b[0m\u001b[0m_sat\u001b[0m\u001b[0;34m[\u001b[0m\u001b[0mi\u001b[0m\u001b[0;34m]\u001b[0m \u001b[0;32mfor\u001b[0m \u001b[0mi\u001b[0m \u001b[0;32min\u001b[0m \u001b[0mrange\u001b[0m\u001b[0;34m(\u001b[0m\u001b[0m_sat\u001b[0m\u001b[0;34m.\u001b[0m\u001b[0mshape\u001b[0m\u001b[0;34m[\u001b[0m\u001b[0;36m0\u001b[0m\u001b[0;34m]\u001b[0m\u001b[0;34m)\u001b[0m \u001b[0;32mif\u001b[0m \u001b[0mlen\u001b[0m\u001b[0;34m(\u001b[0m\u001b[0mnp\u001b[0m\u001b[0;34m.\u001b[0m\u001b[0mwhere\u001b[0m\u001b[0;34m(\u001b[0m\u001b[0;34m(\u001b[0m\u001b[0m_sat\u001b[0m\u001b[0;34m[\u001b[0m\u001b[0mi\u001b[0m\u001b[0;34m]\u001b[0m\u001b[0;34m>=\u001b[0m\u001b[0;36m0.\u001b[0m\u001b[0;34m)\u001b[0m \u001b[0;34m&\u001b[0m \u001b[0;34m(\u001b[0m\u001b[0m_sat\u001b[0m\u001b[0;34m[\u001b[0m\u001b[0mi\u001b[0m\u001b[0;34m]\u001b[0m\u001b[0;34m<=\u001b[0m\u001b[0;36m2500.\u001b[0m\u001b[0;34m)\u001b[0m\u001b[0;34m)\u001b[0m\u001b[0;34m[\u001b[0m\u001b[0;36m0\u001b[0m\u001b[0;34m]\u001b[0m\u001b[0;34m)\u001b[0m\u001b[0;34m==\u001b[0m\u001b[0;36m3\u001b[0m\u001b[0;34m]\u001b[0m\u001b[0;34m\u001b[0m\u001b[0;34m\u001b[0m\u001b[0m\n\u001b[1;32m    113\u001b[0m         \u001b[0;32mreturn\u001b[0m \u001b[0mnp\u001b[0m\u001b[0;34m.\u001b[0m\u001b[0mvstack\u001b[0m\u001b[0;34m(\u001b[0m\u001b[0m_sat\u001b[0m\u001b[0;34m)\u001b[0m\u001b[0;34m\u001b[0m\u001b[0;34m\u001b[0m\u001b[0m\n",
      "\u001b[0;31mValueError\u001b[0m: operands could not be broadcast together with shapes (1481856,3) (1481856,6) "
     ]
    }
   ],
   "source": [
    "coor.sat_coord()"
   ]
  },
  {
   "cell_type": "code",
   "execution_count": 30,
   "metadata": {},
   "outputs": [
    {
     "data": {
      "text/plain": [
       "array([1, 0, 0, 0, 0, 1, 1])"
      ]
     },
     "execution_count": 30,
     "metadata": {},
     "output_type": "execute_result"
    }
   ],
   "source": [
    "np.repeat()"
   ]
  },
  {
   "cell_type": "code",
   "execution_count": null,
   "metadata": {},
   "outputs": [],
   "source": []
  }
 ],
 "metadata": {
  "kernelspec": {
   "display_name": "Python 3",
   "language": "python",
   "name": "python3"
  },
  "language_info": {
   "codemirror_mode": {
    "name": "ipython",
    "version": 3
   },
   "file_extension": ".py",
   "mimetype": "text/x-python",
   "name": "python",
   "nbconvert_exporter": "python",
   "pygments_lexer": "ipython3",
   "version": "3.7.5"
  }
 },
 "nbformat": 4,
 "nbformat_minor": 2
}
